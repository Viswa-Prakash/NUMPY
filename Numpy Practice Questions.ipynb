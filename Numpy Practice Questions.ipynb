{
 "cells": [
  {
   "cell_type": "markdown",
   "metadata": {
    "id": "UnMqxuQqPFfL"
   },
   "source": [
    "# Practice Questions Set 1"
   ]
  },
  {
   "cell_type": "markdown",
   "metadata": {
    "id": "KUt07ALjF1RF"
   },
   "source": [
    "#### 1.How to create an empty and a full NumPy array?"
   ]
  },
  {
   "cell_type": "code",
   "execution_count": null,
   "metadata": {
    "colab": {
     "base_uri": "https://localhost:8080/"
    },
    "id": "WldgsY0EF1RJ",
    "outputId": "d3b100c2-e843-4a27-e00f-944099d10f01"
   },
   "outputs": [
    {
     "name": "stdout",
     "output_type": "stream",
     "text": [
      "Empty Array\n",
      "[[10 11 12 13]\n",
      " [14 15 16 17]\n",
      " [18 19 20 21]]\n",
      "\n",
      " Full Array\n",
      "[[55 55 55]\n",
      " [55 55 55]\n",
      " [55 55 55]]\n"
     ]
    }
   ],
   "source": [
    "import numpy as np\n",
    "  \n",
    "  \n",
    "#Create an empty array\n",
    "empa = np.empty((3, 4), dtype=int)\n",
    "print(\"Empty Array\")\n",
    "print(empa)\n",
    "  \n",
    "# Create a full array\n",
    "flla = np.full([3, 3], 55, dtype=int)\n",
    "print(\"\\n Full Array\")\n",
    "print(flla)"
   ]
  },
  {
   "cell_type": "markdown",
   "metadata": {
    "id": "96ebxSUrF1RK"
   },
   "source": [
    "#### 2.Create a Numpy array filled with all zeros | Python"
   ]
  },
  {
   "cell_type": "code",
   "execution_count": null,
   "metadata": {
    "colab": {
     "base_uri": "https://localhost:8080/"
    },
    "id": "-XZj2D3PF1RL",
    "outputId": "58c10688-c6fa-40fd-9cef-8e6cd3d6a310"
   },
   "outputs": [
    {
     "name": "stdout",
     "output_type": "stream",
     "text": [
      "Matrix a : \n",
      " [0 0 0]\n",
      "\n",
      "Matrix b : \n",
      " [[0 0 0]\n",
      " [0 0 0]\n",
      " [0 0 0]]\n"
     ]
    }
   ],
   "source": [
    "import numpy as np \n",
    "  \n",
    "a = np.zeros(3, dtype = int) \n",
    "print(\"Matrix a : \\n\", a) \n",
    "  \n",
    "b = np.zeros([3, 3], dtype = int) \n",
    "print(\"\\nMatrix b : \\n\", b) "
   ]
  },
  {
   "cell_type": "markdown",
   "metadata": {
    "id": "XZBhngA5F1RL"
   },
   "source": [
    "#### 3.Create a Numpy array filled with all ones"
   ]
  },
  {
   "cell_type": "code",
   "execution_count": null,
   "metadata": {
    "colab": {
     "base_uri": "https://localhost:8080/"
    },
    "id": "XRgtZmMwF1RM",
    "outputId": "d194ee64-2679-4a7f-e352-99ec17de90b2"
   },
   "outputs": [
    {
     "name": "stdout",
     "output_type": "stream",
     "text": [
      "Matrix a : \n",
      " [1 1 1]\n",
      "\n",
      "Matrix b : \n",
      " [[1 1 1]\n",
      " [1 1 1]\n",
      " [1 1 1]]\n"
     ]
    }
   ],
   "source": [
    "import numpy as np\n",
    "  \n",
    "a = np.ones(3, dtype = int) \n",
    "print(\"Matrix a : \\n\", a) \n",
    "  \n",
    "b = np.ones([3, 3], dtype = int) \n",
    "print(\"\\nMatrix b : \\n\", b) "
   ]
  },
  {
   "cell_type": "markdown",
   "metadata": {
    "id": "qj9GekeBF1RM"
   },
   "source": [
    "#### 4.Check whether a Numpy array contains a specified row"
   ]
  },
  {
   "cell_type": "code",
   "execution_count": null,
   "metadata": {
    "colab": {
     "base_uri": "https://localhost:8080/"
    },
    "id": "vHLAOjeyF1RN",
    "outputId": "56eef1f8-68f4-4de3-8242-1cca6e396aac"
   },
   "outputs": [
    {
     "name": "stdout",
     "output_type": "stream",
     "text": [
      "[[ 1  2  3  4  5]\n",
      " [ 6  7  8  9 10]\n",
      " [11 12 13 14 15]\n",
      " [16 17 18 19 20]]\n",
      "True\n",
      "False\n",
      "False\n",
      "True\n"
     ]
    }
   ],
   "source": [
    "import numpy\n",
    "  \n",
    "# create numpy array\n",
    "arr = numpy.array([[1, 2, 3, 4, 5],\n",
    "                   [6, 7, 8, 9, 10],\n",
    "                   [11, 12, 13, 14, 15],\n",
    "                   [16, 17, 18, 19, 20]\n",
    "                   ])\n",
    "  \n",
    "# view array\n",
    "print(arr)\n",
    "  \n",
    "# check for some lists\n",
    "print([1, 2, 3, 4, 5] in arr.tolist())\n",
    "print([16, 17, 20, 19, 18] in arr.tolist())\n",
    "print([3, 2, 5, -4, 5] in arr.tolist())\n",
    "print([11, 12, 13, 14, 15] in arr.tolist())"
   ]
  },
  {
   "cell_type": "markdown",
   "metadata": {
    "id": "fSPoJXYgF1RO"
   },
   "source": [
    "#### 5.Code to Remove rows in Numpy array that contains non-numeric values?"
   ]
  },
  {
   "cell_type": "code",
   "execution_count": null,
   "metadata": {
    "colab": {
     "base_uri": "https://localhost:8080/"
    },
    "id": "M8YzHVtmF1RO",
    "outputId": "d773b98a-0c79-43cb-b89a-31032aa00ea8"
   },
   "outputs": [
    {
     "name": "stdout",
     "output_type": "stream",
     "text": [
      "Given array:\n",
      "[[10.5  22.5   3.8   5.  ]\n",
      " [23.45 50.   78.7   3.5 ]\n",
      " [41.     nan   nan  0.  ]\n",
      " [20.   50.2    nan  2.5 ]\n",
      " [18.8  50.6   8.8  58.6 ]]\n",
      "\n",
      "Remove all rows containing non-numeric elements\n",
      "[[10.5  22.5   3.8   5.  ]\n",
      " [23.45 50.   78.7   3.5 ]\n",
      " [18.8  50.6   8.8  58.6 ]]\n"
     ]
    }
   ],
   "source": [
    "import numpy as np\n",
    "  \n",
    "# Creating 5X4 2-D Numpy array\n",
    "n_arr = np.array([[10.5, 22.5, 3.8, 5],\n",
    "                  [23.45, 50, 78.7, 3.5],\n",
    "                  [41, np.nan, np.nan, 0],\n",
    "                  [20, 50.20, np.nan, 2.5],\n",
    "                  [18.8, 50.60, 8.8, 58.6]])\n",
    "  \n",
    "print(\"Given array:\")\n",
    "print(n_arr)\n",
    "  \n",
    "print(\"\\nRemove all rows containing non-numeric elements\")\n",
    "print(n_arr[~np.isnan(n_arr).any(axis=1)])"
   ]
  },
  {
   "cell_type": "markdown",
   "metadata": {
    "id": "iSolFlpIF1RP"
   },
   "source": [
    "#### 6.Find the number of occurrences of a sequence in a NumPy array"
   ]
  },
  {
   "cell_type": "code",
   "execution_count": null,
   "metadata": {
    "colab": {
     "base_uri": "https://localhost:8080/"
    },
    "id": "l1TUBPApF1RP",
    "outputId": "4452ae73-86d8-44df-f52a-f82fdaf60017"
   },
   "outputs": [
    {
     "name": "stdout",
     "output_type": "stream",
     "text": [
      "4\n"
     ]
    }
   ],
   "source": [
    "import numpy\n",
    "  \n",
    "# create numpy array\n",
    "arr = numpy.array([[2, 8, 9, 4], \n",
    "                   [9, 4, 9, 4],\n",
    "                   [4, 5, 9, 7],\n",
    "                   [2, 9, 4, 3]])\n",
    "  \n",
    "# Counting sequence\n",
    "output = repr(arr).count(\"9, 4\")\n",
    "  \n",
    "# view output\n",
    "print(output) "
   ]
  },
  {
   "cell_type": "markdown",
   "metadata": {
    "id": "kJ0fzcylF1RP"
   },
   "source": [
    "#### 7.Removing single-dimensional entries from the shape of array\n",
    "* numpy.squeeze() function is used when we want to remove single-dimensional entries from the shape of an array."
   ]
  },
  {
   "cell_type": "code",
   "execution_count": null,
   "metadata": {
    "colab": {
     "base_uri": "https://localhost:8080/"
    },
    "id": "xgYGPN0QF1RQ",
    "outputId": "fbefb26a-3235-458d-97ce-91f9753aca47"
   },
   "outputs": [
    {
     "name": "stdout",
     "output_type": "stream",
     "text": [
      "Input array :  [[[2 2 2]\n",
      "  [2 2 2]]]\n",
      "Shape of input array :  (1, 2, 3)\n",
      "output squeezed array :  [[2 2 2]\n",
      " [2 2 2]]\n",
      "Shape of output array :  (2, 3)\n"
     ]
    }
   ],
   "source": [
    "import numpy as geek\n",
    "  \n",
    "in_arr = geek.array([[[2, 2, 2], [2, 2, 2]]])\n",
    "   \n",
    "print (\"Input array : \", in_arr) \n",
    "print(\"Shape of input array : \", in_arr.shape)  \n",
    "  \n",
    "out_arr = geek.squeeze(in_arr) \n",
    "  \n",
    "print (\"output squeezed array : \", out_arr)\n",
    "print(\"Shape of output array : \", out_arr.shape) "
   ]
  },
  {
   "cell_type": "markdown",
   "metadata": {
    "id": "_ETrw9f5F1RQ"
   },
   "source": [
    "#### 8.Find the most frequent value in a NumPy array"
   ]
  },
  {
   "cell_type": "code",
   "execution_count": null,
   "metadata": {
    "colab": {
     "base_uri": "https://localhost:8080/"
    },
    "id": "TST9YsTNF1RQ",
    "outputId": "46d21aa8-9fb0-426f-dacb-db102d1c5886"
   },
   "outputs": [
    {
     "name": "stdout",
     "output_type": "stream",
     "text": [
      "Original array:\n",
      "[1 2 3 4 5 1 2 1 1 1]\n",
      "Most frequent value in the above array:\n",
      "1\n"
     ]
    }
   ],
   "source": [
    "import numpy as np\n",
    "  \n",
    "  \n",
    "# create array\n",
    "x = np.array([1,2,3,4,5,1,2,1,1,1])\n",
    "print(\"Original array:\")\n",
    "print(x)\n",
    "  \n",
    "print(\"Most frequent value in the above array:\")\n",
    "print(np.bincount(x).argmax())"
   ]
  },
  {
   "cell_type": "markdown",
   "metadata": {
    "id": "MaY8iI-SF1RR"
   },
   "source": [
    "#### 9.Combining a one and a two-dimensional NumPy Array"
   ]
  },
  {
   "cell_type": "code",
   "execution_count": null,
   "metadata": {
    "colab": {
     "base_uri": "https://localhost:8080/"
    },
    "id": "-1GRzGKDF1RR",
    "outputId": "1f5f8457-fad2-4e3f-aaeb-207649ec8995"
   },
   "outputs": [
    {
     "name": "stdout",
     "output_type": "stream",
     "text": [
      "One dimensional array:\n",
      "[0 1 2 3 4]\n",
      "\n",
      "Two dimensional array:\n",
      "[[0 1 2 3 4]\n",
      " [5 6 7 8 9]]\n",
      "0:0\n",
      "1:1\n",
      "2:2\n",
      "3:3\n",
      "4:4\n",
      "0:5\n",
      "1:6\n",
      "2:7\n",
      "3:8\n",
      "4:9\n"
     ]
    }
   ],
   "source": [
    "import numpy as np\n",
    "  \n",
    "num_1d = np.arange(5)\n",
    "print(\"One dimensional array:\")\n",
    "print(num_1d)\n",
    "  \n",
    "num_2d = np.arange(10).reshape(2,5)\n",
    "print(\"\\nTwo dimensional array:\")\n",
    "print(num_2d)\n",
    "  \n",
    "# Combine 1-D and 2-D arrays and display \n",
    "# their elements using numpy.nditer() \n",
    "for a, b in np.nditer([num_1d, num_2d]):\n",
    "    print(\"%d:%d\" % (a, b),)"
   ]
  },
  {
   "cell_type": "markdown",
   "metadata": {
    "id": "EriAoPyjF1RR"
   },
   "source": [
    "#### 10.How to build an array of all combinations of two NumPy arrays?\n",
    "* Numpy meshgride():This function is used to create a rectangular grid out of two given one-dimensional arrays representing the Cartesian indexing or Matrix indexing"
   ]
  },
  {
   "cell_type": "code",
   "execution_count": null,
   "metadata": {
    "colab": {
     "base_uri": "https://localhost:8080/"
    },
    "id": "36o39PGpF1RR",
    "outputId": "15c6a35c-58a5-4852-f7eb-51dfc944f100"
   },
   "outputs": [
    {
     "name": "stdout",
     "output_type": "stream",
     "text": [
      "Array-1\n",
      "[1 2]\n",
      "\n",
      "Array-2\n",
      "[4 6]\n",
      "\n",
      "Combine array:\n",
      "[[1 4]\n",
      " [1 6]\n",
      " [2 4]\n",
      " [2 6]]\n"
     ]
    }
   ],
   "source": [
    "import numpy as np\n",
    "  \n",
    "# creating 2 numpy arrays\n",
    "array_1 = np.array([1, 2])\n",
    "array_2 = np.array([4, 6])\n",
    "  \n",
    "print(\"Array-1\")\n",
    "print(array_1)\n",
    "  \n",
    "print(\"\\nArray-2\")\n",
    "print(array_2)\n",
    "  \n",
    "# combination of elements of array_1 and array_2\n",
    "# using numpy.meshgrid().T.reshape()\n",
    "comb_array = np.array(np.meshgrid(array_1, array_2)).T.reshape(-1, 2)\n",
    "  \n",
    "print(\"\\nCombine array:\")\n",
    "print(comb_array)"
   ]
  },
  {
   "cell_type": "markdown",
   "metadata": {
    "id": "M9VCIBFYF1RS"
   },
   "source": [
    "#### 11.How to add a border around a NumPy array?\n",
    "* Numpy provides a function known as ‘numpy.pad()’ to construct the border. "
   ]
  },
  {
   "cell_type": "code",
   "execution_count": null,
   "metadata": {
    "colab": {
     "base_uri": "https://localhost:8080/"
    },
    "id": "8B2LxJROF1RS",
    "outputId": "0a76a723-f291-41e7-c5d6-134688456d36"
   },
   "outputs": [
    {
     "name": "stdout",
     "output_type": "stream",
     "text": [
      "Original array\n",
      "[[1. 1.]\n",
      " [1. 1.]]\n",
      "\n",
      "0 on the border and 1 inside the array\n",
      "[[0. 0. 0. 0.]\n",
      " [0. 1. 1. 0.]\n",
      " [0. 1. 1. 0.]\n",
      " [0. 0. 0. 0.]]\n"
     ]
    }
   ],
   "source": [
    "import numpy as np\n",
    "  \n",
    "# Creating a 2X2 Numpy matrix\n",
    "array = np.ones((2, 2))\n",
    "  \n",
    "print(\"Original array\")\n",
    "print(array)\n",
    "  \n",
    "print(\"\\n0 on the border and 1 inside the array\")\n",
    "  \n",
    "# constructing border of 0 around 2D identity matrix\n",
    "# using np.pad()\n",
    "array = np.pad(array, pad_width=1, mode='constant',\n",
    "               constant_values=0)\n",
    "  \n",
    "print(array)"
   ]
  },
  {
   "cell_type": "markdown",
   "metadata": {
    "id": "KPa2rN9OF1RS"
   },
   "source": [
    "#### 12.How to compare two NumPy arrays?"
   ]
  },
  {
   "cell_type": "code",
   "execution_count": null,
   "metadata": {
    "colab": {
     "base_uri": "https://localhost:8080/"
    },
    "id": "Mg-DZfwOF1RS",
    "outputId": "73e275d2-36c3-471e-bbfd-23284236fc6e"
   },
   "outputs": [
    {
     "name": "stdout",
     "output_type": "stream",
     "text": [
      "Array a:  [101  99  87]\n",
      "Array b:  [897  97 111]\n",
      "a > b\n",
      "[False  True False]\n",
      "a >= b\n",
      "[False  True False]\n",
      "a < b\n",
      "[ True False  True]\n",
      "a <= b\n",
      "[ True False  True]\n"
     ]
    }
   ],
   "source": [
    "import numpy as np\n",
    "  \n",
    "  \n",
    "a = np.array([101, 99, 87])\n",
    "b = np.array([897, 97, 111])\n",
    "  \n",
    "print(\"Array a: \", a)\n",
    "print(\"Array b: \", b)\n",
    "  \n",
    "print(\"a > b\")\n",
    "print(np.greater(a, b))\n",
    "  \n",
    "print(\"a >= b\")\n",
    "print(np.greater_equal(a, b))\n",
    "  \n",
    "print(\"a < b\")\n",
    "print(np.less(a, b))\n",
    "  \n",
    "print(\"a <= b\")\n",
    "print(np.less_equal(a, b))"
   ]
  },
  {
   "cell_type": "markdown",
   "metadata": {
    "id": "SHYkBvs-F1RT"
   },
   "source": [
    "#### 13.How to check whether specified values are present in NumPy array?"
   ]
  },
  {
   "cell_type": "code",
   "execution_count": null,
   "metadata": {
    "colab": {
     "base_uri": "https://localhost:8080/"
    },
    "id": "kt9-6nLkF1RT",
    "outputId": "d634d0cf-baf6-4449-b158-69cdfa53f64a"
   },
   "outputs": [
    {
     "name": "stdout",
     "output_type": "stream",
     "text": [
      "Given array:\n",
      "[[2 3 0]\n",
      " [4 1 6]]\n",
      "True\n",
      "True\n",
      "True\n",
      "False\n",
      "False\n"
     ]
    }
   ],
   "source": [
    "import numpy as np\n",
    "  \n",
    "# creating a Numpy array\n",
    "n_array = np.array([[2, 3, 0],\n",
    "                    [4, 1, 6]])\n",
    "  \n",
    "print(\"Given array:\")\n",
    "print(n_array)\n",
    "  \n",
    "# Checking whether specific values\n",
    "# are present in \"n_array\" or not\n",
    "print(2 in n_array)\n",
    "print(0 in n_array)\n",
    "print(6 in n_array)\n",
    "print(50 in n_array)\n",
    "print(10 in n_array)"
   ]
  },
  {
   "cell_type": "markdown",
   "metadata": {
    "id": "PzyyGbsBF1RT"
   },
   "source": [
    "#### 14.How to get all 2D diagonals of a 3D NumPy array?\n",
    "* Numpy.diagonal()::-->This function return specified diagonals from an n-dimensional array. \n",
    "\n"
   ]
  },
  {
   "cell_type": "code",
   "execution_count": null,
   "metadata": {
    "colab": {
     "base_uri": "https://localhost:8080/"
    },
    "id": "2UYp2VlEF1RT",
    "outputId": "60947fa4-80ac-47a2-d068-8799bf0ab29c"
   },
   "outputs": [
    {
     "name": "stdout",
     "output_type": "stream",
     "text": [
      "Original 3d array:\n",
      " [[[ 0  1  2  3]\n",
      "  [ 4  5  6  7]\n",
      "  [ 8  9 10 11]\n",
      "  [12 13 14 15]]\n",
      "\n",
      " [[16 17 18 19]\n",
      "  [20 21 22 23]\n",
      "  [24 25 26 27]\n",
      "  [28 29 30 31]]\n",
      "\n",
      " [[32 33 34 35]\n",
      "  [36 37 38 39]\n",
      "  [40 41 42 43]\n",
      "  [44 45 46 47]]]\n",
      "2d diagonal array:\n",
      " [[ 0  5 10 15]\n",
      " [16 21 26 31]\n",
      " [32 37 42 47]]\n"
     ]
    }
   ],
   "source": [
    "import numpy as np\n",
    "  \n",
    "# Create 3D-numpy array\n",
    "# of 4 rows and 4 columns\n",
    "arr = np.arange(3 * 4 * 4).reshape(3, 4, 4)\n",
    "  \n",
    "print(\"Original 3d array:\\n\", \n",
    "      arr)\n",
    "  \n",
    "# Create 2D diagonal array\n",
    "diag_arr = np.diagonal(arr, \n",
    "                       axis1 = 1,\n",
    "                       axis2 = 2)\n",
    "  \n",
    "print(\"2d diagonal array:\\n\", \n",
    "      diag_arr)"
   ]
  },
  {
   "cell_type": "markdown",
   "metadata": {
    "id": "6zFJUdHyF1RT"
   },
   "source": [
    "#### 15.Change data type of given numpy array"
   ]
  },
  {
   "cell_type": "code",
   "execution_count": null,
   "metadata": {
    "colab": {
     "base_uri": "https://localhost:8080/"
    },
    "id": "QnZOQXwMF1RT",
    "outputId": "dbb27cc6-2885-4b75-9254-9c587af7f8f4"
   },
   "outputs": [
    {
     "name": "stdout",
     "output_type": "stream",
     "text": [
      "[10 20 30 40 50]\n",
      "int64\n",
      "[10. 20. 30. 40. 50.]\n",
      "float64\n"
     ]
    }
   ],
   "source": [
    "import numpy as np\n",
    "  \n",
    "# Create a numpy array\n",
    "arr = np.array([10, 20, 30, 40, 50])\n",
    "  \n",
    "# Print the array\n",
    "print(arr)\n",
    "\n",
    "print(arr.dtype)\n",
    "\n",
    "arr = arr.astype('float64')\n",
    "  \n",
    "# Print the array after changing\n",
    "# the data type\n",
    "print(arr)\n",
    "  \n",
    "# Also print the data type\n",
    "print(arr.dtype)"
   ]
  },
  {
   "cell_type": "markdown",
   "metadata": {
    "id": "1I6lKE7ZF1RU"
   },
   "source": [
    "#### 16.Reverse a numpy array"
   ]
  },
  {
   "cell_type": "code",
   "execution_count": null,
   "metadata": {
    "colab": {
     "base_uri": "https://localhost:8080/"
    },
    "id": "1bbBYyAlF1RU",
    "outputId": "e2cde1c2-4d5c-418d-a769-45055e9f7c07"
   },
   "outputs": [
    {
     "name": "stdout",
     "output_type": "stream",
     "text": [
      "initial array [1 2 3 6 4 5]\n",
      "type of ini_array <class 'numpy.ndarray'>\n",
      "final array [5 4 6 3 2 1]\n"
     ]
    }
   ],
   "source": [
    "import numpy as np\n",
    "  \n",
    "# initialising numpy array\n",
    "ini_array = np.array([1, 2, 3, 6, 4, 5])\n",
    "  \n",
    "# printing initial ini_array\n",
    "print(\"initial array\", str(ini_array))\n",
    "  \n",
    "# printing type of ini_array\n",
    "print(\"type of ini_array\", type(ini_array))\n",
    "  \n",
    "# using shortcut method to reverse\n",
    "res = ini_array[::-1]\n",
    "  \n",
    "# printing result\n",
    "print(\"final array\", str(res))"
   ]
  },
  {
   "cell_type": "markdown",
   "metadata": {
    "id": "Nkps2d4iF1RU"
   },
   "source": [
    "#### 17.Find the sum of values in  a array"
   ]
  },
  {
   "cell_type": "code",
   "execution_count": null,
   "metadata": {
    "colab": {
     "base_uri": "https://localhost:8080/"
    },
    "id": "TgpWNsdRF1RU",
    "outputId": "324325ea-3e49-4deb-826d-aa38ff82daf8"
   },
   "outputs": [
    {
     "name": "stdout",
     "output_type": "stream",
     "text": [
      "20\n"
     ]
    }
   ],
   "source": [
    "import numpy as np\n",
    "             \n",
    "# make matrix with numpy\n",
    "tr = np.matrix('[4, 1; 12, 3]')\n",
    "             \n",
    "# applying matrix.sum() method\n",
    "g = tr.sum()\n",
    "   \n",
    "print(g)"
   ]
  },
  {
   "cell_type": "markdown",
   "metadata": {
    "id": "Ibh1lX3MF1RU"
   },
   "source": [
    "#### 18.Replace NumPy array elements that doesn’t satisfy the given condition"
   ]
  },
  {
   "cell_type": "code",
   "execution_count": null,
   "metadata": {
    "colab": {
     "base_uri": "https://localhost:8080/"
    },
    "id": "eJBCXNDmF1RV",
    "outputId": "3ee633f5-7b81-41c3-e5c3-4aab550cd6c6"
   },
   "outputs": [
    {
     "name": "stdout",
     "output_type": "stream",
     "text": [
      "Given array:\n",
      "[75.424 42.486 60.329]\n",
      "\n",
      "Replace all elements of array which are greater than 50. to 15.50\n",
      "New array :\n",
      "\n",
      "[15.5   42.486 15.5  ]\n"
     ]
    }
   ],
   "source": [
    "import numpy as np\n",
    "  \n",
    "# Creating a 1-D Numpy array\n",
    "n_arr = np.array([75.42436315, 42.48558583, 60.32924763])\n",
    "print(\"Given array:\")\n",
    "print(n_arr)\n",
    "  \n",
    "print(\"\\nReplace all elements of array which are greater than 50. to 15.50\")\n",
    "n_arr[n_arr > 50.] = 15.50\n",
    "  \n",
    "print(\"New array :\\n\")\n",
    "print(n_arr)"
   ]
  },
  {
   "cell_type": "markdown",
   "metadata": {
    "id": "CZRlZiYAF1RV"
   },
   "source": [
    "#### 19.Return the indices of element where the given condition is satisfied"
   ]
  },
  {
   "cell_type": "code",
   "execution_count": null,
   "metadata": {
    "colab": {
     "base_uri": "https://localhost:8080/"
    },
    "id": "6nNhQm3vF1RV",
    "outputId": "bc364948-0ec2-4526-9e1c-5ba51493a25c"
   },
   "outputs": [
    {
     "name": "stdout",
     "output_type": "stream",
     "text": [
      "[[1 2 3]\n",
      " [4 5 6]]\n",
      "Indices of elements <4\n",
      "(array([0, 0, 0]), array([0, 1, 2]))\n",
      "Elements which are <4\n",
      "[1 2 3]\n"
     ]
    }
   ],
   "source": [
    "import numpy as np\n",
    "  \n",
    "# a is an array of integers.\n",
    "a = np.array([[1, 2, 3], [4, 5, 6]])\n",
    "  \n",
    "print(a)\n",
    "  \n",
    "print ('Indices of elements <4')\n",
    "  \n",
    "b = np.where(a<4)\n",
    "print(b)\n",
    "  \n",
    "print(\"Elements which are <4\")\n",
    "print(a[b])"
   ]
  },
  {
   "cell_type": "markdown",
   "metadata": {
    "id": "6n0IJv41F1RV"
   },
   "source": [
    "#### 20.Replace NaN values with average of columns"
   ]
  },
  {
   "cell_type": "code",
   "execution_count": null,
   "metadata": {
    "colab": {
     "base_uri": "https://localhost:8080/"
    },
    "id": "7GfeCz2KF1RV",
    "outputId": "c3512efc-18e2-4ad0-f0c6-cb0130bdc8a0"
   },
   "outputs": [
    {
     "name": "stdout",
     "output_type": "stream",
     "text": [
      "initial array [[1.3 2.5 3.6 nan]\n",
      " [2.6 3.3 nan 5.5]\n",
      " [2.1 3.2 5.4 6.5]]\n",
      "columns mean [2.  3.  4.5 6. ]\n",
      "final array [[1.3 2.5 3.6 6. ]\n",
      " [2.6 3.3 4.5 5.5]\n",
      " [2.1 3.2 5.4 6.5]]\n"
     ]
    }
   ],
   "source": [
    "import numpy as np\n",
    "  \n",
    "# Initialising numpy array\n",
    "ini_array = np.array([[1.3, 2.5, 3.6, np.nan], \n",
    "                      [2.6, 3.3, np.nan, 5.5],\n",
    "                      [2.1, 3.2, 5.4, 6.5]])\n",
    "  \n",
    "# printing initial array\n",
    "print (\"initial array\", ini_array)\n",
    "  \n",
    "# column mean\n",
    "col_mean = np.nanmean(ini_array, axis = 0)\n",
    "  \n",
    "# printing column mean\n",
    "print (\"columns mean\", str(col_mean))\n",
    "  \n",
    "# find indices where nan value is present\n",
    "inds = np.where(np.isnan(ini_array))\n",
    "  \n",
    "# replace inds with avg of column\n",
    "ini_array[inds] = np.take(col_mean, inds[1])\n",
    "  \n",
    "# printing final array\n",
    "print (\"final array\", ini_array)"
   ]
  },
  {
   "cell_type": "markdown",
   "metadata": {
    "id": "1rau3V9OF1RV"
   },
   "source": [
    "#### 21.Replace negative value with zero in numpy array"
   ]
  },
  {
   "cell_type": "code",
   "execution_count": null,
   "metadata": {
    "colab": {
     "base_uri": "https://localhost:8080/"
    },
    "id": "NDedInYHF1RW",
    "outputId": "62983c63-7194-4e9c-b538-db1bff81e710"
   },
   "outputs": [
    {
     "name": "stdout",
     "output_type": "stream",
     "text": [
      "initial array [ 1  2 -3  4 -5 -6]\n",
      "New resulting array:  [1 2 0 4 0 0]\n"
     ]
    }
   ],
   "source": [
    "import numpy as np\n",
    "  \n",
    "ini_array1 = np.array([1, 2, -3, 4, -5, -6])\n",
    "  \n",
    "# printing initial arrays\n",
    "print(\"initial array\", ini_array1)\n",
    "  \n",
    "# code to replace all negative value with 0\n",
    "ini_array1[ini_array1<0] = 0\n",
    "  \n",
    "# printing result\n",
    "print(\"New resulting array: \", ini_array1)"
   ]
  },
  {
   "cell_type": "markdown",
   "metadata": {
    "id": "t117CXMnF1RW"
   },
   "source": [
    "#### 22.How to get values of an NumPy array at certain index positions?"
   ]
  },
  {
   "cell_type": "code",
   "execution_count": null,
   "metadata": {
    "colab": {
     "base_uri": "https://localhost:8080/"
    },
    "id": "G2aUYwtLF1RW",
    "outputId": "b81f7937-d0cb-43d5-99af-4ee303c44bb6"
   },
   "outputs": [
    {
     "name": "stdout",
     "output_type": "stream",
     "text": [
      "Array 1 :\n",
      "[11 10 22 30 33]\n",
      "Array 2 :\n",
      "[ 1 15 60]\n",
      "\n",
      "Take 1 and 15 from Array 2 and put them in1st and 5th position of Array 1\n",
      "Resultant Array :\n",
      "[ 1 10 22 30 15]\n"
     ]
    }
   ],
   "source": [
    "import numpy as np\n",
    "  \n",
    "# Creating 1-D Numpy array\n",
    "a1 = np.array([11, 10, 22, 30, 33])\n",
    "print(\"Array 1 :\")\n",
    "print(a1)\n",
    "  \n",
    "a2 = np.array([1, 15, 60])\n",
    "print(\"Array 2 :\")\n",
    "print(a2)\n",
    "  \n",
    "print(\"\\nTake 1 and 15 from Array 2 and put them in\\\n",
    "1st and 5th position of Array 1\")\n",
    "  \n",
    "a1.put([0, 4], a2)\n",
    "  \n",
    "print(\"Resultant Array :\")\n",
    "print(a1)"
   ]
  },
  {
   "cell_type": "markdown",
   "metadata": {
    "id": "IIlfaqitF1RW"
   },
   "source": [
    "#### 23.Find indices of elements equal to zero in a NumPy array"
   ]
  },
  {
   "cell_type": "code",
   "execution_count": null,
   "metadata": {
    "colab": {
     "base_uri": "https://localhost:8080/"
    },
    "id": "jE-SY0hWF1RW",
    "outputId": "30b7d202-bdc1-4c09-d5b7-d4c4b40f2828"
   },
   "outputs": [
    {
     "name": "stdout",
     "output_type": "stream",
     "text": [
      "Original array:\n",
      "[1 0 2 0 3 0 0 5 6 7 5 0 8]\n",
      "\n",
      "Indices of elements equal to zero of the given 1-D array:\n",
      "[ 1  3  5  6 11]\n"
     ]
    }
   ],
   "source": [
    "import numpy as np\n",
    "  \n",
    "# creating a 1-D Numpy array\n",
    "n_array = np.array([1, 0, 2, 0, 3, 0, 0, 5,\n",
    "                    6, 7, 5, 0, 8])\n",
    "  \n",
    "print(\"Original array:\")\n",
    "print(n_array)\n",
    "  \n",
    "# finding indices of null elements using np.where()\n",
    "print(\"\\nIndices of elements equal to zero of the \\\n",
    "given 1-D array:\")\n",
    "  \n",
    "res = np.where(n_array == 0)[0]\n",
    "print(res)"
   ]
  },
  {
   "cell_type": "markdown",
   "metadata": {
    "id": "UwzY_jaoF1RW"
   },
   "source": [
    "#### 24.Get row numbers of NumPy array having element larger than X"
   ]
  },
  {
   "cell_type": "code",
   "execution_count": null,
   "metadata": {
    "colab": {
     "base_uri": "https://localhost:8080/"
    },
    "id": "kpfOYNW3F1RX",
    "outputId": "c299a917-705b-4860-9279-14dd0e255f07"
   },
   "outputs": [
    {
     "name": "stdout",
     "output_type": "stream",
     "text": [
      "Given Array:\n",
      " [[ 1  2  3  4  5]\n",
      " [10 -3 30  4  5]\n",
      " [ 3  2  5 -4  5]\n",
      " [ 9  7  3  6  5]]\n",
      "Result:\n",
      " (array([1, 3]),)\n"
     ]
    }
   ],
   "source": [
    "import numpy\n",
    "  \n",
    "# create numpy array\n",
    "arr = numpy.array([[1, 2, 3, 4, 5],\n",
    "                  [10, -3, 30, 4, 5],\n",
    "                  [3, 2, 5, -4, 5],\n",
    "                  [9, 7, 3, 6, 5] \n",
    "                 ])\n",
    "  \n",
    "# declare specified value\n",
    "X = 6\n",
    "  \n",
    "# view array\n",
    "print(\"Given Array:\\n\", arr)\n",
    "  \n",
    "# finding out the row numbers\n",
    "output  = numpy.where(numpy.any(arr > X,\n",
    "                                axis = 1))\n",
    "  \n",
    "# view output\n",
    "print(\"Result:\\n\", output)"
   ]
  },
  {
   "cell_type": "markdown",
   "metadata": {
    "id": "sKQ72uXoF1RX"
   },
   "source": [
    "#### 25.fill daigonal value with x"
   ]
  },
  {
   "cell_type": "code",
   "execution_count": null,
   "metadata": {
    "colab": {
     "base_uri": "https://localhost:8080/"
    },
    "id": "aLQENRMgF1RX",
    "outputId": "fa03b55c-f072-4b73-d7a9-e0378380c452"
   },
   "outputs": [
    {
     "name": "stdout",
     "output_type": "stream",
     "text": [
      "[[5 2]\n",
      " [2 5]]\n"
     ]
    }
   ],
   "source": [
    "import numpy as np\n",
    "x=5  \n",
    "# using numpy.fill_diagonal() method\n",
    "array = np.array([[1, 2], [2, 1]])\n",
    "np.fill_diagonal(array, x)\n",
    "  \n",
    "print(array)"
   ]
  },
  {
   "cell_type": "markdown",
   "metadata": {
    "id": "jMvvrRJoF1RX"
   },
   "source": [
    "#### 26.Check element present in array or not \n",
    "* With the help of numpy.isin() method"
   ]
  },
  {
   "cell_type": "code",
   "execution_count": null,
   "metadata": {
    "colab": {
     "base_uri": "https://localhost:8080/"
    },
    "id": "xY8qIFUZF1RX",
    "outputId": "299d5547-83bf-475b-aaea-c74204a4904c"
   },
   "outputs": [
    {
     "name": "stdout",
     "output_type": "stream",
     "text": [
      "[ True False  True False  True]\n"
     ]
    }
   ],
   "source": [
    "import numpy as np\n",
    "  \n",
    "# using numpy.isin() method\n",
    "g1 = np.array([1, 2, 3, 4, 5])\n",
    "lis = [1, 3, 5]\n",
    "g = np.isin(g1, lis)\n",
    "  \n",
    "print(g)"
   ]
  },
  {
   "cell_type": "markdown",
   "metadata": {
    "id": "hxXd1ZE3F1RX"
   },
   "source": [
    "#### 27.Create a Numpy array with random values | Python"
   ]
  },
  {
   "cell_type": "code",
   "execution_count": null,
   "metadata": {
    "colab": {
     "base_uri": "https://localhost:8080/"
    },
    "id": "kU7y7tzBF1RX",
    "outputId": "3ca880c9-56c1-438c-9648-3fd27815b676"
   },
   "outputs": [
    {
     "name": "stdout",
     "output_type": "stream",
     "text": [
      "Matrix b : \n",
      " [3 2]\n",
      "\n",
      "Matrix a : \n",
      " [[4611686018427387904 4613937818241073152]\n",
      " [4616752568008179712 4618441417868443648]]\n"
     ]
    }
   ],
   "source": [
    "import numpy as np \n",
    "    \n",
    "b = np.empty(2, dtype = int) \n",
    "print(\"Matrix b : \\n\", b) \n",
    "    \n",
    "a = np.empty([2, 2], dtype = int) \n",
    "print(\"\\nMatrix a : \\n\", a) "
   ]
  },
  {
   "cell_type": "markdown",
   "metadata": {
    "id": "WOqG0Y_XF1RY"
   },
   "source": [
    "#### 28.How to choose elements from the list with different probability using NumPy?"
   ]
  },
  {
   "cell_type": "code",
   "execution_count": null,
   "metadata": {
    "colab": {
     "base_uri": "https://localhost:8080/"
    },
    "id": "ywZ-oVQ0F1RY",
    "outputId": "1505cd95-13d2-473e-8bda-86835dd5bfe6"
   },
   "outputs": [
    {
     "name": "stdout",
     "output_type": "stream",
     "text": [
      "50\n"
     ]
    }
   ],
   "source": [
    "import numpy as np\n",
    "  \n",
    "# create a list\n",
    "num_list = [10, 20, 30, 40, 50]\n",
    "  \n",
    "# uniformly select any element\n",
    "# from the list\n",
    "number = np.random.choice(num_list)\n",
    "  \n",
    "print(number)"
   ]
  },
  {
   "cell_type": "markdown",
   "metadata": {
    "id": "YJpwS7dfF1RY"
   },
   "source": [
    "#### 29.Create array with elements which follow normal distribution"
   ]
  },
  {
   "cell_type": "code",
   "execution_count": null,
   "metadata": {},
   "outputs": [],
   "source": [
    "import numpy as np\n",
    "a=np.random.randn(210,10,50)\n",
    "print(a)"
   ]
  },
  {
   "cell_type": "markdown",
   "metadata": {
    "id": "DcnqlSQxF1RY"
   },
   "source": [
    "#### 30.Generate Random Numbers From The Uniform Distribution using NumPy"
   ]
  },
  {
   "cell_type": "code",
   "execution_count": null,
   "metadata": {
    "colab": {
     "base_uri": "https://localhost:8080/"
    },
    "id": "b0AwSf-wF1RY",
    "outputId": "692132ed-8b46-4c34-db06-16a5f8cbf4ca"
   },
   "outputs": [
    {
     "name": "stdout",
     "output_type": "stream",
     "text": [
      "[0.619 0.189 0.973 0.264]\n"
     ]
    }
   ],
   "source": [
    "import numpy as np\n",
    "  \n",
    "  \n",
    "# numpy.random.uniform() method\n",
    "r = np.random.uniform(size=4)\n",
    "  \n",
    "print(r)"
   ]
  },
  {
   "cell_type": "markdown",
   "metadata": {
    "id": "v3Imsd80F1RY"
   },
   "source": [
    "#### 31.Repeat all the elements of a NumPy array of strings"
   ]
  },
  {
   "cell_type": "code",
   "execution_count": null,
   "metadata": {
    "colab": {
     "base_uri": "https://localhost:8080/"
    },
    "id": "gNIirsFyF1RZ",
    "outputId": "43555f57-d568-41b2-91bf-ff4f0e29f8ba"
   },
   "outputs": [
    {
     "name": "stdout",
     "output_type": "stream",
     "text": [
      "Original Array :\n",
      "['Akash' 'Rohit' 'Ayush' 'Dhruv' 'Radhika']\n",
      "\n",
      "New array :\n",
      "['AkashAkashAkash' 'RohitRohitRohit' 'AyushAyushAyush' 'DhruvDhruvDhruv'\n",
      " 'RadhikaRadhikaRadhika']\n"
     ]
    }
   ],
   "source": [
    "import numpy as np\n",
    "  \n",
    "# created array of strings\n",
    "arr = np.array(['Akash', 'Rohit', 'Ayush', \n",
    "                'Dhruv', 'Radhika'], dtype = np.str)\n",
    "print(\"Original Array :\")\n",
    "print(arr)\n",
    "  \n",
    "# with the help of np.char.multiply()\n",
    "# repeating the characters 3 times\n",
    "new_array = np.char.multiply(arr, 3)\n",
    "print(\"\\nNew array :\")\n",
    "print(new_array)"
   ]
  },
  {
   "cell_type": "markdown",
   "metadata": {
    "id": "jXxSIgs7F1RZ"
   },
   "source": [
    "#### 32.How to create a 1D array?"
   ]
  },
  {
   "cell_type": "code",
   "execution_count": null,
   "metadata": {
    "colab": {
     "base_uri": "https://localhost:8080/"
    },
    "id": "k_w05fOUF1RZ",
    "outputId": "0284c196-0049-49d1-a655-988fa57fb97f"
   },
   "outputs": [
    {
     "data": {
      "text/plain": [
       "array([0, 1, 2, 3, 4, 5, 6, 7, 8, 9])"
      ]
     },
     "execution_count": 222,
     "metadata": {},
     "output_type": "execute_result"
    }
   ],
   "source": [
    "arr = np.arange(10)\n",
    "arr"
   ]
  },
  {
   "cell_type": "markdown",
   "metadata": {
    "id": "ontU9EvRF1RZ"
   },
   "source": [
    "#### 33.How to create a boolean array?"
   ]
  },
  {
   "cell_type": "code",
   "execution_count": null,
   "metadata": {
    "colab": {
     "base_uri": "https://localhost:8080/"
    },
    "id": "8uPNWwTpF1RZ",
    "outputId": "2c26f033-ff1f-4915-82bf-98d87417668f"
   },
   "outputs": [
    {
     "data": {
      "text/plain": [
       "array([[ True,  True,  True],\n",
       "       [ True,  True,  True],\n",
       "       [ True,  True,  True]])"
      ]
     },
     "execution_count": 223,
     "metadata": {},
     "output_type": "execute_result"
    }
   ],
   "source": [
    "np.full((3, 3), True, dtype=bool)\n",
    "#> array([[ True,  True,  True],\n",
    "#>        [ True,  True,  True],\n",
    "#>        [ True,  True,  True]], dtype=bool)\n",
    "\n",
    "# Alternate method:\n",
    "np.ones((3,3), dtype=bool)"
   ]
  },
  {
   "cell_type": "markdown",
   "metadata": {
    "id": "LRHZQGtVF1RZ"
   },
   "source": [
    "#### 34.How to extract items that satisfy a given condition from 1D array?"
   ]
  },
  {
   "cell_type": "code",
   "execution_count": null,
   "metadata": {
    "colab": {
     "base_uri": "https://localhost:8080/"
    },
    "id": "qHci6CfaF1RZ",
    "outputId": "4baed663-7d5b-416e-8294-8747c9aaa6c2"
   },
   "outputs": [
    {
     "data": {
      "text/plain": [
       "array([1, 3, 5, 7, 9])"
      ]
     },
     "execution_count": 224,
     "metadata": {},
     "output_type": "execute_result"
    }
   ],
   "source": [
    "arr = np.array([0, 1, 2, 3, 4, 5, 6, 7, 8, 9])\n",
    "\n",
    "# Solution\n",
    "arr[arr % 2 == 1]\n",
    "#> array([1, 3, 5, 7, 9])"
   ]
  },
  {
   "cell_type": "markdown",
   "metadata": {
    "id": "d9vzPc0CF1Ra"
   },
   "source": [
    "#### 35.How to replace items that satisfy a condition with another value in numpy array?"
   ]
  },
  {
   "cell_type": "code",
   "execution_count": null,
   "metadata": {
    "colab": {
     "base_uri": "https://localhost:8080/"
    },
    "id": "CP3rY58HF1Ra",
    "outputId": "f1951ddf-8235-4ca3-e1fc-c340f5ac6ba5"
   },
   "outputs": [
    {
     "data": {
      "text/plain": [
       "array([ 0, -1,  2, -1,  4, -1,  6, -1,  8, -1])"
      ]
     },
     "execution_count": 225,
     "metadata": {},
     "output_type": "execute_result"
    }
   ],
   "source": [
    "arr[arr % 2 == 1] = -1\n",
    "arr\n",
    "#> array([ 0, -1,  2, -1,  4, -1,  6, -1,  8, -1])"
   ]
  },
  {
   "cell_type": "markdown",
   "metadata": {
    "id": "pJuGrHWTF1Ra"
   },
   "source": [
    "#### 36.How to replace items that satisfy a condition without affecting the original array?"
   ]
  },
  {
   "cell_type": "code",
   "execution_count": null,
   "metadata": {
    "colab": {
     "base_uri": "https://localhost:8080/"
    },
    "id": "kxjuM3NAF1Ra",
    "outputId": "5cf7cb1f-d113-44c6-eeae-a5864a4fcfbd"
   },
   "outputs": [
    {
     "name": "stdout",
     "output_type": "stream",
     "text": [
      "[0 1 2 3 4 5 6 7 8 9]\n"
     ]
    },
    {
     "data": {
      "text/plain": [
       "array([ 0, -1,  2, -1,  4, -1,  6, -1,  8, -1])"
      ]
     },
     "execution_count": 226,
     "metadata": {},
     "output_type": "execute_result"
    }
   ],
   "source": [
    "import numpy as np\n",
    "arr = np.arange(10)\n",
    "out = np.where(arr % 2 == 1, -1, arr)\n",
    "print(arr)\n",
    "out\n",
    "#> [0 1 2 3 4 5 6 7 8 9]\n",
    "np.array([ 0, -1,  2, -1,  4, -1,  6, -1,  8, -1])"
   ]
  },
  {
   "cell_type": "markdown",
   "metadata": {
    "id": "qmOijWLYF1Ra"
   },
   "source": [
    "#### 37. How to reshape an array?"
   ]
  },
  {
   "cell_type": "code",
   "execution_count": null,
   "metadata": {
    "colab": {
     "base_uri": "https://localhost:8080/"
    },
    "id": "G2pwtKMhF1Ra",
    "outputId": "17fdf986-a36a-4848-a0ba-04f87fd6c44a"
   },
   "outputs": [
    {
     "data": {
      "text/plain": [
       "array([[0, 1, 2, 3, 4],\n",
       "       [5, 6, 7, 8, 9]])"
      ]
     },
     "execution_count": 227,
     "metadata": {},
     "output_type": "execute_result"
    }
   ],
   "source": [
    "arr = np.arange(10)\n",
    "arr.reshape(2, 5)  # Setting to -1 automatically decides the number of cols\n",
    "#> array([[0, 1, 2, 3, 4],\n",
    "#>        [5, 6, 7, 8, 9]])"
   ]
  },
  {
   "cell_type": "markdown",
   "metadata": {
    "id": "nIj6fDwwF1Ra"
   },
   "source": [
    "##### 38.How to stack two arrays vertically?"
   ]
  },
  {
   "cell_type": "code",
   "execution_count": null,
   "metadata": {
    "colab": {
     "base_uri": "https://localhost:8080/"
    },
    "id": "L9qKoXkIF1Rb",
    "outputId": "acbb19fb-a30e-4edf-ee42-4669221e22e2"
   },
   "outputs": [
    {
     "data": {
      "text/plain": [
       "array([[0, 1, 2, 3, 4],\n",
       "       [5, 6, 7, 8, 9],\n",
       "       [1, 1, 1, 1, 1],\n",
       "       [1, 1, 1, 1, 1]])"
      ]
     },
     "execution_count": 228,
     "metadata": {},
     "output_type": "execute_result"
    }
   ],
   "source": [
    "a = np.arange(10).reshape(2,-1)\n",
    "b = np.repeat(1, 10).reshape(2,-1)\n",
    "\n",
    "# Answers\n",
    "# Method 1:\n",
    "np.concatenate([a, b], axis=0)\n",
    "\n",
    "# Method 2:\n",
    "np.vstack([a, b])\n",
    "\n",
    "# Method 3:\n",
    "np.r_[a, b]\n",
    "#> array([[0, 1, 2, 3, 4],\n",
    "#>        [5, 6, 7, 8, 9],\n",
    "#>        [1, 1, 1, 1, 1],\n",
    "#>        [1, 1, 1, 1, 1]])"
   ]
  },
  {
   "cell_type": "markdown",
   "metadata": {
    "id": "Y3t5bm5jF1Rb"
   },
   "source": [
    "#### 39.How to stack two arrays horizontally?"
   ]
  },
  {
   "cell_type": "code",
   "execution_count": null,
   "metadata": {
    "colab": {
     "base_uri": "https://localhost:8080/"
    },
    "id": "fNvK3wcYF1Rb",
    "outputId": "86725ecc-1fb5-44a3-c659-f6dc51a03a35"
   },
   "outputs": [
    {
     "data": {
      "text/plain": [
       "array([[0, 1, 2, 3, 4, 1, 1, 1, 1, 1],\n",
       "       [5, 6, 7, 8, 9, 1, 1, 1, 1, 1]])"
      ]
     },
     "execution_count": 229,
     "metadata": {},
     "output_type": "execute_result"
    }
   ],
   "source": [
    "a = np.arange(10).reshape(2,-1)\n",
    "b = np.repeat(1, 10).reshape(2,-1)\n",
    "\n",
    "# Answers\n",
    "# Method 1:\n",
    "np.concatenate([a, b], axis=1)\n",
    "\n",
    "# Method 2:\n",
    "np.hstack([a, b])\n",
    "\n",
    "# Method 3:\n",
    "np.c_[a, b]\n",
    "#> array([[0, 1, 2, 3, 4, 1, 1, 1, 1, 1],\n",
    "#>        [5, 6, 7, 8, 9, 1, 1, 1, 1, 1]])"
   ]
  },
  {
   "cell_type": "markdown",
   "metadata": {
    "id": "2N8IKlsAF1Rb"
   },
   "source": [
    "#### 40.How to generate custom sequences in numpy without hardcoding?"
   ]
  },
  {
   "cell_type": "code",
   "execution_count": null,
   "metadata": {
    "colab": {
     "base_uri": "https://localhost:8080/"
    },
    "id": "qtKg0DncF1Rb",
    "outputId": "25308fa0-ace9-4ad2-dfc8-43074590d360"
   },
   "outputs": [
    {
     "data": {
      "text/plain": [
       "array([1, 1, 1, 2, 2, 2, 3, 3, 3, 1, 2, 3, 1, 2, 3, 1, 2, 3])"
      ]
     },
     "execution_count": 230,
     "metadata": {},
     "output_type": "execute_result"
    }
   ],
   "source": [
    "a = np.array([1,2,3])\n",
    "np.r_[np.repeat(a, 3), np.tile(a, 3)]\n",
    "#> array([1, 1, 1, 2, 2, 2, 3, 3, 3, 1, 2, 3, 1, 2, 3, 1, 2, 3])"
   ]
  },
  {
   "cell_type": "markdown",
   "metadata": {
    "id": "cKuLagWGF1Rb"
   },
   "source": [
    "#### 41.How to get the common items between two python numpy arrays?"
   ]
  },
  {
   "cell_type": "code",
   "execution_count": null,
   "metadata": {
    "colab": {
     "base_uri": "https://localhost:8080/"
    },
    "id": "p0sHkY8tF1Rb",
    "outputId": "f02316ec-896e-4115-e463-1cee96fae308"
   },
   "outputs": [
    {
     "data": {
      "text/plain": [
       "array([2, 4])"
      ]
     },
     "execution_count": 231,
     "metadata": {},
     "output_type": "execute_result"
    }
   ],
   "source": [
    " a = np.array([1,2,3,2,3,4,3,4,5,6])\n",
    "b = np.array([7,2,10,2,7,4,9,4,9,8])\n",
    "np.intersect1d(a,b)"
   ]
  },
  {
   "cell_type": "markdown",
   "metadata": {
    "id": "pw47i-tmF1Rc"
   },
   "source": [
    "#### 42.How to remove from one array those items that exist in another?"
   ]
  },
  {
   "cell_type": "code",
   "execution_count": null,
   "metadata": {
    "colab": {
     "base_uri": "https://localhost:8080/"
    },
    "id": "V0qMJS9NF1Rc",
    "outputId": "608ef402-90df-44ed-a3b9-d73d82f2bb89"
   },
   "outputs": [
    {
     "data": {
      "text/plain": [
       "array([1, 2, 3, 4])"
      ]
     },
     "execution_count": 232,
     "metadata": {},
     "output_type": "execute_result"
    }
   ],
   "source": [
    "a = np.array([1,2,3,4,5])\n",
    "b = np.array([5,6,7,8,9])\n",
    "\n",
    "# From 'a' remove all of 'b'\n",
    "np.setdiff1d(a,b)\n",
    "#> array([1, 2, 3, 4])"
   ]
  },
  {
   "cell_type": "markdown",
   "metadata": {
    "id": "0VD20thLF1Rc"
   },
   "source": [
    "#### 43.How to get the positions where elements of two arrays match?"
   ]
  },
  {
   "cell_type": "code",
   "execution_count": null,
   "metadata": {
    "colab": {
     "base_uri": "https://localhost:8080/"
    },
    "id": "a56IhlDuF1Rc",
    "outputId": "42cc69d8-485e-48f9-d83c-68db7f068e37"
   },
   "outputs": [
    {
     "data": {
      "text/plain": [
       "(array([1, 3, 5, 7]),)"
      ]
     },
     "execution_count": 233,
     "metadata": {},
     "output_type": "execute_result"
    }
   ],
   "source": [
    "a = np.array([1,2,3,2,3,4,3,4,5,6])\n",
    "b = np.array([7,2,10,2,7,4,9,4,9,8])\n",
    "\n",
    "np.where(a == b)"
   ]
  },
  {
   "cell_type": "markdown",
   "metadata": {
    "id": "6nGlb5LKF1Rc"
   },
   "source": [
    "##### 45.How to extract all numbers between a given range from a numpy array?"
   ]
  },
  {
   "cell_type": "code",
   "execution_count": null,
   "metadata": {
    "colab": {
     "base_uri": "https://localhost:8080/"
    },
    "id": "j9-vQj80F1Rc",
    "outputId": "173d9445-a87d-4ac9-faac-d966963448a7"
   },
   "outputs": [
    {
     "data": {
      "text/plain": [
       "array([ 5,  6,  7,  8,  9, 10])"
      ]
     },
     "execution_count": 234,
     "metadata": {},
     "output_type": "execute_result"
    }
   ],
   "source": [
    "a = np.arange(15)\n",
    "\n",
    "# Method 1\n",
    "index = np.where((a >= 5) & (a <= 10))\n",
    "a[index]\n",
    "\n",
    "# Method 2:\n",
    "index = np.where(np.logical_and(a>=5, a<=10))\n",
    "a[index]\n",
    "#> (array([6, 9, 10]),)\n",
    "\n",
    "# Method 3: (thanks loganzk!)\n",
    "a[(a >= 5) & (a <= 10)]"
   ]
  },
  {
   "cell_type": "markdown",
   "metadata": {
    "id": "qQoOWU-oF1Rc"
   },
   "source": [
    "#### 46.How to make a python function that handles scalars to work on numpy arrays?"
   ]
  },
  {
   "cell_type": "code",
   "execution_count": null,
   "metadata": {
    "colab": {
     "base_uri": "https://localhost:8080/"
    },
    "id": "AtgoGgqFF1Rd",
    "outputId": "106ade4c-0101-42f5-dce3-0eea6f52f91a"
   },
   "outputs": [
    {
     "name": "stdout",
     "output_type": "stream",
     "text": [
      "Get the maximum of two items\n"
     ]
    },
    {
     "data": {
      "text/plain": [
       "5"
      ]
     },
     "execution_count": 235,
     "metadata": {},
     "output_type": "execute_result"
    }
   ],
   "source": [
    "def maxx(x, y):\n",
    "    print('Get the maximum of two items')\n",
    "    if x >= y:\n",
    "        return x\n",
    "    else:\n",
    "        return y\n",
    "\n",
    "maxx(1, 5)\n",
    "#> 5"
   ]
  },
  {
   "cell_type": "markdown",
   "metadata": {
    "id": "oU0EcXJrF1Rd"
   },
   "source": [
    "#### 47.How to swap two columns in a 2d numpy array?"
   ]
  },
  {
   "cell_type": "code",
   "execution_count": null,
   "metadata": {
    "colab": {
     "base_uri": "https://localhost:8080/"
    },
    "id": "bzMJeEj4F1Rd",
    "outputId": "2d7f2db7-8e42-4717-f8ae-576546bd9c64"
   },
   "outputs": [
    {
     "name": "stdout",
     "output_type": "stream",
     "text": [
      "[[0 1 2]\n",
      " [3 4 5]\n",
      " [6 7 8]]\n"
     ]
    },
    {
     "data": {
      "text/plain": [
       "array([[1, 0, 2],\n",
       "       [4, 3, 5],\n",
       "       [7, 6, 8]])"
      ]
     },
     "execution_count": 236,
     "metadata": {},
     "output_type": "execute_result"
    }
   ],
   "source": [
    "arr = np.arange(9).reshape(3,3)\n",
    "print(arr)\n",
    "\n",
    "# Solution\n",
    "arr[:, [1,0,2]]\n"
   ]
  },
  {
   "cell_type": "markdown",
   "metadata": {
    "id": "nEp1OBJGF1Rd"
   },
   "source": [
    "#### 48.How to swap two rows in a 2d numpy array?"
   ]
  },
  {
   "cell_type": "code",
   "execution_count": null,
   "metadata": {
    "colab": {
     "base_uri": "https://localhost:8080/"
    },
    "id": "Br-Pb19XF1Rd",
    "outputId": "0cff3724-5902-4a4f-872b-b0ded43ac5eb"
   },
   "outputs": [
    {
     "name": "stdout",
     "output_type": "stream",
     "text": [
      "[[0 1 2]\n",
      " [3 4 5]\n",
      " [6 7 8]]\n"
     ]
    },
    {
     "data": {
      "text/plain": [
       "array([[3, 4, 5],\n",
       "       [0, 1, 2],\n",
       "       [6, 7, 8]])"
      ]
     },
     "execution_count": 237,
     "metadata": {},
     "output_type": "execute_result"
    }
   ],
   "source": [
    "arr = np.arange(9).reshape(3,3)\n",
    "print(arr)\n",
    "\n",
    "# Solution\n",
    "arr[[1,0,2], :]\n",
    "#> array([[3, 4, 5],\n",
    "#>        [0, 1, 2],\n",
    "#>        [6, 7, 8]])"
   ]
  },
  {
   "cell_type": "markdown",
   "metadata": {
    "id": "ml2rOrUHF1Rd"
   },
   "source": [
    "##### 49. How to reverse the rows of a 2D array?"
   ]
  },
  {
   "cell_type": "code",
   "execution_count": null,
   "metadata": {
    "colab": {
     "base_uri": "https://localhost:8080/"
    },
    "id": "FzEXn8D8F1Rd",
    "outputId": "4429bc74-ba79-417f-c7f9-5d1929ffd9e3"
   },
   "outputs": [
    {
     "name": "stdout",
     "output_type": "stream",
     "text": [
      "[[0 1 2]\n",
      " [3 4 5]\n",
      " [6 7 8]]\n"
     ]
    },
    {
     "data": {
      "text/plain": [
       "array([[6, 7, 8],\n",
       "       [3, 4, 5],\n",
       "       [0, 1, 2]])"
      ]
     },
     "execution_count": 238,
     "metadata": {},
     "output_type": "execute_result"
    }
   ],
   "source": [
    "arr = np.arange(9).reshape(3,3)\n",
    "print(arr)\n",
    "# Solution\n",
    "arr[::-1]"
   ]
  },
  {
   "cell_type": "markdown",
   "metadata": {
    "id": "BRRCxD4YF1Rd"
   },
   "source": [
    "#### 50.How to reverse the columns of a 2D array?"
   ]
  },
  {
   "cell_type": "code",
   "execution_count": null,
   "metadata": {
    "colab": {
     "base_uri": "https://localhost:8080/"
    },
    "id": "52mtwkRGF1Re",
    "outputId": "b5318189-5245-48d5-b76e-94a47cd5f24b"
   },
   "outputs": [
    {
     "name": "stdout",
     "output_type": "stream",
     "text": [
      "[[0 1 2]\n",
      " [3 4 5]\n",
      " [6 7 8]]\n"
     ]
    },
    {
     "data": {
      "text/plain": [
       "array([[2, 1, 0],\n",
       "       [5, 4, 3],\n",
       "       [8, 7, 6]])"
      ]
     },
     "execution_count": 239,
     "metadata": {},
     "output_type": "execute_result"
    }
   ],
   "source": [
    "arr = np.arange(9).reshape(3,3)\n",
    "print(arr)\n",
    "\n",
    "# Solution\n",
    "arr[:, ::-1]"
   ]
  },
  {
   "cell_type": "markdown",
   "metadata": {
    "id": "C3ZSQMtvF1Re"
   },
   "source": [
    "#### 51.How to create a 2D array containing random floats between 5 and 10?"
   ]
  },
  {
   "cell_type": "code",
   "execution_count": null,
   "metadata": {
    "colab": {
     "base_uri": "https://localhost:8080/"
    },
    "id": "FhKRCHRPF1Re",
    "outputId": "c800d1a5-124d-48ea-db9d-a6f3a5be67e8"
   },
   "outputs": [
    {
     "name": "stdout",
     "output_type": "stream",
     "text": [
      "[[7.125 9.973 7.162]\n",
      " [7.204 5.177 6.536]\n",
      " [7.606 5.06  6.836]\n",
      " [7.423 8.784 9.945]\n",
      " [6.307 9.129 7.741]]\n"
     ]
    }
   ],
   "source": [
    "arr = np.arange(9).reshape(3,3)\n",
    "\n",
    "# Solution Method 1:\n",
    "rand_arr = np.random.randint(low=5, high=10, size=(5,3)) + np.random.random((5,3))\n",
    "# print(rand_arr)\n",
    "\n",
    "# Solution Method 2:\n",
    "rand_arr = np.random.uniform(5,10, size=(5,3))\n",
    "print(rand_arr)"
   ]
  },
  {
   "cell_type": "markdown",
   "metadata": {
    "id": "TsObnkQuF1Re"
   },
   "source": [
    "#### 52.How to print only 3 decimal places in python numpy array?"
   ]
  },
  {
   "cell_type": "code",
   "execution_count": null,
   "metadata": {
    "colab": {
     "base_uri": "https://localhost:8080/"
    },
    "id": "FGD-9fjnF1Re",
    "outputId": "cab0a812-03d0-4b0b-f9e3-c9516c1db11d"
   },
   "outputs": [
    {
     "data": {
      "text/plain": [
       "array([[0.157, 0.365, 0.736],\n",
       "       [0.657, 0.359, 0.299],\n",
       "       [0.311, 0.939, 0.082],\n",
       "       [0.79 , 0.391, 0.488]])"
      ]
     },
     "execution_count": 241,
     "metadata": {},
     "output_type": "execute_result"
    }
   ],
   "source": [
    "rand_arr = np.random.random((5,3))\n",
    "\n",
    "# Create the random array\n",
    "rand_arr = np.random.random([5,3])\n",
    "\n",
    "# Limit to 3 decimal places\n",
    "np.set_printoptions(precision=3)\n",
    "rand_arr[:4]"
   ]
  },
  {
   "cell_type": "markdown",
   "metadata": {
    "id": "JTEsWE7fF1Re"
   },
   "source": [
    "#### 53.How to pretty print a numpy array by suppressing the scientific notation (like 1e10)?"
   ]
  },
  {
   "cell_type": "code",
   "execution_count": null,
   "metadata": {
    "colab": {
     "base_uri": "https://localhost:8080/"
    },
    "id": "TJ1-ptnoF1Re",
    "outputId": "b9f62582-5d7b-40b2-fe41-53177c5e1f66"
   },
   "outputs": [
    {
     "data": {
      "text/plain": [
       "array([ 0,  1,  2, ..., 12, 13, 14])"
      ]
     },
     "execution_count": 242,
     "metadata": {},
     "output_type": "execute_result"
    }
   ],
   "source": [
    "np.set_printoptions(threshold=6)\n",
    "a = np.arange(15)\n",
    "a"
   ]
  },
  {
   "cell_type": "markdown",
   "metadata": {
    "id": "oCb9f9tTF1Rf"
   },
   "source": [
    "#### 54. How to compute the mean, median, standard deviation of a numpy array?"
   ]
  },
  {
   "cell_type": "code",
   "execution_count": null,
   "metadata": {
    "colab": {
     "base_uri": "https://localhost:8080/"
    },
    "id": "miJG5pAfF1Rf",
    "outputId": "66fd97c0-4c31-4382-cdd9-868ca88f659e"
   },
   "outputs": [
    {
     "name": "stdout",
     "output_type": "stream",
     "text": [
      "-0.0021003534273936757 0.0031421103948110346 0.9920645108442112\n"
     ]
    }
   ],
   "source": [
    "x=np.random.randn(20,16,50)\n",
    "x_mean=np.mean(x)\n",
    "x_median=np.median(x)\n",
    "x_std=np.std(x)\n",
    "print(x_mean,x_median,x_std)"
   ]
  },
  {
   "cell_type": "markdown",
   "metadata": {
    "id": "uelR45-CF1Rf"
   },
   "source": [
    "#### 55.Create a 4X2 integer array and Prints its attributes"
   ]
  },
  {
   "cell_type": "code",
   "execution_count": null,
   "metadata": {
    "colab": {
     "base_uri": "https://localhost:8080/"
    },
    "id": "xO41Cfk6F1Rf",
    "outputId": "b3d598bf-0b50-4a91-9508-25c3832027f2"
   },
   "outputs": [
    {
     "name": "stdout",
     "output_type": "stream",
     "text": [
      "Printing Array\n",
      "[[5 0]\n",
      " [0 0]\n",
      " [3 0]\n",
      " [0 0]]\n",
      "Printing numpy array Attributes\n",
      "1> Array Shape is:  (4, 2)\n",
      "2>. Array dimensions are  2\n",
      "3>. Length of each element of array in bytes is  2\n"
     ]
    }
   ],
   "source": [
    "import numpy\n",
    "\n",
    "firstArray = numpy.empty([4,2], dtype = numpy.uint16) \n",
    "print(\"Printing Array\")\n",
    "print(firstArray)\n",
    "\n",
    "print(\"Printing numpy array Attributes\")\n",
    "print(\"1> Array Shape is: \", firstArray.shape)\n",
    "print(\"2>. Array dimensions are \", firstArray.ndim)\n",
    "print(\"3>. Length of each element of array in bytes is \", firstArray.itemsize)"
   ]
  },
  {
   "cell_type": "markdown",
   "metadata": {
    "id": "s-YzLo_2F1Rf"
   },
   "source": [
    "#### 56.Create a 5X2 integer array from a range between 100 to 200 such that the difference between each element is 10"
   ]
  },
  {
   "cell_type": "code",
   "execution_count": null,
   "metadata": {
    "colab": {
     "base_uri": "https://localhost:8080/"
    },
    "id": "lxGvhNfoF1Rf",
    "outputId": "db314b5f-997a-4b12-e8d7-6aa33c3ab9ea"
   },
   "outputs": [
    {
     "name": "stdout",
     "output_type": "stream",
     "text": [
      "Creating 5X2 array using numpy.arange\n",
      "[[100 110]\n",
      " [120 130]\n",
      " [140 150]\n",
      " [160 170]\n",
      " [180 190]]\n"
     ]
    }
   ],
   "source": [
    "import numpy\n",
    "\n",
    "print(\"Creating 5X2 array using numpy.arange\")\n",
    "sampleArray = numpy.arange(100, 200, 10)\n",
    "sampleArray = sampleArray.reshape(5,2)\n",
    "print (sampleArray)"
   ]
  },
  {
   "cell_type": "markdown",
   "metadata": {
    "id": "a-0OjX-qF1Rf"
   },
   "source": [
    "#### 57.Following is the provided numPy array. Return array of items by taking the third column from all rows\n",
    "* sampleArray = numpy.array([[11 ,22, 33], [44, 55, 66], [77, 88, 99]])"
   ]
  },
  {
   "cell_type": "code",
   "execution_count": null,
   "metadata": {
    "colab": {
     "base_uri": "https://localhost:8080/"
    },
    "id": "sXicvRVNF1Rg",
    "outputId": "7194efde-79cd-44af-ceda-7b65a9af1913"
   },
   "outputs": [
    {
     "name": "stdout",
     "output_type": "stream",
     "text": [
      "Printing Input Array\n",
      "[[11 22 33]\n",
      " [44 55 66]\n",
      " [77 88 99]]\n",
      "\n",
      " Printing array of items in the third column from all rows\n",
      "[33 66 99]\n"
     ]
    }
   ],
   "source": [
    "import numpy\n",
    "\n",
    "sampleArray = numpy.array([[11 ,22, 33], [44, 55, 66], [77, 88, 99]]) \n",
    "print(\"Printing Input Array\")\n",
    "print(sampleArray)\n",
    "\n",
    "print(\"\\n Printing array of items in the third column from all rows\")\n",
    "newArray = sampleArray[...,2]\n",
    "print(newArray)"
   ]
  },
  {
   "cell_type": "markdown",
   "metadata": {
    "id": "ll4EIxbuF1Rg"
   },
   "source": [
    "#### 58.Return array of odd rows and even columns from below numpy arra"
   ]
  },
  {
   "cell_type": "code",
   "execution_count": null,
   "metadata": {
    "colab": {
     "base_uri": "https://localhost:8080/"
    },
    "id": "6j-_CFRwF1Rg",
    "outputId": "84e9479d-60f9-4b1b-97f0-4720110bdf13"
   },
   "outputs": [
    {
     "name": "stdout",
     "output_type": "stream",
     "text": [
      "Printing Input Array\n",
      "[[ 3  6  9 12]\n",
      " [15 18 21 24]\n",
      " [27 30 33 36]\n",
      " [39 42 45 48]\n",
      " [51 54 57 60]]\n",
      "\n",
      " Printing array of odd rows and even columns\n",
      "[[ 6 12]\n",
      " [30 36]\n",
      " [54 60]]\n"
     ]
    }
   ],
   "source": [
    "import numpy\n",
    "\n",
    "sampleArray = numpy.array([[3 ,6, 9, 12], [15 ,18, 21, 24], \n",
    "[27 ,30, 33, 36], [39 ,42, 45, 48], [51 ,54, 57, 60]]) \n",
    "print(\"Printing Input Array\")\n",
    "print(sampleArray)\n",
    "\n",
    "print(\"\\n Printing array of odd rows and even columns\")\n",
    "newArray = sampleArray[::2, 1::2]\n",
    "print(newArray)"
   ]
  },
  {
   "cell_type": "markdown",
   "metadata": {
    "id": "XCv7PRjlF1Rg"
   },
   "source": [
    "#### 59.Create a result array by adding the following two NumPy arrays. Next, modify the result array by calculating the square of each element"
   ]
  },
  {
   "cell_type": "code",
   "execution_count": null,
   "metadata": {
    "colab": {
     "base_uri": "https://localhost:8080/"
    },
    "id": "nPpchVhEF1Rg",
    "outputId": "46f04b22-5a78-4f4d-a256-5e3c907b0228"
   },
   "outputs": [
    {
     "name": "stdout",
     "output_type": "stream",
     "text": [
      "addition of two arrays is \n",
      "\n",
      "[[20 39 33]\n",
      " [25 25 28]]\n",
      "\n",
      "Result array after calculating the square root of all elements\n",
      "\n",
      "[[ 400 1521 1089]\n",
      " [ 625  625  784]]\n"
     ]
    }
   ],
   "source": [
    "import numpy\n",
    "\n",
    "arrayOne = numpy.array([[5, 6, 9], [21 ,18, 27]])\n",
    "arrayTwo = numpy.array([[15 ,33, 24], [4 ,7, 1]])\n",
    "\n",
    "resultArray  = arrayOne + arrayTwo\n",
    "print(\"addition of two arrays is \\n\")\n",
    "print(resultArray)\n",
    "\n",
    "for num in numpy.nditer(resultArray, op_flags = ['readwrite']):\n",
    "   num[...] = num*num\n",
    "print(\"\\nResult array after calculating the square root of all elements\\n\")\n",
    "print(resultArray)"
   ]
  },
  {
   "cell_type": "markdown",
   "metadata": {
    "id": "cDCCSQZ8F1Rg"
   },
   "source": [
    "#### 60.Split the array into four equal-sized sub-arrays"
   ]
  },
  {
   "cell_type": "code",
   "execution_count": null,
   "metadata": {
    "colab": {
     "base_uri": "https://localhost:8080/"
    },
    "id": "z74Izhn_F1Rg",
    "outputId": "af6601b9-27f9-46d2-c9c3-e325356f3364"
   },
   "outputs": [
    {
     "name": "stdout",
     "output_type": "stream",
     "text": [
      "Creating 8X3 array using numpy.arange\n",
      "[[10 11 12]\n",
      " [13 14 15]\n",
      " [16 17 18]\n",
      " ...\n",
      " [25 26 27]\n",
      " [28 29 30]\n",
      " [31 32 33]]\n",
      "\n",
      "Dividing 8X3 array into 4 sub array\n",
      "\n",
      "[array([[10, 11, 12],\n",
      "       [13, 14, 15]]), array([[16, 17, 18],\n",
      "       [19, 20, 21]]), array([[22, 23, 24],\n",
      "       [25, 26, 27]]), array([[28, 29, 30],\n",
      "       [31, 32, 33]])]\n"
     ]
    }
   ],
   "source": [
    "import numpy\n",
    "\n",
    "print(\"Creating 8X3 array using numpy.arange\")\n",
    "sampleArray = numpy.arange(10, 34, 1)\n",
    "sampleArray = sampleArray.reshape(8,3)\n",
    "print (sampleArray)\n",
    "\n",
    "print(\"\\nDividing 8X3 array into 4 sub array\\n\")\n",
    "subArrays = numpy.split(sampleArray, 4) \n",
    "print(subArrays)"
   ]
  },
  {
   "cell_type": "markdown",
   "metadata": {
    "id": "HOOWWemjF1Rh"
   },
   "source": [
    "#### 61.Print max from axis 0 and min from axis 1 from the following 2-D array."
   ]
  },
  {
   "cell_type": "code",
   "execution_count": null,
   "metadata": {
    "colab": {
     "base_uri": "https://localhost:8080/"
    },
    "id": "1RrwhjCFF1Rh",
    "outputId": "77c7421e-1dfd-4bf7-facc-c1bf9a72eef4"
   },
   "outputs": [
    {
     "name": "stdout",
     "output_type": "stream",
     "text": [
      "Printing Original array\n",
      "[[34 43 73]\n",
      " [82 22 12]\n",
      " [53 94 66]]\n",
      "Printing amin Of Axis 1\n",
      "[34 12 53]\n",
      "Printing amax Of Axis 0\n",
      "[82 94 73]\n"
     ]
    }
   ],
   "source": [
    "import numpy\n",
    "\n",
    "print(\"Printing Original array\")\n",
    "sampleArray = numpy.array([[34,43,73],[82,22,12],[53,94,66]]) \n",
    "print (sampleArray)\n",
    "\n",
    "minOfAxisOne = numpy.amin(sampleArray, 1) \n",
    "print(\"Printing amin Of Axis 1\")\n",
    "print(minOfAxisOne)\n",
    "\n",
    "maxOfAxisOne = numpy.amax(sampleArray, 0) \n",
    "print(\"Printing amax Of Axis 0\")\n",
    "print(maxOfAxisOne)"
   ]
  },
  {
   "cell_type": "markdown",
   "metadata": {
    "id": "dlIWQoxTF1Rh"
   },
   "source": [
    "#### 62.Delete the second column from a given array and insert the following new column in its place.\n",
    "* sampleArray = numpy.array([[34,43,73],[82,22,12],[53,94,66]]) \n",
    "newColumn = numpy.array([[10,10,10]])`"
   ]
  },
  {
   "cell_type": "code",
   "execution_count": null,
   "metadata": {
    "colab": {
     "base_uri": "https://localhost:8080/"
    },
    "id": "OU_hVQ_GF1Rh",
    "outputId": "d8020357-1469-454d-a0b8-6cab3d6f9efd"
   },
   "outputs": [
    {
     "name": "stdout",
     "output_type": "stream",
     "text": [
      "Printing Original array\n",
      "[[34 43 73]\n",
      " [82 22 12]\n",
      " [53 94 66]]\n",
      "Array after deleting column 2 on axis 1\n",
      "[[34 73]\n",
      " [82 12]\n",
      " [53 66]]\n",
      "Array after inserting column 2 on axis 1\n",
      "[[34 10 73]\n",
      " [82 10 12]\n",
      " [53 10 66]]\n"
     ]
    }
   ],
   "source": [
    "import numpy\n",
    "\n",
    "print(\"Printing Original array\")\n",
    "sampleArray = numpy.array([[34,43,73],[82,22,12],[53,94,66]]) \n",
    "print (sampleArray)\n",
    "\n",
    "print(\"Array after deleting column 2 on axis 1\")\n",
    "sampleArray = numpy.delete(sampleArray , 1, axis = 1) \n",
    "print (sampleArray)\n",
    "\n",
    "arr = numpy.array([[10,10,10]])\n",
    "\n",
    "print(\"Array after inserting column 2 on axis 1\")\n",
    "sampleArray = numpy.insert(sampleArray , 1, arr, axis = 1) \n",
    "print (sampleArray)"
   ]
  },
  {
   "cell_type": "markdown",
   "metadata": {
    "id": "ojtDA5_jF1Rh"
   },
   "source": [
    "#### 63.Element-wise addition of 2 numpy arrays"
   ]
  },
  {
   "cell_type": "code",
   "execution_count": null,
   "metadata": {
    "colab": {
     "base_uri": "https://localhost:8080/"
    },
    "id": "onKzirlhF1Rh",
    "outputId": "5746a0f4-f761-4fda-a2fa-26db3628e773"
   },
   "outputs": [
    {
     "name": "stdout",
     "output_type": "stream",
     "text": [
      "[[11 13 15]\n",
      " [17 19 21]]\n"
     ]
    }
   ],
   "source": [
    "a = np.array([[1,2,3],\n",
    "              [4,5,6]])\n",
    "\n",
    "b = np.array([[10,11,12],\n",
    "              [13,14,15]])\n",
    "\n",
    "c = a + b\n",
    "\n",
    "print(c)\n"
   ]
  },
  {
   "cell_type": "markdown",
   "metadata": {
    "id": "F5Kb2PXnF1Rh"
   },
   "source": [
    "#### 64.Multiplying a matrix (numpy array) by a scalar"
   ]
  },
  {
   "cell_type": "code",
   "execution_count": null,
   "metadata": {
    "colab": {
     "base_uri": "https://localhost:8080/"
    },
    "id": "Q-c8tt7cF1Ri",
    "outputId": "4135d9d6-2ed7-4b73-80e8-d94d36a594a8"
   },
   "outputs": [
    {
     "name": "stdout",
     "output_type": "stream",
     "text": [
      "[[ 2  4  6]\n",
      " [ 8 10 12]]\n"
     ]
    }
   ],
   "source": [
    "a = np.array([[1,2,3],\n",
    "              [4,5,6]])\n",
    "\n",
    "b = 2*a # multiplying the numpy array a(matrix) by 2\n",
    "\n",
    "print(b)"
   ]
  },
  {
   "cell_type": "markdown",
   "metadata": {
    "id": "pfFtzd-BF1Ri"
   },
   "source": [
    "##### 65.Create Identity Matrix"
   ]
  },
  {
   "cell_type": "code",
   "execution_count": null,
   "metadata": {
    "colab": {
     "base_uri": "https://localhost:8080/"
    },
    "id": "D53HPi3FF1Ri",
    "outputId": "8f3ce767-81d8-478a-ff99-f09256359fec"
   },
   "outputs": [
    {
     "name": "stdout",
     "output_type": "stream",
     "text": [
      "[[1. 0. 0. 0.]\n",
      " [0. 1. 0. 0.]\n",
      " [0. 0. 1. 0.]\n",
      " [0. 0. 0. 1.]]\n"
     ]
    }
   ],
   "source": [
    "i = np.eye(4)\n",
    "\n",
    "print(i)"
   ]
  },
  {
   "cell_type": "markdown",
   "metadata": {
    "id": "R4SHgvHKF1Ri"
   },
   "source": [
    "#### 66.Create Boolean Array from Binary Array"
   ]
  },
  {
   "cell_type": "code",
   "execution_count": null,
   "metadata": {
    "colab": {
     "base_uri": "https://localhost:8080/"
    },
    "id": "a9xecE_bF1Ri",
    "outputId": "f380dd0e-130f-4c60-8387-31c1566979f1"
   },
   "outputs": [
    {
     "name": "stdout",
     "output_type": "stream",
     "text": [
      "[[ True False False]\n",
      " [ True  True  True]\n",
      " [False False False]]\n"
     ]
    }
   ],
   "source": [
    "a = np.array([[1, 0, 0],\n",
    "              [1, 1, 1],\n",
    "              [0, 0, 0]])\n",
    "\n",
    "o = a.astype('bool')\n",
    "\n",
    "print(o)"
   ]
  },
  {
   "cell_type": "markdown",
   "metadata": {
    "id": "RCTYmlTxF1Ri"
   },
   "source": [
    "#### 67.Generate a sequence of numbers in the form of a numpy array from 0 to 100 with gaps of 2 numbers, for example: 0, 2, 4 ...."
   ]
  },
  {
   "cell_type": "code",
   "execution_count": null,
   "metadata": {
    "colab": {
     "base_uri": "https://localhost:8080/"
    },
    "id": "gOenU4FlF1Ri",
    "outputId": "e9f63c7b-c3be-46e5-f107-ca7d3b1b8c6f"
   },
   "outputs": [
    {
     "name": "stdout",
     "output_type": "stream",
     "text": [
      "[  0   2   4 ...  96  98 100]\n"
     ]
    }
   ],
   "source": [
    "list_of_numbers = [x for x in range(0, 101, 2)]\n",
    "\n",
    "o = np.array(list_of_numbers)\n",
    "\n",
    "print(o)"
   ]
  },
  {
   "cell_type": "markdown",
   "metadata": {
    "id": "s0IiOT86F1Ri"
   },
   "source": [
    "#### 68.from 2 numpy arrays, extract the indexes in which the elements in the 2 arrays match"
   ]
  },
  {
   "cell_type": "code",
   "execution_count": null,
   "metadata": {
    "colab": {
     "base_uri": "https://localhost:8080/"
    },
    "id": "_EGy_nVlF1Rj",
    "outputId": "d4b0b9fd-66b0-433f-851c-15ff2165e2a7"
   },
   "outputs": [
    {
     "name": "stdout",
     "output_type": "stream",
     "text": [
      "(array([0, 3, 4]),)\n"
     ]
    }
   ],
   "source": [
    "a = np.array([1,2,3,4,5])\n",
    "\n",
    "b = np.array([1,3,2,4,5])\n",
    "\n",
    "print(np.where(a == b))"
   ]
  },
  {
   "cell_type": "markdown",
   "metadata": {
    "id": "m0SrtsNRF1Rj"
   },
   "source": [
    "#### 69.Output a sequence of equally gapped 5 numbers in the range 0 to 100 (both inclusive)"
   ]
  },
  {
   "cell_type": "code",
   "execution_count": null,
   "metadata": {
    "colab": {
     "base_uri": "https://localhost:8080/"
    },
    "id": "EABlwfI-F1Rj",
    "outputId": "6de0ce73-7342-4f88-e706-b1c7b11f4194"
   },
   "outputs": [
    {
     "name": "stdout",
     "output_type": "stream",
     "text": [
      "[  0.  25.  50.  75. 100.]\n"
     ]
    }
   ],
   "source": [
    " o = np.linspace(0, 100, 5)\n",
    "\n",
    "print(o)\n",
    " "
   ]
  },
  {
   "cell_type": "markdown",
   "metadata": {
    "id": "Kf5PMQlxF1Rj"
   },
   "source": [
    "#### 70.Output a matrix (numpy array) of dimension 2-by-3 with each and every value equal to 5"
   ]
  },
  {
   "cell_type": "code",
   "execution_count": null,
   "metadata": {
    "colab": {
     "base_uri": "https://localhost:8080/"
    },
    "id": "gW24F95ZF1Rj",
    "outputId": "2116ddb2-e640-4922-9f66-67b8ba0e3ce3"
   },
   "outputs": [
    {
     "name": "stdout",
     "output_type": "stream",
     "text": [
      "[[5. 5. 5.]\n",
      " [5. 5. 5.]]\n"
     ]
    }
   ],
   "source": [
    "a = np.ones((2, 3))\n",
    "\n",
    "o = 5*a\n",
    "\n",
    "print(o)"
   ]
  },
  {
   "cell_type": "markdown",
   "metadata": {
    "id": "UgRhqnQAF1Rj"
   },
   "source": [
    "#### 71.Output an array by repeating a smaller array of 2 dimensions, 10 times"
   ]
  },
  {
   "cell_type": "code",
   "execution_count": null,
   "metadata": {
    "colab": {
     "base_uri": "https://localhost:8080/"
    },
    "id": "RKuX10FNF1Rj",
    "outputId": "28b449e3-2c1a-4eb2-a46f-b365ecfe77cc"
   },
   "outputs": [
    {
     "name": "stdout",
     "output_type": "stream",
     "text": [
      "[[1 2 3 ... 1 2 3]\n",
      " [4 5 6 ... 4 5 6]]\n"
     ]
    }
   ],
   "source": [
    "a = np.array([[1,2,3],\n",
    "              [4,5,6]])\n",
    "\n",
    "o = np.tile(a, 10)\n",
    "\n",
    "print(o)"
   ]
  },
  {
   "cell_type": "markdown",
   "metadata": {
    "id": "qzSD9xqqF1Rk"
   },
   "source": [
    "#### 72.Output a 5-by-5 array of random integers between 0 (inclusive) and 10 (exclusive)"
   ]
  },
  {
   "cell_type": "code",
   "execution_count": null,
   "metadata": {
    "colab": {
     "base_uri": "https://localhost:8080/"
    },
    "id": "zSXmpaifF1Rk",
    "outputId": "f601561c-3361-4910-f1ee-7746f90e8b7d"
   },
   "outputs": [
    {
     "name": "stdout",
     "output_type": "stream",
     "text": [
      "[[2 2 6 1 3]\n",
      " [9 6 1 0 1]\n",
      " [9 0 0 9 3]\n",
      " [4 0 0 4 1]\n",
      " [7 3 2 4 7]]\n"
     ]
    }
   ],
   "source": [
    " np.random.seed(123) # setting the seed\n",
    "\n",
    "o = np.random.randint(0, 10, size = (5,5))\n",
    "\n",
    "print(o)"
   ]
  },
  {
   "cell_type": "markdown",
   "metadata": {
    "id": "Ykml19aUF1Rk"
   },
   "source": [
    "#### 73.Output a 3-by-3 array of random numbers following normal distribution"
   ]
  },
  {
   "cell_type": "code",
   "execution_count": null,
   "metadata": {
    "colab": {
     "base_uri": "https://localhost:8080/"
    },
    "id": "JtROuaXPF1Rk",
    "outputId": "22a744a2-b896-4cee-e560-2470f672b4b1"
   },
   "outputs": [
    {
     "name": "stdout",
     "output_type": "stream",
     "text": [
      "[[-1.086  0.997  0.283]\n",
      " [-1.506 -0.579  1.651]\n",
      " [-2.427 -0.429  1.266]]\n"
     ]
    }
   ],
   "source": [
    "np.random.seed(123) # setting the seed\n",
    "\n",
    "o = np.random.normal(size = (3,3))\n",
    "\n",
    "print(o)"
   ]
  },
  {
   "cell_type": "markdown",
   "metadata": {
    "id": "XaSS4OmZF1Rk"
   },
   "source": [
    "#### 74.Given 2 numpy arrays as matrices, output the result of multiplying the 2 matrices (as a numpy array)"
   ]
  },
  {
   "cell_type": "code",
   "execution_count": null,
   "metadata": {
    "colab": {
     "base_uri": "https://localhost:8080/"
    },
    "id": "tvWSLCQKF1Rk",
    "outputId": "ab2ae786-5ee5-4a7b-d3aa-83e9f97111a5"
   },
   "outputs": [
    {
     "name": "stdout",
     "output_type": "stream",
     "text": [
      "[[ 36  42  48]\n",
      " [ 81  96 111]\n",
      " [126 150 174]]\n"
     ]
    }
   ],
   "source": [
    "a = np.array([[1,2,3],\n",
    "              [4,5,6],\n",
    "              [7,8,9]])\n",
    "\n",
    "b = np.array([[2,3,4],\n",
    "              [5,6,7],\n",
    "              [8,9,10]])\n",
    "\n",
    "o = a@b\n",
    "\n",
    "print(o)"
   ]
  },
  {
   "cell_type": "markdown",
   "metadata": {
    "id": "gujEWDzwF1Rk"
   },
   "source": [
    "#### 75.Output the transpose of a matrix (as numpy array"
   ]
  },
  {
   "cell_type": "code",
   "execution_count": null,
   "metadata": {
    "colab": {
     "base_uri": "https://localhost:8080/"
    },
    "id": "M3et66pgF1Rk",
    "outputId": "42180ccf-84f6-44a4-c770-4d3a1a987225"
   },
   "outputs": [
    {
     "name": "stdout",
     "output_type": "stream",
     "text": [
      "[[1 4 7]\n",
      " [2 5 8]\n",
      " [3 6 9]]\n"
     ]
    }
   ],
   "source": [
    "a = np.array([[1,2,3],\n",
    "              [4,5,6],\n",
    "              [7,8,9]])\n",
    "\n",
    "a_transpose = a.T\n",
    "\n",
    "print(a_transpose)"
   ]
  },
  {
   "cell_type": "markdown",
   "metadata": {
    "id": "QE8_ob0hF1Rl"
   },
   "source": [
    "#### 76.Calculate the sine of an array of angles (in radians) using NumPy"
   ]
  },
  {
   "cell_type": "code",
   "execution_count": null,
   "metadata": {
    "colab": {
     "base_uri": "https://localhost:8080/"
    },
    "id": "16pO23hMF1Rl",
    "outputId": "afd73e5b-2a22-4cec-d644-2a8a840d0368"
   },
   "outputs": [
    {
     "name": "stdout",
     "output_type": "stream",
     "text": [
      "Sine of the given array of angles =  [ 0.002  1.    -0.003]\n"
     ]
    }
   ],
   "source": [
    "angles = np.array([3.14, 3.14/2, 6.28])\n",
    "\n",
    "sine_of_angles = np.sin(angles)\n",
    "\n",
    "print('Sine of the given array of angles = ', sine_of_angles)"
   ]
  },
  {
   "cell_type": "markdown",
   "metadata": {
    "id": "jAESaFbCF1Rl"
   },
   "source": [
    "#### 77.Calculate the cosine similarity of 2 vectors (as numpy arrays)"
   ]
  },
  {
   "cell_type": "code",
   "execution_count": null,
   "metadata": {
    "colab": {
     "base_uri": "https://localhost:8080/"
    },
    "id": "Op8lztCVF1Rl",
    "outputId": "a927d32a-17f2-4e97-8daa-c84358a8379b"
   },
   "outputs": [
    {
     "name": "stdout",
     "output_type": "stream",
     "text": [
      "Cosine of the given array of angles =  [-1.000e+00  7.963e-04  1.000e+00]\n"
     ]
    }
   ],
   "source": [
    "angles = np.array([3.14, 3.14/2, 6.28])\n",
    "\n",
    "cosine_of_angles = np.cos(angles)\n",
    "\n",
    "print('Cosine of the given array of angles = ', cosine_of_angles)"
   ]
  },
  {
   "cell_type": "markdown",
   "metadata": {
    "id": "sw0iIglmF1Rl"
   },
   "source": [
    "#### 78.Output the array element indexes such that the array elements appear in the ascending order"
   ]
  },
  {
   "cell_type": "code",
   "execution_count": null,
   "metadata": {
    "colab": {
     "base_uri": "https://localhost:8080/"
    },
    "id": "_skrkXnzF1Rl",
    "outputId": "fbd58629-d5b3-47fd-b8d2-ed872e0088be"
   },
   "outputs": [
    {
     "name": "stdout",
     "output_type": "stream",
     "text": [
      "[1 3 2 0]\n"
     ]
    }
   ],
   "source": [
    "array = np.array([10,1,5,2])\n",
    "\n",
    "indexes = np.argsort(array)\n",
    "\n",
    "print(indexes)\n",
    " "
   ]
  },
  {
   "cell_type": "markdown",
   "metadata": {
    "id": "Q0bqwelsF1Rm"
   },
   "source": [
    "#### 79.Write a NumPy program to get the numpy version and show numpy build configuration."
   ]
  },
  {
   "cell_type": "code",
   "execution_count": null,
   "metadata": {
    "colab": {
     "base_uri": "https://localhost:8080/"
    },
    "id": "x59IiLTZF1Rm",
    "outputId": "ac56cd06-97f0-4a5a-83bf-604544f6d3f5"
   },
   "outputs": [
    {
     "name": "stdout",
     "output_type": "stream",
     "text": [
      "1.19.5\n",
      "blas_mkl_info:\n",
      "  NOT AVAILABLE\n",
      "blis_info:\n",
      "  NOT AVAILABLE\n",
      "openblas_info:\n",
      "    libraries = ['openblas', 'openblas']\n",
      "    library_dirs = ['/usr/local/lib']\n",
      "    language = c\n",
      "    define_macros = [('HAVE_CBLAS', None)]\n",
      "blas_opt_info:\n",
      "    libraries = ['openblas', 'openblas']\n",
      "    library_dirs = ['/usr/local/lib']\n",
      "    language = c\n",
      "    define_macros = [('HAVE_CBLAS', None)]\n",
      "lapack_mkl_info:\n",
      "  NOT AVAILABLE\n",
      "openblas_lapack_info:\n",
      "    libraries = ['openblas', 'openblas']\n",
      "    library_dirs = ['/usr/local/lib']\n",
      "    language = c\n",
      "    define_macros = [('HAVE_CBLAS', None)]\n",
      "lapack_opt_info:\n",
      "    libraries = ['openblas', 'openblas']\n",
      "    library_dirs = ['/usr/local/lib']\n",
      "    language = c\n",
      "    define_macros = [('HAVE_CBLAS', None)]\n",
      "None\n"
     ]
    }
   ],
   "source": [
    "import numpy as np\n",
    "print(np.__version__)\n",
    "print(np.show_config())"
   ]
  },
  {
   "cell_type": "markdown",
   "metadata": {
    "id": "Tx5giaUjF1Rm"
   },
   "source": [
    "#### 80.Write a NumPy program to get help on the add function."
   ]
  },
  {
   "cell_type": "code",
   "execution_count": null,
   "metadata": {
    "colab": {
     "base_uri": "https://localhost:8080/"
    },
    "id": "Cf5h6vb6F1Rm",
    "outputId": "0b2cbfb6-ac83-4f60-d66e-5eacbb8e012e"
   },
   "outputs": [
    {
     "name": "stdout",
     "output_type": "stream",
     "text": [
      "None\n"
     ]
    }
   ],
   "source": [
    "import numpy as np\n",
    "print(np.info(np.add))"
   ]
  },
  {
   "cell_type": "markdown",
   "metadata": {
    "id": "dRzYyQ6uF1Rm"
   },
   "source": [
    "#### 81.Write a NumPy program to test whether none of the elements of a given array is zero."
   ]
  },
  {
   "cell_type": "code",
   "execution_count": null,
   "metadata": {
    "colab": {
     "base_uri": "https://localhost:8080/"
    },
    "id": "Lc81mWkgF1Rm",
    "outputId": "d66156ed-a0af-4464-e2b7-0bd2bd1aa439"
   },
   "outputs": [
    {
     "name": "stdout",
     "output_type": "stream",
     "text": [
      "Original array:\n",
      "[1 2 3 4]\n",
      "Test if none of the elements of the said array is zero:\n",
      "True\n"
     ]
    }
   ],
   "source": [
    "\n",
    "import numpy as np\n",
    "x = np.array([1, 2, 3, 4])\n",
    "print(\"Original array:\")\n",
    "print(x)\n",
    "print(\"Test if none of the elements of the said array is zero:\")\n",
    "print(np.all(x))\n",
    "x = np.array([0, 1, 2, 3])"
   ]
  },
  {
   "cell_type": "markdown",
   "metadata": {
    "id": "Vkg7lq0oF1Rm"
   },
   "source": [
    "#### 82.Write a NumPy program to test whether any of the elements of a given array is non-zero"
   ]
  },
  {
   "cell_type": "code",
   "execution_count": null,
   "metadata": {
    "colab": {
     "base_uri": "https://localhost:8080/"
    },
    "id": "QbdFl9sXF1Rm",
    "outputId": "7c22c8dd-18bc-4faa-8a78-722f3985aa0c"
   },
   "outputs": [
    {
     "name": "stdout",
     "output_type": "stream",
     "text": [
      "Original array:\n",
      "[1 0 0 0]\n",
      "Test whether any of the elements of a given array is non-zero:\n",
      "True\n",
      "Original array:\n",
      "[0 0 0 0]\n",
      "Test whether any of the elements of a given array is non-zero:\n",
      "False\n"
     ]
    }
   ],
   "source": [
    "import numpy as np\n",
    "x = np.array([1, 0, 0, 0])\n",
    "print(\"Original array:\")\n",
    "print(x)\n",
    "print(\"Test whether any of the elements of a given array is non-zero:\")\n",
    "print(np.any(x))\n",
    "x = np.array([0, 0, 0, 0])\n",
    "print(\"Original array:\")\n",
    "print(x)\n",
    "print(\"Test whether any of the elements of a given array is non-zero:\")\n",
    "print(np.any(x))"
   ]
  },
  {
   "cell_type": "markdown",
   "metadata": {
    "id": "OvRWG6XtF1Rn"
   },
   "source": [
    "#### 83.Write a NumPy program to test a given array element-wise for finiteness (not infinity or not a Number)"
   ]
  },
  {
   "cell_type": "code",
   "execution_count": null,
   "metadata": {
    "colab": {
     "base_uri": "https://localhost:8080/"
    },
    "id": "R8Jd577lF1Rn",
    "outputId": "908011d6-8c80-416c-ffb0-29ef58a56951"
   },
   "outputs": [
    {
     "name": "stdout",
     "output_type": "stream",
     "text": [
      "Original array\n",
      "[ 1.  0. nan inf]\n",
      "Test a given array element-wise for finiteness :\n",
      "[ True  True False False]\n"
     ]
    }
   ],
   "source": [
    "import numpy as np\n",
    "a = np.array([1, 0, np.nan, np.inf])\n",
    "print(\"Original array\")\n",
    "print(a)\n",
    "print(\"Test a given array element-wise for finiteness :\")\n",
    "print(np.isfinite(a))"
   ]
  },
  {
   "cell_type": "markdown",
   "metadata": {
    "id": "ZBgPbBAMF1Rn"
   },
   "source": [
    "#### 84.Write a NumPy program to test element-wise for positive or negative infinity"
   ]
  },
  {
   "cell_type": "code",
   "execution_count": null,
   "metadata": {
    "colab": {
     "base_uri": "https://localhost:8080/"
    },
    "id": "sMnxfIJTF1Rn",
    "outputId": "912746e9-5bf0-447a-ac0c-2a225817fee5"
   },
   "outputs": [
    {
     "name": "stdout",
     "output_type": "stream",
     "text": [
      "Original array\n",
      "[ 1.  0. nan inf]\n",
      "Test element-wise for positive or negative infinity:\n",
      "[False False False  True]\n"
     ]
    }
   ],
   "source": [
    "import numpy as np\n",
    "a = np.array([1, 0, np.nan, np.inf])\n",
    "print(\"Original array\")\n",
    "print(a)\n",
    "print(\"Test element-wise for positive or negative infinity:\")\n",
    "print(np.isinf(a))"
   ]
  },
  {
   "cell_type": "markdown",
   "metadata": {
    "id": "_K-jIhT8F1Rn"
   },
   "source": [
    "#### 85.Write a NumPy program to test element-wise for NaN of a given array."
   ]
  },
  {
   "cell_type": "code",
   "execution_count": null,
   "metadata": {
    "colab": {
     "base_uri": "https://localhost:8080/"
    },
    "id": "7P-qCwjyF1Rn",
    "outputId": "9213d6be-57db-4d22-a282-2e655e480998"
   },
   "outputs": [
    {
     "name": "stdout",
     "output_type": "stream",
     "text": [
      "Original array\n",
      "[ 1.  0. nan inf]\n",
      "Test element-wise for NaN:\n",
      "[False False  True False]\n"
     ]
    }
   ],
   "source": [
    "import numpy as np\n",
    "a = np.array([1, 0, np.nan, np.inf])\n",
    "print(\"Original array\")\n",
    "print(a)\n",
    "print(\"Test element-wise for NaN:\")\n",
    "print(np.isnan(a))"
   ]
  },
  {
   "cell_type": "markdown",
   "metadata": {
    "id": "J5awk6B7F1Rn"
   },
   "source": [
    "#### 86.Write a NumPy program to create an element-wise comparison (greater, greater_equal, less and less_equal) of two given arrays.\n"
   ]
  },
  {
   "cell_type": "code",
   "execution_count": null,
   "metadata": {
    "colab": {
     "base_uri": "https://localhost:8080/"
    },
    "id": "R8AOdZ1RF1Rn",
    "outputId": "02e07461-fc0a-49f9-8bd0-806b06bc3edf"
   },
   "outputs": [
    {
     "name": "stdout",
     "output_type": "stream",
     "text": [
      "Original numbers:\n",
      "[3 5]\n",
      "[2 5]\n",
      "Comparison - greater\n",
      "[ True False]\n",
      "Comparison - greater_equal\n",
      "[ True  True]\n",
      "Comparison - less\n",
      "[False False]\n",
      "Comparison - less_equal\n",
      "[False  True]\n"
     ]
    }
   ],
   "source": [
    "import numpy as np\n",
    "x = np.array([3, 5])\n",
    "y = np.array([2, 5])\n",
    "print(\"Original numbers:\")\n",
    "print(x)\n",
    "print(y)\n",
    "print(\"Comparison - greater\")\n",
    "print(np.greater(x, y))\n",
    "print(\"Comparison - greater_equal\")\n",
    "print(np.greater_equal(x, y))\n",
    "print(\"Comparison - less\")\n",
    "print(np.less(x, y))\n",
    "print(\"Comparison - less_equal\")\n",
    "print(np.less_equal(x, y))"
   ]
  },
  {
   "cell_type": "markdown",
   "metadata": {
    "id": "BLee7fGrF1Ro"
   },
   "source": [
    "#### 87.Write a NumPy program to create an array with the values 1, 7, 13, 105 and determine the size of the memory occupied by the array"
   ]
  },
  {
   "cell_type": "code",
   "execution_count": null,
   "metadata": {
    "colab": {
     "base_uri": "https://localhost:8080/"
    },
    "id": "DdzzBtHqF1Ro",
    "outputId": "97e9e576-0dab-4ac6-d883-88938cdd2ea3"
   },
   "outputs": [
    {
     "name": "stdout",
     "output_type": "stream",
     "text": [
      "Original array:\n",
      "[  1   7  13 105]\n",
      "Size of the memory occupied by the said array:\n",
      "32 bytes\n"
     ]
    }
   ],
   "source": [
    "import numpy as np\n",
    "X = np.array([1, 7, 13, 105])\n",
    "print(\"Original array:\")\n",
    "print(X)\n",
    "print(\"Size of the memory occupied by the said array:\")\n",
    "print(\"%d bytes\" % (X.size * X.itemsize))"
   ]
  },
  {
   "cell_type": "markdown",
   "metadata": {
    "id": "zuosHiq0F1Ro"
   },
   "source": [
    "#### 88.Write a NumPy program to create an array of 10 zeros,10 ones, 10 fives"
   ]
  },
  {
   "cell_type": "code",
   "execution_count": null,
   "metadata": {
    "colab": {
     "base_uri": "https://localhost:8080/"
    },
    "id": "7I_xFhAdF1Ro",
    "outputId": "01396b17-b9ec-4292-bb5d-72c2b957b28c"
   },
   "outputs": [
    {
     "name": "stdout",
     "output_type": "stream",
     "text": [
      "An array of 10 zeros:\n",
      "[0. 0. 0. ... 0. 0. 0.]\n",
      "An array of 10 ones:\n",
      "[1. 1. 1. ... 1. 1. 1.]\n",
      "An array of 10 fives:\n",
      "[5. 5. 5. ... 5. 5. 5.]\n"
     ]
    }
   ],
   "source": [
    "import numpy as np\n",
    "array=np.zeros(10)\n",
    "print(\"An array of 10 zeros:\")\n",
    "print(array)\n",
    "array=np.ones(10)\n",
    "print(\"An array of 10 ones:\")\n",
    "print(array)\n",
    "array=np.ones(10)*5\n",
    "print(\"An array of 10 fives:\")\n",
    "print(array)"
   ]
  },
  {
   "cell_type": "markdown",
   "metadata": {
    "id": "Q3KeT5rDF1Ro"
   },
   "source": [
    "#### 89.Write a NumPy program to create an array of the integers from 30 to70"
   ]
  },
  {
   "cell_type": "code",
   "execution_count": null,
   "metadata": {
    "colab": {
     "base_uri": "https://localhost:8080/"
    },
    "id": "OHW5o1ayF1Ro",
    "outputId": "8f711630-27f2-4cd5-b73a-66c06189e740"
   },
   "outputs": [
    {
     "name": "stdout",
     "output_type": "stream",
     "text": [
      "Array of the integers from 30 to70\n",
      "[30 31 32 ... 68 69 70]\n"
     ]
    }
   ],
   "source": [
    "import numpy as np\n",
    "array=np.arange(30,71)\n",
    "print(\"Array of the integers from 30 to70\")\n",
    "print(array)"
   ]
  },
  {
   "cell_type": "markdown",
   "metadata": {
    "id": "1-pdUHzwF1Ro"
   },
   "source": [
    "#### 90.Write a NumPy program to generate an array of 15 random numbers from a standard normal distribution."
   ]
  },
  {
   "cell_type": "code",
   "execution_count": null,
   "metadata": {
    "colab": {
     "base_uri": "https://localhost:8080/"
    },
    "id": "jANQ52ToF1Ro",
    "outputId": "047f43d9-2dc9-4ae2-8eb3-34150561b09a"
   },
   "outputs": [
    {
     "name": "stdout",
     "output_type": "stream",
     "text": [
      "15 random numbers from a standard normal distribution:\n",
      "[-0.867 -0.679 -0.095 ...  1.491 -0.936  1.176]\n"
     ]
    }
   ],
   "source": [
    "import numpy as np\n",
    "rand_num = np.random.normal(0,1,15)\n",
    "print(\"15 random numbers from a standard normal distribution:\")\n",
    "print(rand_num)"
   ]
  },
  {
   "cell_type": "markdown",
   "metadata": {
    "id": "su0IdKkrF1Rp"
   },
   "source": [
    "#### 91.Write a NumPy program to create a 3X4 array using and iterate over it."
   ]
  },
  {
   "cell_type": "code",
   "execution_count": null,
   "metadata": {
    "colab": {
     "base_uri": "https://localhost:8080/"
    },
    "id": "E0raRBq4F1Rp",
    "outputId": "9010e6d0-d263-4fa8-eba7-026675c06337"
   },
   "outputs": [
    {
     "name": "stdout",
     "output_type": "stream",
     "text": [
      "Original array:\n",
      "[[10 11 12 13]\n",
      " [14 15 16 17]\n",
      " [18 19 20 21]]\n",
      "Each element of the array is:\n",
      "10 11 12 13 14 15 16 17 18 19 20 21 "
     ]
    }
   ],
   "source": [
    "import numpy as np\n",
    "a = np.arange(10,22).reshape((3, 4))\n",
    "print(\"Original array:\")\n",
    "print(a)\n",
    "print(\"Each element of the array is:\")\n",
    "for x in np.nditer(a):\n",
    "  print(x,end=\" \")"
   ]
  },
  {
   "cell_type": "markdown",
   "metadata": {
    "id": "AUI7Zx_8F1Rp"
   },
   "source": [
    "#### 92.Write a NumPy program to create a vector of length 10 with values evenly distributed between 5 and 50."
   ]
  },
  {
   "cell_type": "code",
   "execution_count": null,
   "metadata": {
    "colab": {
     "base_uri": "https://localhost:8080/"
    },
    "id": "5OQaqN_AF1Rp",
    "outputId": "f39d235e-2510-49cb-f016-8c78473c5516"
   },
   "outputs": [
    {
     "name": "stdout",
     "output_type": "stream",
     "text": [
      "Length 10 with values evenly distributed between 5 and 50:\n",
      "[10.   19.75 29.5  39.25 49.  ]\n"
     ]
    }
   ],
   "source": [
    "import numpy as np\n",
    "v = np.linspace(10, 49, 5)\n",
    "print(\"Length 10 with values evenly distributed between 5 and 50:\")\n",
    "print(v)"
   ]
  },
  {
   "cell_type": "markdown",
   "metadata": {
    "id": "dEGDw-yqF1Rp"
   },
   "source": [
    "#### 93. Write a NumPy program to create a vector with values from 0 to 20 and change the sign of the numbers in the range from 9 to 15. "
   ]
  },
  {
   "cell_type": "code",
   "execution_count": null,
   "metadata": {
    "colab": {
     "base_uri": "https://localhost:8080/"
    },
    "id": "mW8EDRegF1Rp",
    "outputId": "ebb2ab4f-cf4c-41b5-9c09-a61d2ce7e435"
   },
   "outputs": [
    {
     "name": "stdout",
     "output_type": "stream",
     "text": [
      "Original vector:\n",
      "[ 0  1  2 ... 18 19 20]\n",
      "After changing the sign of the numbers in the range from 9 to 15:\n",
      "[ 0  1  2 ... 18 19 20]\n"
     ]
    }
   ],
   "source": [
    "import numpy as np\n",
    "x = np.arange(21)\n",
    "print(\"Original vector:\")\n",
    "print(x)\n",
    "print(\"After changing the sign of the numbers in the range from 9 to 15:\")\n",
    "x[(x >= 9) & (x <= 15)] *= -1\n",
    "print(x)"
   ]
  },
  {
   "cell_type": "markdown",
   "metadata": {
    "id": "CqjeIm6AF1Rp"
   },
   "source": [
    "#### 94.Write a NumPy program to multiply the values ​​of two given vectors."
   ]
  },
  {
   "cell_type": "code",
   "execution_count": null,
   "metadata": {
    "colab": {
     "base_uri": "https://localhost:8080/"
    },
    "id": "oWx0J3POF1Rp",
    "outputId": "faa97d46-0f29-4193-e5f3-639bd6dc32a0"
   },
   "outputs": [
    {
     "name": "stdout",
     "output_type": "stream",
     "text": [
      "Vector-1\n",
      "[1 8 3 5]\n",
      "Vector-2\n",
      "[6 2 1 8]\n",
      "Multiply the values of two said vectors:\n",
      "[ 6 16  3 40]\n"
     ]
    }
   ],
   "source": [
    "import numpy as np\n",
    "x = np.array([1, 8, 3, 5])\n",
    "print(\"Vector-1\")\n",
    "print(x)\n",
    "y= np.random.randint(0, 11, 4)\n",
    "print(\"Vector-2\")\n",
    "print(y)\n",
    "result = x * y\n",
    "print(\"Multiply the values of two said vectors:\")\n",
    "print(result)"
   ]
  },
  {
   "cell_type": "markdown",
   "metadata": {
    "id": "Qkr3qfUtF1Rq"
   },
   "source": [
    "##### 95.Write a NumPy program to find the number of rows and columns of a given matrix."
   ]
  },
  {
   "cell_type": "code",
   "execution_count": null,
   "metadata": {
    "colab": {
     "base_uri": "https://localhost:8080/"
    },
    "id": "UkOP6FiLF1Rq",
    "outputId": "eaba20e3-65b8-4ccc-f3ba-326553cf0fc1"
   },
   "outputs": [
    {
     "name": "stdout",
     "output_type": "stream",
     "text": [
      "Original matrix:\n",
      "[[10 11 12 13]\n",
      " [14 15 16 17]\n",
      " [18 19 20 21]]\n",
      "Number of rows and columns of the said matrix:\n",
      "(3, 4)\n"
     ]
    }
   ],
   "source": [
    "import numpy as np\n",
    "m= np.arange(10,22).reshape((3, 4))\n",
    "print(\"Original matrix:\")\n",
    "print(m)\n",
    "print(\"Number of rows and columns of the said matrix:\")\n",
    "print(m.shape)"
   ]
  },
  {
   "cell_type": "markdown",
   "metadata": {
    "id": "pJwP3hciF1Rq"
   },
   "source": [
    "#### 96.Write a NumPy program to create a 5x5 zero matrix with elements on the main diagonal equal to 1, 2, 3, 4, 5."
   ]
  },
  {
   "cell_type": "code",
   "execution_count": null,
   "metadata": {
    "colab": {
     "base_uri": "https://localhost:8080/"
    },
    "id": "sYNoGxGrF1Rq",
    "outputId": "04aae346-3e1c-4f8c-e784-a007137a2488"
   },
   "outputs": [
    {
     "name": "stdout",
     "output_type": "stream",
     "text": [
      "[[1 0 0 0 0]\n",
      " [0 2 0 0 0]\n",
      " [0 0 3 0 0]\n",
      " [0 0 0 4 0]\n",
      " [0 0 0 0 5]]\n"
     ]
    }
   ],
   "source": [
    "import numpy as np\n",
    "x = np.diag([1, 2, 3, 4, 5])\n",
    "print(x)"
   ]
  },
  {
   "cell_type": "markdown",
   "metadata": {
    "id": "gnAkjIblF1Rq"
   },
   "source": [
    "#### 97.Write a NumPy program to create a 3x3x3 array filled with arbitrary values."
   ]
  },
  {
   "cell_type": "code",
   "execution_count": null,
   "metadata": {
    "colab": {
     "base_uri": "https://localhost:8080/"
    },
    "id": "zIMMdOfyF1Rq",
    "outputId": "f898e419-0353-4573-88a7-5d400e1fd5d4"
   },
   "outputs": [
    {
     "name": "stdout",
     "output_type": "stream",
     "text": [
      "[[[0.766 0.777 0.028]\n",
      "  [0.174 0.154 0.077]\n",
      "  [0.89  0.75  0.693]]\n",
      "\n",
      " [[0.512 0.464 0.568]\n",
      "  [0.303 0.497 0.683]\n",
      "  [0.917 0.109 0.495]]\n",
      "\n",
      " [[0.233 0.437 0.752]\n",
      "  [0.481 0.798 0.283]\n",
      "  [0.433 0.01  0.341]]]\n"
     ]
    }
   ],
   "source": [
    "import numpy as np\n",
    "x = np.random.random((3, 3, 3))\n",
    "print(x)"
   ]
  },
  {
   "cell_type": "markdown",
   "metadata": {
    "id": "uiCvgLzAF1Rq"
   },
   "source": [
    "#### 98.Write a NumPy program to create one-dimensional array of single, two and three digit numbers."
   ]
  },
  {
   "cell_type": "code",
   "execution_count": null,
   "metadata": {
    "colab": {
     "base_uri": "https://localhost:8080/"
    },
    "id": "MHPdISSKF1Rq",
    "outputId": "384ee57b-fb6a-4c0e-f264-f5cd9b69a14b"
   },
   "outputs": [
    {
     "name": "stdout",
     "output_type": "stream",
     "text": [
      "One-dimensional array of single digit numbers:\n",
      "[ 1  2  3 ... 18 19 20]\n",
      "\n",
      "One-dimensional array of two digit numbers:\n",
      "[10 11 12 ... 18 19 20]\n",
      "\n",
      "One-dimensional array of three digit numbers:\n",
      "[100 101 102 ... 198 199 200]\n"
     ]
    }
   ],
   "source": [
    "import numpy as np  \n",
    "nums = np.arange(1, 21)\n",
    "print(\"One-dimensional array of single digit numbers:\") \n",
    "print(nums)\n",
    "nums = np.arange(10, 21)\n",
    "print(\"\\nOne-dimensional array of two digit numbers:\") \n",
    "print(nums)\n",
    "nums = np.arange(100, 201)\n",
    "print(\"\\nOne-dimensional array of three digit numbers:\") \n",
    "print(nums)"
   ]
  },
  {
   "cell_type": "markdown",
   "metadata": {
    "id": "nf7UsmqhF1Rr"
   },
   "source": [
    "#### 99.Write a NumPy program to create a 4x4 array with random values, now create a new array from the said array swapping first and last rows. "
   ]
  },
  {
   "cell_type": "code",
   "execution_count": null,
   "metadata": {
    "colab": {
     "base_uri": "https://localhost:8080/"
    },
    "id": "bZCiSdBMF1Rr",
    "outputId": "6aee2e15-4f99-4675-9c38-51d626912b1f"
   },
   "outputs": [
    {
     "name": "stdout",
     "output_type": "stream",
     "text": [
      "Original array:\n",
      "[[ 0  1  2  3]\n",
      " [ 4  5  6  7]\n",
      " [ 8  9 10 11]\n",
      " [12 13 14 15]]\n",
      "\n",
      "New array after swapping first and last rows of the said array:\n",
      "[[12 13 14 15]\n",
      " [ 8  9 10 11]\n",
      " [ 4  5  6  7]\n",
      " [ 0  1  2  3]]\n"
     ]
    }
   ],
   "source": [
    "import numpy as np \n",
    "nums = np.arange(16, dtype='int').reshape(-1, 4)\n",
    "print(\"Original array:\")\n",
    "print(nums)\n",
    "print(\"\\nNew array after swapping first and last rows of the said array:\")\n",
    "new_nums = nums[::-1]\n",
    "print(new_nums)"
   ]
  },
  {
   "cell_type": "markdown",
   "metadata": {
    "id": "tBDXeVkxF1Rr"
   },
   "source": [
    "#### 100.Write a NumPy program to multiply two given arrays of same size element-by-element."
   ]
  },
  {
   "cell_type": "code",
   "execution_count": null,
   "metadata": {
    "colab": {
     "base_uri": "https://localhost:8080/"
    },
    "id": "UYbqA0peF1Rr",
    "outputId": "6aea0120-aa85-4cac-d0f6-ee869870cef7"
   },
   "outputs": [
    {
     "name": "stdout",
     "output_type": "stream",
     "text": [
      "Array1:\n",
      "[[2 5 2]\n",
      " [1 5 5]]\n",
      "Array2:\n",
      "[[5 3 4]\n",
      " [3 2 5]]\n",
      "\n",
      "Multiply said arrays of same size element-by-element:\n",
      "[[10 15  8]\n",
      " [ 3 10 25]]\n"
     ]
    }
   ],
   "source": [
    "import numpy as np \n",
    "nums1 = np.array([[2, 5, 2],\n",
    "              [1, 5, 5]])\n",
    "nums2 = np.array([[5, 3, 4],\n",
    "              [3, 2, 5]])\n",
    "print(\"Array1:\") \n",
    "print(nums1)\n",
    "print(\"Array2:\") \n",
    "print(nums2)\n",
    "print(\"\\nMultiply said arrays of same size element-by-element:\")\n",
    "print(np.multiply(nums1, nums2))"
   ]
  },
  {
   "cell_type": "markdown",
   "metadata": {
    "id": "WJs3fsXRRKvn"
   },
   "source": [
    "# Numpy Practice Questions Set 2"
   ]
  },
  {
   "cell_type": "markdown",
   "metadata": {
    "id": "rKYN0SPszB-t"
   },
   "source": [
    "#### 1. Import NumPy as np"
   ]
  },
  {
   "cell_type": "code",
   "execution_count": null,
   "metadata": {
    "collapsed": true,
    "id": "YQYTv0CgzB-t"
   },
   "outputs": [],
   "source": [
    "import numpy as np"
   ]
  },
  {
   "cell_type": "markdown",
   "metadata": {
    "id": "-sFQ3fG4zB-u"
   },
   "source": [
    "####2. Create an array of 10 zeros "
   ]
  },
  {
   "cell_type": "code",
   "execution_count": null,
   "metadata": {
    "colab": {
     "base_uri": "https://localhost:8080/"
    },
    "id": "n518yQcczB-v",
    "outputId": "a0cd66bd-6721-4ce4-db62-6b1def17ff1d"
   },
   "outputs": [
    {
     "data": {
      "text/plain": [
       "array([0., 0., 0., ..., 0., 0., 0.])"
      ]
     },
     "execution_count": 291,
     "metadata": {},
     "output_type": "execute_result"
    }
   ],
   "source": [
    "np.zeros(10)"
   ]
  },
  {
   "cell_type": "markdown",
   "metadata": {
    "id": "24Ke5letzB-x"
   },
   "source": [
    "####3. Create an array of 10 ones"
   ]
  },
  {
   "cell_type": "code",
   "execution_count": null,
   "metadata": {
    "colab": {
     "base_uri": "https://localhost:8080/"
    },
    "id": "IzR4eXw1zB-y",
    "outputId": "7fdff6ad-4fe9-422e-9552-a63aaa2ae3f6"
   },
   "outputs": [
    {
     "data": {
      "text/plain": [
       "array([1., 1., 1., ..., 1., 1., 1.])"
      ]
     },
     "execution_count": 292,
     "metadata": {},
     "output_type": "execute_result"
    }
   ],
   "source": [
    "np.ones(10)"
   ]
  },
  {
   "cell_type": "markdown",
   "metadata": {
    "id": "jBdGdhPHzB-y"
   },
   "source": [
    "####4. Create an array of 10 fives"
   ]
  },
  {
   "cell_type": "code",
   "execution_count": null,
   "metadata": {
    "colab": {
     "base_uri": "https://localhost:8080/"
    },
    "id": "3-7AiNx5zB-z",
    "outputId": "ff96b2b5-2c97-48db-f35b-d619bf7ac857"
   },
   "outputs": [
    {
     "data": {
      "text/plain": [
       "array([5., 5., 5., ..., 5., 5., 5.])"
      ]
     },
     "execution_count": 293,
     "metadata": {},
     "output_type": "execute_result"
    }
   ],
   "source": [
    "np.ones(10) * 5"
   ]
  },
  {
   "cell_type": "markdown",
   "metadata": {
    "id": "Nq8QoUQzzB-0"
   },
   "source": [
    "####5. Create an array of the integers from 10 to 50"
   ]
  },
  {
   "cell_type": "code",
   "execution_count": null,
   "metadata": {
    "colab": {
     "base_uri": "https://localhost:8080/"
    },
    "id": "nosAiI6-zB-0",
    "outputId": "865647a7-ef75-42f6-bd67-c17fdac2cee8"
   },
   "outputs": [
    {
     "data": {
      "text/plain": [
       "array([10, 11, 12, ..., 48, 49, 50])"
      ]
     },
     "execution_count": 294,
     "metadata": {},
     "output_type": "execute_result"
    }
   ],
   "source": [
    "np.arange(10,51)"
   ]
  },
  {
   "cell_type": "markdown",
   "metadata": {
    "id": "twrFFMdSzB-1"
   },
   "source": [
    "####6. Create an array of all the even integers from 10 to 50"
   ]
  },
  {
   "cell_type": "code",
   "execution_count": null,
   "metadata": {
    "colab": {
     "base_uri": "https://localhost:8080/"
    },
    "id": "8NBholcZzB-1",
    "outputId": "a2746dbe-c56e-4ab8-a3a1-d47d91f29af0"
   },
   "outputs": [
    {
     "data": {
      "text/plain": [
       "array([10, 12, 14, ..., 46, 48, 50])"
      ]
     },
     "execution_count": 295,
     "metadata": {},
     "output_type": "execute_result"
    }
   ],
   "source": [
    "np.arange(10,51,2)"
   ]
  },
  {
   "cell_type": "markdown",
   "metadata": {
    "id": "jX1GEJfvzB-2"
   },
   "source": [
    "####7. Create a 3x3 matrix with values ranging from 0 to 8"
   ]
  },
  {
   "cell_type": "code",
   "execution_count": null,
   "metadata": {
    "colab": {
     "base_uri": "https://localhost:8080/"
    },
    "id": "bgrXwJ4nzB-2",
    "outputId": "d629453f-437f-47e2-9c20-e4a4746fae59"
   },
   "outputs": [
    {
     "data": {
      "text/plain": [
       "array([[0, 1, 2],\n",
       "       [3, 4, 5],\n",
       "       [6, 7, 8]])"
      ]
     },
     "execution_count": 296,
     "metadata": {},
     "output_type": "execute_result"
    }
   ],
   "source": [
    "np.arange(9).reshape(3,3)"
   ]
  },
  {
   "cell_type": "markdown",
   "metadata": {
    "id": "UnL23Re0zB-2"
   },
   "source": [
    "####8. Create a 3x3 identity matrix"
   ]
  },
  {
   "cell_type": "code",
   "execution_count": null,
   "metadata": {
    "colab": {
     "base_uri": "https://localhost:8080/"
    },
    "id": "roaPB5DLzB-3",
    "outputId": "734d6090-b82a-4030-fde8-ca6a838b46d4"
   },
   "outputs": [
    {
     "data": {
      "text/plain": [
       "array([[1., 0., 0.],\n",
       "       [0., 1., 0.],\n",
       "       [0., 0., 1.]])"
      ]
     },
     "execution_count": 297,
     "metadata": {},
     "output_type": "execute_result"
    }
   ],
   "source": [
    "np.eye(3)"
   ]
  },
  {
   "cell_type": "markdown",
   "metadata": {
    "id": "qy2E0cT9zB-3"
   },
   "source": [
    "####9. Use NumPy to generate a random number between 0 and 1"
   ]
  },
  {
   "cell_type": "code",
   "execution_count": null,
   "metadata": {
    "colab": {
     "base_uri": "https://localhost:8080/"
    },
    "id": "GTRPLYZTzB-3",
    "outputId": "ec5b11b5-0351-4a77-c209-10250bf290ee"
   },
   "outputs": [
    {
     "data": {
      "text/plain": [
       "array([0.689])"
      ]
     },
     "execution_count": 298,
     "metadata": {},
     "output_type": "execute_result"
    }
   ],
   "source": [
    "np.random.rand(1)"
   ]
  },
  {
   "cell_type": "markdown",
   "metadata": {
    "id": "R8EecudgzB-4"
   },
   "source": [
    "####10. Use NumPy to generate an array of 25 random numbers sampled from a standard normal distribution"
   ]
  },
  {
   "cell_type": "code",
   "execution_count": null,
   "metadata": {
    "colab": {
     "base_uri": "https://localhost:8080/"
    },
    "id": "AI9p1AqCzB-4",
    "outputId": "f2807fac-fe5b-4c86-8ed9-7560a7cf6dbd"
   },
   "outputs": [
    {
     "data": {
      "text/plain": [
       "array([-0.393,  0.625, -1.705, ..., -0.085,  0.123,  0.975])"
      ]
     },
     "execution_count": 299,
     "metadata": {},
     "output_type": "execute_result"
    }
   ],
   "source": [
    "np.random.randn(25)"
   ]
  },
  {
   "cell_type": "markdown",
   "metadata": {
    "id": "weplLMTFzB-5"
   },
   "source": [
    "####11. Create the following matrix:"
   ]
  },
  {
   "cell_type": "code",
   "execution_count": null,
   "metadata": {
    "colab": {
     "base_uri": "https://localhost:8080/"
    },
    "id": "zOYhjtcUzB-5",
    "outputId": "90b845f7-6b16-4065-9110-29d2a9a3be26"
   },
   "outputs": [
    {
     "data": {
      "text/plain": [
       "array([[0.01, 0.02, 0.03, ..., 0.08, 0.09, 0.1 ],\n",
       "       [0.11, 0.12, 0.13, ..., 0.18, 0.19, 0.2 ],\n",
       "       [0.21, 0.22, 0.23, ..., 0.28, 0.29, 0.3 ],\n",
       "       ...,\n",
       "       [0.71, 0.72, 0.73, ..., 0.78, 0.79, 0.8 ],\n",
       "       [0.81, 0.82, 0.83, ..., 0.88, 0.89, 0.9 ],\n",
       "       [0.91, 0.92, 0.93, ..., 0.98, 0.99, 1.  ]])"
      ]
     },
     "execution_count": 300,
     "metadata": {},
     "output_type": "execute_result"
    }
   ],
   "source": [
    "np.arange(1,101).reshape(10,10) / 100"
   ]
  },
  {
   "cell_type": "markdown",
   "metadata": {
    "id": "C1BYnPeozB-6"
   },
   "source": [
    "####12. Create an array of 20 linearly spaced points between 0 and 1:"
   ]
  },
  {
   "cell_type": "code",
   "execution_count": null,
   "metadata": {
    "colab": {
     "base_uri": "https://localhost:8080/"
    },
    "id": "0AWKD_v1zB-6",
    "outputId": "a651bfc7-84fb-42cb-d7f6-da10e327d6c5"
   },
   "outputs": [
    {
     "data": {
      "text/plain": [
       "array([0.   , 0.053, 0.105, ..., 0.895, 0.947, 1.   ])"
      ]
     },
     "execution_count": 301,
     "metadata": {},
     "output_type": "execute_result"
    }
   ],
   "source": [
    "np.linspace(0,1,20)"
   ]
  },
  {
   "cell_type": "markdown",
   "metadata": {
    "id": "3gyTmMQqRfXc"
   },
   "source": [
    "# Numpy Practice Question Set 3"
   ]
  },
  {
   "cell_type": "markdown",
   "metadata": {
    "id": "Sx6ID0kTzB-6"
   },
   "source": [
    "## Numpy Indexing and Selection\n",
    "\n",
    "Now you will be given a few matrices, and be asked to replicate the resulting matrix outputs:"
   ]
  },
  {
   "cell_type": "code",
   "execution_count": null,
   "metadata": {
    "colab": {
     "base_uri": "https://localhost:8080/"
    },
    "id": "bNXR7zkGzB-7",
    "outputId": "2fafa214-801d-4661-c199-aed3944f9737"
   },
   "outputs": [
    {
     "data": {
      "text/plain": [
       "array([[ 1,  2,  3,  4,  5],\n",
       "       [ 6,  7,  8,  9, 10],\n",
       "       [11, 12, 13, 14, 15],\n",
       "       [16, 17, 18, 19, 20],\n",
       "       [21, 22, 23, 24, 25]])"
      ]
     },
     "execution_count": 302,
     "metadata": {},
     "output_type": "execute_result"
    }
   ],
   "source": [
    "mat = np.arange(1,26).reshape(5,5)\n",
    "mat"
   ]
  },
  {
   "cell_type": "code",
   "execution_count": null,
   "metadata": {
    "collapsed": true,
    "id": "B6bRjfAhzB-7"
   },
   "outputs": [],
   "source": [
    "# WRITE CODE HERE THAT REPRODUCES THE OUTPUT OF THE CELL BELOW\n",
    "# BE CAREFUL NOT TO RUN THE CELL BELOW, OTHERWISE YOU WON'T\n",
    "# BE ABLE TO SEE THE OUTPUT ANY MORE"
   ]
  },
  {
   "cell_type": "code",
   "execution_count": null,
   "metadata": {
    "colab": {
     "base_uri": "https://localhost:8080/"
    },
    "id": "jgXTw6_GzB-7",
    "outputId": "cf83a670-770c-4be4-84ec-b53e0cbee561"
   },
   "outputs": [
    {
     "data": {
      "text/plain": [
       "array([[12, 13, 14, 15],\n",
       "       [17, 18, 19, 20],\n",
       "       [22, 23, 24, 25]])"
      ]
     },
     "execution_count": 304,
     "metadata": {},
     "output_type": "execute_result"
    }
   ],
   "source": [
    "mat[2:,1:]"
   ]
  },
  {
   "cell_type": "code",
   "execution_count": null,
   "metadata": {
    "collapsed": true,
    "id": "FdF69ZKizB-8"
   },
   "outputs": [],
   "source": [
    "# WRITE CODE HERE THAT REPRODUCES THE OUTPUT OF THE CELL BELOW\n",
    "# BE CAREFUL NOT TO RUN THE CELL BELOW, OTHERWISE YOU WON'T\n",
    "# BE ABLE TO SEE THE OUTPUT ANY MORE"
   ]
  },
  {
   "cell_type": "code",
   "execution_count": null,
   "metadata": {
    "colab": {
     "base_uri": "https://localhost:8080/"
    },
    "id": "dtyVNO3lzB-8",
    "outputId": "d80c42d6-f0f8-4269-d080-2d7d17b8e040"
   },
   "outputs": [
    {
     "data": {
      "text/plain": [
       "20"
      ]
     },
     "execution_count": 306,
     "metadata": {},
     "output_type": "execute_result"
    }
   ],
   "source": [
    "mat[3,4]"
   ]
  },
  {
   "cell_type": "code",
   "execution_count": null,
   "metadata": {
    "collapsed": true,
    "id": "7uMnfE6ezB-9"
   },
   "outputs": [],
   "source": [
    "# WRITE CODE HERE THAT REPRODUCES THE OUTPUT OF THE CELL BELOW\n",
    "# BE CAREFUL NOT TO RUN THE CELL BELOW, OTHERWISE YOU WON'T\n",
    "# BE ABLE TO SEE THE OUTPUT ANY MORE"
   ]
  },
  {
   "cell_type": "code",
   "execution_count": null,
   "metadata": {
    "colab": {
     "base_uri": "https://localhost:8080/"
    },
    "id": "9FuAJmp8zB-9",
    "outputId": "c704f30f-db5f-4972-a9a4-b9a4a95c3ec3"
   },
   "outputs": [
    {
     "data": {
      "text/plain": [
       "array([[ 2],\n",
       "       [ 7],\n",
       "       [12]])"
      ]
     },
     "execution_count": 308,
     "metadata": {},
     "output_type": "execute_result"
    }
   ],
   "source": [
    "mat[:3,1:2]"
   ]
  },
  {
   "cell_type": "code",
   "execution_count": null,
   "metadata": {
    "collapsed": true,
    "id": "DbM4XnCLzB--"
   },
   "outputs": [],
   "source": [
    "# WRITE CODE HERE THAT REPRODUCES THE OUTPUT OF THE CELL BELOW\n",
    "# BE CAREFUL NOT TO RUN THE CELL BELOW, OTHERWISE YOU WON'T\n",
    "# BE ABLE TO SEE THE OUTPUT ANY MORE"
   ]
  },
  {
   "cell_type": "code",
   "execution_count": null,
   "metadata": {
    "colab": {
     "base_uri": "https://localhost:8080/"
    },
    "id": "xGXdUgApzB--",
    "outputId": "c266f746-02f2-4ea8-d13c-1b7138ff3f21"
   },
   "outputs": [
    {
     "data": {
      "text/plain": [
       "array([21, 22, 23, 24, 25])"
      ]
     },
     "execution_count": 310,
     "metadata": {},
     "output_type": "execute_result"
    }
   ],
   "source": [
    "mat[4,:]"
   ]
  },
  {
   "cell_type": "code",
   "execution_count": null,
   "metadata": {
    "collapsed": true,
    "id": "Qj4IQRFMzB-_"
   },
   "outputs": [],
   "source": [
    "# WRITE CODE HERE THAT REPRODUCES THE OUTPUT OF THE CELL BELOW\n",
    "# BE CAREFUL NOT TO RUN THE CELL BELOW, OTHERWISE YOU WON'T\n",
    "# BE ABLE TO SEE THE OUTPUT ANY MORE"
   ]
  },
  {
   "cell_type": "code",
   "execution_count": null,
   "metadata": {
    "colab": {
     "base_uri": "https://localhost:8080/"
    },
    "id": "gzsYyLmCzB-_",
    "outputId": "5ec01f7f-60cc-47bc-ea09-08a0912dfc3a"
   },
   "outputs": [
    {
     "data": {
      "text/plain": [
       "array([[16, 17, 18, 19, 20],\n",
       "       [21, 22, 23, 24, 25]])"
      ]
     },
     "execution_count": 312,
     "metadata": {},
     "output_type": "execute_result"
    }
   ],
   "source": [
    "mat[3:5,:]"
   ]
  },
  {
   "cell_type": "markdown",
   "metadata": {
    "id": "FXD0DsHOzB-_"
   },
   "source": [
    "### Now do the following"
   ]
  },
  {
   "cell_type": "markdown",
   "metadata": {
    "id": "vt1HFkrlzB_A"
   },
   "source": [
    "#### Get the sum of all the values in mat"
   ]
  },
  {
   "cell_type": "code",
   "execution_count": null,
   "metadata": {
    "colab": {
     "base_uri": "https://localhost:8080/"
    },
    "id": "nwvAKQYrzB_A",
    "outputId": "14f36f55-06f6-4960-b9f0-e0ee22d3ea65"
   },
   "outputs": [
    {
     "data": {
      "text/plain": [
       "325"
      ]
     },
     "execution_count": 313,
     "metadata": {},
     "output_type": "execute_result"
    }
   ],
   "source": [
    "mat.sum()"
   ]
  },
  {
   "cell_type": "markdown",
   "metadata": {
    "id": "uEWFKH4BzB_A"
   },
   "source": [
    "#### Get the standard deviation of the values in mat"
   ]
  },
  {
   "cell_type": "code",
   "execution_count": null,
   "metadata": {
    "colab": {
     "base_uri": "https://localhost:8080/"
    },
    "id": "3nDQB1XDzB_B",
    "outputId": "5eb96863-a0a4-4baa-e824-7e6f17985208"
   },
   "outputs": [
    {
     "data": {
      "text/plain": [
       "7.211102550927978"
      ]
     },
     "execution_count": 314,
     "metadata": {},
     "output_type": "execute_result"
    }
   ],
   "source": [
    "mat.std()"
   ]
  },
  {
   "cell_type": "markdown",
   "metadata": {
    "id": "ENwXPyxVzB_B"
   },
   "source": [
    "#### Get the sum of all the columns in mat"
   ]
  },
  {
   "cell_type": "code",
   "execution_count": null,
   "metadata": {
    "colab": {
     "base_uri": "https://localhost:8080/"
    },
    "id": "SHPAZHbtzB_B",
    "outputId": "54d9664d-4449-48bb-fcd5-57b0115bcf6f"
   },
   "outputs": [
    {
     "data": {
      "text/plain": [
       "array([55, 60, 65, 70, 75])"
      ]
     },
     "execution_count": 315,
     "metadata": {},
     "output_type": "execute_result"
    }
   ],
   "source": [
    "mat.sum(axis=0)"
   ]
  },
  {
   "cell_type": "markdown",
   "metadata": {
    "id": "D13I3iRUKh_M"
   },
   "source": [
    "19. Create a 5x5 integer array from a range between 100 to 300 such that the difference between each element is *8*"
   ]
  },
  {
   "cell_type": "code",
   "execution_count": null,
   "metadata": {
    "colab": {
     "base_uri": "https://localhost:8080/"
    },
    "id": "Hi30mQtVDYsu",
    "outputId": "b1a781bc-5b58-49ee-88e7-1ab31d8de0c5"
   },
   "outputs": [
    {
     "name": "stdout",
     "output_type": "stream",
     "text": [
      "[[100 108 116 124 132]\n",
      " [140 148 156 164 172]\n",
      " [180 188 196 204 212]\n",
      " [220 228 236 244 252]\n",
      " [260 268 276 284 292]]\n"
     ]
    }
   ],
   "source": [
    "sampleArray = np.arange(100, 300, 8)\n",
    "sampleArray = sampleArray.reshape(5,5)\n",
    "print (sampleArray)"
   ]
  },
  {
   "cell_type": "markdown",
   "metadata": {
    "id": "qaG2xu9YYf0O"
   },
   "source": [
    "20. Following is the provided numPy array. Return array of items by taking the third column from all rows"
   ]
  },
  {
   "cell_type": "code",
   "execution_count": null,
   "metadata": {
    "colab": {
     "base_uri": "https://localhost:8080/"
    },
    "id": "cfTN9jVVYcVI",
    "outputId": "79bfa575-64fe-4f88-e4cb-a0124f9b278a"
   },
   "outputs": [
    {
     "name": "stdout",
     "output_type": "stream",
     "text": [
      "\n",
      " Printing array of items in the third column from all rows\n",
      "[3 6 9]\n"
     ]
    }
   ],
   "source": [
    "sampleArray = np.array([[1,2,3], [4,5,6], [7,8,9]])\n",
    "\n",
    "print(\"\\n Printing array of items in the third column from all rows\")\n",
    "newArray = sampleArray[...,2]\n",
    "print(newArray)"
   ]
  },
  {
   "cell_type": "markdown",
   "metadata": {
    "id": "BMftl7ZFY_Wm"
   },
   "source": [
    "21. Split the array into 6 equal-sized sub-arrays"
   ]
  },
  {
   "cell_type": "code",
   "execution_count": null,
   "metadata": {
    "colab": {
     "base_uri": "https://localhost:8080/"
    },
    "id": "J_dm59MaY-kL",
    "outputId": "04f55c87-30be-4653-b6cb-ed6f85e5d72f"
   },
   "outputs": [
    {
     "name": "stdout",
     "output_type": "stream",
     "text": [
      "[[10 11 12 13 14]\n",
      " [15 16 17 18 19]\n",
      " [20 21 22 23 24]\n",
      " [25 26 27 28 29]\n",
      " [30 31 32 33 34]\n",
      " [35 36 37 38 39]]\n",
      "[array([[10, 11, 12, 13, 14]]), array([[15, 16, 17, 18, 19]]), array([[20, 21, 22, 23, 24]]), array([[25, 26, 27, 28, 29]]), array([[30, 31, 32, 33, 34]]), array([[35, 36, 37, 38, 39]])]\n"
     ]
    }
   ],
   "source": [
    "sampleArray = np.arange(10, 40, 1)\n",
    "sampleArray = sampleArray.reshape(6,5)\n",
    "print (sampleArray)\n",
    "\n",
    "subArrays = np.split(sampleArray, 6) \n",
    "print(subArrays)"
   ]
  },
  {
   "cell_type": "markdown",
   "metadata": {
    "id": "8PJmJbtDZluO"
   },
   "source": [
    "22. Print max from axis 0 and min from axis 1 from the following 2-D array."
   ]
  },
  {
   "cell_type": "code",
   "execution_count": null,
   "metadata": {
    "colab": {
     "base_uri": "https://localhost:8080/"
    },
    "id": "V5s7euJNZk0C",
    "outputId": "65e3ffee-3971-4357-c822-a8d8d30ed277"
   },
   "outputs": [
    {
     "name": "stdout",
     "output_type": "stream",
     "text": [
      "[[34 43 73]\n",
      " [82 22 12]\n",
      " [53 94 66]]\n",
      "[34 12 53]\n",
      "[82 94 73]\n"
     ]
    }
   ],
   "source": [
    "sampleArray = np.array([[34,43,73],[82,22,12],[53,94,66]]) \n",
    "print (sampleArray)\n",
    "\n",
    "minOfAxisOne = np.amin(sampleArray, 1) \n",
    "print(minOfAxisOne)\n",
    "\n",
    "maxOfAxisOne = np.amax(sampleArray, 0) \n",
    "print(maxOfAxisOne)"
   ]
  },
  {
   "cell_type": "markdown",
   "metadata": {
    "id": "1zKfLhjjE4h-"
   },
   "source": [
    "23. Find element-wise absolute value of a given numpy array."
   ]
  },
  {
   "cell_type": "code",
   "execution_count": null,
   "metadata": {
    "colab": {
     "base_uri": "https://localhost:8080/"
    },
    "id": "yFYlqIo_Bjgo",
    "outputId": "4f8bbee1-8ccf-43b3-fe6d-ccf1efd34d4b"
   },
   "outputs": [
    {
     "name": "stdout",
     "output_type": "stream",
     "text": [
      "Given array:\n",
      " [-1 -2  3 -7  9]\n",
      "Absolute array:\n",
      " [1 2 3 7 9]\n"
     ]
    }
   ],
   "source": [
    "array = np.array([-1, -2, 3, -7, 9])\n",
    "  \n",
    "print(\"Given array:\\n\", array)\n",
    "array2 = np.absolute(array)\n",
    "print(\"Absolute array:\\n\", array2)"
   ]
  },
  {
   "cell_type": "markdown",
   "metadata": {
    "id": "eIcB37S1Nk-j"
   },
   "source": [
    "24. Find element-wise absolute value of 2d-array."
   ]
  },
  {
   "cell_type": "code",
   "execution_count": null,
   "metadata": {
    "colab": {
     "base_uri": "https://localhost:8080/"
    },
    "id": "pYEPxFB3Nly3",
    "outputId": "d6c03471-a66f-4956-c1f9-a8435b0e1be5"
   },
   "outputs": [
    {
     "name": "stdout",
     "output_type": "stream",
     "text": [
      "Given array:\n",
      " [[ 1 -2  3]\n",
      " [-4  5 -6]]\n",
      "Absolute array:\n",
      " [[1 2 3]\n",
      " [4 5 6]]\n"
     ]
    }
   ],
   "source": [
    "array = np.array([[1, -2, 3],\n",
    "                  [-4, 5, -6]])\n",
    "  \n",
    "print(\"Given array:\\n\",array)\n",
    "array1 = np.absolute(array)\n",
    "  \n",
    "print(\"Absolute array:\\n\",array1)"
   ]
  },
  {
   "cell_type": "markdown",
   "metadata": {
    "id": "m4iJ68wSNzAy"
   },
   "source": [
    "25. Find element-wise absolute value of 3d-array."
   ]
  },
  {
   "cell_type": "code",
   "execution_count": null,
   "metadata": {
    "colab": {
     "base_uri": "https://localhost:8080/"
    },
    "id": "PHai9eKtN6vq",
    "outputId": "b8e3a091-d351-48ee-f3ef-34bac537cab9"
   },
   "outputs": [
    {
     "name": "stdout",
     "output_type": "stream",
     "text": [
      "Given array:\n",
      " [[[  1.    -2.     3.  ]\n",
      "  [ -4.     5.    -6.  ]]\n",
      "\n",
      " [[ -7.5   -8.22   9.  ]\n",
      "  [ 10.    11.5  -12.5 ]]]\n",
      "Absolute array:\n",
      " [[[ 1.    2.    3.  ]\n",
      "  [ 4.    5.    6.  ]]\n",
      "\n",
      " [[ 7.5   8.22  9.  ]\n",
      "  [10.   11.5  12.5 ]]]\n"
     ]
    }
   ],
   "source": [
    "array = np.array([[[1, -2, 3],[-4, 5, -6]],[[-7.5, -8.22, 9.0],[10.0, 11.5, -12.5]]])\n",
    "print(\"Given array:\\n\",array)\n",
    "array1 = np.absolute(array)\n",
    "print(\"Absolute array:\\n\",array1)"
   ]
  },
  {
   "cell_type": "markdown",
   "metadata": {
    "id": "gDKKjx4dOZYz"
   },
   "source": [
    "26. Find absolute squareroot of an array."
   ]
  },
  {
   "cell_type": "code",
   "execution_count": null,
   "metadata": {
    "colab": {
     "base_uri": "https://localhost:8080/"
    },
    "id": "iui7B-C0OYlE",
    "outputId": "025b2ce4-58aa-4814-e266-3b9fa4271fbe"
   },
   "outputs": [
    {
     "name": "stdout",
     "output_type": "stream",
     "text": [
      "square-root of an array1  :  [1. 2. 3. 4.]\n",
      "square-root of an array2  :  [2.449 3.162 4.243]\n"
     ]
    }
   ],
   "source": [
    "arr1 = np.sqrt([1, 4, 9, 16])\n",
    "arr2 = np.sqrt([6, 10, 18])\n",
    "print(\"square-root of an array1  : \", arr1)\n",
    "print(\"square-root of an array2  : \", arr2)"
   ]
  },
  {
   "cell_type": "markdown",
   "metadata": {
    "id": "WopEColNOprL"
   },
   "source": [
    "27. Round off the values of a given matrix."
   ]
  },
  {
   "cell_type": "code",
   "execution_count": null,
   "metadata": {
    "colab": {
     "base_uri": "https://localhost:8080/"
    },
    "id": "dfxxDOoQOo1L",
    "outputId": "5c5be1e0-0e6c-4c75-c2a0-ef2d1ce5d7d2"
   },
   "outputs": [
    {
     "name": "stdout",
     "output_type": "stream",
     "text": [
      "[[ 6.  1.]\n",
      " [13. 32.]]\n"
     ]
    }
   ],
   "source": [
    "import numpy as np\n",
    "mat1 = np.matrix('[6.4, 1.3; 12.7, 32.3]')\n",
    "mat2 = mat1.round()    \n",
    "print(mat2)"
   ]
  },
  {
   "cell_type": "markdown",
   "metadata": {
    "id": "EyXBk3A9PCiC"
   },
   "source": [
    "28.  Print max from axis 0 and min from axis 1 from the following 2-D array."
   ]
  },
  {
   "cell_type": "code",
   "execution_count": null,
   "metadata": {
    "colab": {
     "base_uri": "https://localhost:8080/"
    },
    "id": "5H-372ZCPgp6",
    "outputId": "fb9a03ea-c9ec-4e88-9d4f-1f74b77d584d"
   },
   "outputs": [
    {
     "name": "stdout",
     "output_type": "stream",
     "text": [
      "[[34 43 73]\n",
      " [82 22 12]\n",
      " [53 94 66]]\n",
      "Printing amin Of Axis 1\n",
      "[34 12 53]\n",
      "Printing amax Of Axis 0\n",
      "[82 94 73]\n"
     ]
    }
   ],
   "source": [
    "sampleArray = np.array([[34,43,73],[82,22,12],[53,94,66]])\n",
    "print (sampleArray)\n",
    "minOfAxisOne = np.amin(sampleArray, 1) \n",
    "print(\"Printing amin Of Axis 1\")\n",
    "print(minOfAxisOne)\n",
    "maxOfAxisOne = np.amax(sampleArray, 0) \n",
    "print(\"Printing amax Of Axis 0\")\n",
    "print(maxOfAxisOne)"
   ]
  },
  {
   "cell_type": "markdown",
   "metadata": {
    "id": "rJ5Mmh9FP3Pi"
   },
   "source": [
    "29. Delete the second column from a given array and insert the following new column in its place.\n",
    "\n",
    "sampleArray = numpy.array([[34,43,73],[82,22,12],[53,94,66]]) \n",
    "\n",
    "newColumn = numpy.array([[10,10,10]])"
   ]
  },
  {
   "cell_type": "code",
   "execution_count": null,
   "metadata": {
    "colab": {
     "base_uri": "https://localhost:8080/"
    },
    "id": "BvJmi4ZqPx6X",
    "outputId": "7d672f9e-7203-482e-ef2a-d2b66e867d82"
   },
   "outputs": [
    {
     "name": "stdout",
     "output_type": "stream",
     "text": [
      "Original array\n",
      " [[34 43 73]\n",
      " [82 22 12]\n",
      " [53 94 66]]\n",
      "Array after deleting column 2 on axis 1\n",
      "[[34 73]\n",
      " [82 12]\n",
      " [53 66]]\n",
      "Array after inserting column 2 on axis 1\n",
      "[[34 10 73]\n",
      " [82 10 12]\n",
      " [53 10 66]]\n"
     ]
    }
   ],
   "source": [
    "sampleArray = np.array([[34,43,73],[82,22,12],[53,94,66]]) \n",
    "\n",
    "print (\"Original array\\n\", sampleArray)\n",
    "\n",
    "print(\"Array after deleting column 2 on axis 1\")\n",
    "sampleArray = np.delete(sampleArray , 1, axis = 1) \n",
    "print (sampleArray)\n",
    "\n",
    "arr = np.array([[10,10,10]])\n",
    "\n",
    "print(\"Array after inserting column 2 on axis 1\")\n",
    "sampleArray = np.insert(sampleArray , 1, arr, axis = 1) \n",
    "print (sampleArray)\n"
   ]
  },
  {
   "cell_type": "markdown",
   "metadata": {
    "id": "zqlQqutdQZOi"
   },
   "source": [
    "30. Create an array of odd integers from the given array of integers."
   ]
  },
  {
   "cell_type": "code",
   "execution_count": null,
   "metadata": {
    "colab": {
     "base_uri": "https://localhost:8080/"
    },
    "id": "MQBRRGHHQYti",
    "outputId": "84570172-931b-4add-aa23-42962db1e396"
   },
   "outputs": [
    {
     "data": {
      "text/plain": [
       "array([1, 3, 5, 7, 9])"
      ]
     },
     "execution_count": 327,
     "metadata": {},
     "output_type": "execute_result"
    }
   ],
   "source": [
    "arr = np.array([0, 1, 2, 3, 4, 5, 6, 7, 8, 9])\n",
    "arr[arr % 2 == 1]"
   ]
  },
  {
   "cell_type": "markdown",
   "metadata": {
    "id": "zEvV5yXBUWva"
   },
   "source": [
    "31. Replace all the numbers greater than 5 with 1 and below 5 with -1 in the array."
   ]
  },
  {
   "cell_type": "code",
   "execution_count": null,
   "metadata": {
    "colab": {
     "base_uri": "https://localhost:8080/"
    },
    "id": "DbV7iayfUdOp",
    "outputId": "7572747b-1257-44f6-962e-16ce89e5acc4"
   },
   "outputs": [
    {
     "data": {
      "text/plain": [
       "[-1, -1, 1, -1, 1, 1, 1]"
      ]
     },
     "execution_count": 328,
     "metadata": {},
     "output_type": "execute_result"
    }
   ],
   "source": [
    "arr = [1,2,6,4,8,9,10]\n",
    "arr1=[]\n",
    "for x in arr:\n",
    "  if x>5:\n",
    "    arr1.append(1)\n",
    "  else:\n",
    "    arr1.append(-1)\n",
    "arr1"
   ]
  },
  {
   "cell_type": "markdown",
   "metadata": {
    "id": "hzI545tue4dm"
   },
   "source": [
    "32. Append 2 arrays containing numbers from 1 to 10 vertically"
   ]
  },
  {
   "cell_type": "code",
   "execution_count": null,
   "metadata": {
    "colab": {
     "base_uri": "https://localhost:8080/"
    },
    "id": "RCVNFF43fB8Y",
    "outputId": "05e0eacb-77d6-47a7-c165-448054ff0887"
   },
   "outputs": [
    {
     "data": {
      "text/plain": [
       "array([[0, 1, 2, 3, 4],\n",
       "       [5, 6, 7, 8, 9],\n",
       "       [1, 1, 1, 1, 1],\n",
       "       [1, 1, 1, 1, 1]])"
      ]
     },
     "execution_count": 329,
     "metadata": {},
     "output_type": "execute_result"
    }
   ],
   "source": [
    "a = np.arange(10).reshape(2,-1)\n",
    "b = np.repeat(1, 10).reshape(2,-1)\n",
    "np.vstack([a, b])"
   ]
  },
  {
   "cell_type": "markdown",
   "metadata": {
    "id": "EPnRtn-afKeU"
   },
   "source": [
    "33. Append 2 arrays containing numbers from 1 to 10  horizontally"
   ]
  },
  {
   "cell_type": "code",
   "execution_count": null,
   "metadata": {
    "colab": {
     "base_uri": "https://localhost:8080/"
    },
    "id": "pG6apquefC3A",
    "outputId": "9e21a4da-534d-4111-9338-cd1ea7803951"
   },
   "outputs": [
    {
     "data": {
      "text/plain": [
       "array([[0, 1, 2, ..., 1, 1, 1],\n",
       "       [5, 6, 7, ..., 1, 1, 1]])"
      ]
     },
     "execution_count": 330,
     "metadata": {},
     "output_type": "execute_result"
    }
   ],
   "source": [
    "a = np.arange(10).reshape(2,-1)\n",
    "b = np.repeat(1, 10).reshape(2,-1)\n",
    "np.hstack([a, b])"
   ]
  },
  {
   "cell_type": "markdown",
   "metadata": {
    "id": "wXw_ZM1QhBn1"
   },
   "source": [
    "34.  Find the number and position of missing values in iris_2d‘s sepallength (1st column)\n",
    "\n",
    "Load dataset using: \n",
    "\n",
    "url = 'https://archive.ics.uci.edu/ml/machine-learning-databases/iris/iris.data'\n",
    "\n",
    "\n",
    "iris_2d = np.genfromtxt(url, delimiter=',', dtype='float')"
   ]
  },
  {
   "cell_type": "code",
   "execution_count": null,
   "metadata": {
    "colab": {
     "base_uri": "https://localhost:8080/"
    },
    "id": "wfEw5RcOfThw",
    "outputId": "431c56e7-2bdc-4a5d-d9f0-3f736bb1411d"
   },
   "outputs": [
    {
     "data": {
      "text/plain": [
       "array([[4.8, 3.4, 1.6, 0.2, nan],\n",
       "       [4.8, 3.4, 1.9, 0.2, nan],\n",
       "       [4.7, 3.2, 1.6, 0.2, nan],\n",
       "       [4.8, 3.1, 1.6, 0.2, nan],\n",
       "       [4.9, 2.4, 3.3, 1. , nan],\n",
       "       [4.9, 2.5, 4.5, 1.7, nan]])"
      ]
     },
     "execution_count": 331,
     "metadata": {},
     "output_type": "execute_result"
    }
   ],
   "source": [
    "# Input\n",
    "url = 'https://archive.ics.uci.edu/ml/machine-learning-databases/iris/iris.data'\n",
    "iris_2d = np.genfromtxt(url, delimiter=',', dtype='float')\n",
    "iris_2d[np.random.randint(150, size=20), np.random.randint(4, size=20)] = np.nan\n",
    "\n",
    "condition = (iris_2d[:, 2] > 1.5) & (iris_2d[:, 0] < 5.0)\n",
    "iris_2d[condition]"
   ]
  },
  {
   "cell_type": "markdown",
   "metadata": {
    "id": "tNfdvzit8ucR"
   },
   "source": [
    "35. Select the rows of iris_2d that does not have any nan value."
   ]
  },
  {
   "cell_type": "code",
   "execution_count": null,
   "metadata": {
    "colab": {
     "base_uri": "https://localhost:8080/"
    },
    "id": "VtlCpbXT8tT0",
    "outputId": "4a357db4-5e5a-43ca-9409-b6cd4f0f1f17"
   },
   "outputs": [
    {
     "data": {
      "text/plain": [
       "array([[5.1, 3.5, 1.4, 0.2],\n",
       "       [4.9, 3. , 1.4, 0.2],\n",
       "       [4.7, 3.2, 1.3, 0.2],\n",
       "       [5. , 3.6, 1.4, 0.2],\n",
       "       [5.4, 3.9, 1.7, 0.4]])"
      ]
     },
     "execution_count": 332,
     "metadata": {},
     "output_type": "execute_result"
    }
   ],
   "source": [
    "url = 'https://archive.ics.uci.edu/ml/machine-learning-databases/iris/iris.data'\n",
    "iris_2d = np.genfromtxt(url, delimiter=',', dtype='float', usecols=[0,1,2,3])\n",
    "iris_2d[np.random.randint(150, size=20), np.random.randint(4, size=20)] = np.nan\n",
    "\n",
    "iris_2d[np.sum(np.isnan(iris_2d), axis = 1) == 0][:5]"
   ]
  },
  {
   "cell_type": "markdown",
   "metadata": {
    "id": "ALnQ86nh9haM"
   },
   "source": [
    "36. Find the correlation between SepalLength(1st column) and PetalLength(3rd column) in iris_2d"
   ]
  },
  {
   "cell_type": "code",
   "execution_count": null,
   "metadata": {
    "colab": {
     "base_uri": "https://localhost:8080/"
    },
    "id": "0kVOtpzs9gSP",
    "outputId": "0a76fdd4-71bf-487b-ece3-b9fa26e3451d"
   },
   "outputs": [
    {
     "data": {
      "text/plain": [
       "0.8717541573048718"
      ]
     },
     "execution_count": 333,
     "metadata": {},
     "output_type": "execute_result"
    }
   ],
   "source": [
    "url = 'https://archive.ics.uci.edu/ml/machine-learning-databases/iris/iris.data'\n",
    "iris = np.genfromtxt(url, delimiter=',', dtype='float', usecols=[0,1,2,3])\n",
    "\n",
    "np.corrcoef(iris[:, 0], iris[:, 2])[0, 1]"
   ]
  },
  {
   "cell_type": "markdown",
   "metadata": {
    "id": "NYWIVhgW9xAf"
   },
   "source": [
    "37. Replace all ccurrences of nan with 0 in numpy array"
   ]
  },
  {
   "cell_type": "code",
   "execution_count": null,
   "metadata": {
    "colab": {
     "base_uri": "https://localhost:8080/"
    },
    "id": "dKh4xXSO9wHK",
    "outputId": "a3f29cc1-547c-4e3c-f378-85b9750a6cb4"
   },
   "outputs": [
    {
     "data": {
      "text/plain": [
       "array([[5.1, 3.5, 1.4, 0.2],\n",
       "       [4.9, 3. , 1.4, 0.2],\n",
       "       [4.7, 3.2, 1.3, 0.2],\n",
       "       [4.6, 0. , 1.5, 0. ]])"
      ]
     },
     "execution_count": 334,
     "metadata": {},
     "output_type": "execute_result"
    }
   ],
   "source": [
    "url = 'https://archive.ics.uci.edu/ml/machine-learning-databases/iris/iris.data'\n",
    "iris_2d = np.genfromtxt(url, delimiter=',', dtype='float', usecols=[0,1,2,3])\n",
    "iris_2d[np.random.randint(150, size=20), np.random.randint(4, size=20)] = np.nan\n",
    "\n",
    "iris_2d[np.isnan(iris_2d)] = 0\n",
    "iris_2d[:4]"
   ]
  },
  {
   "cell_type": "markdown",
   "metadata": {
    "id": "Gp-j1gO7992p"
   },
   "source": [
    "38. Select the rows of iris_2d that does not have any nan value."
   ]
  },
  {
   "cell_type": "code",
   "execution_count": null,
   "metadata": {
    "colab": {
     "base_uri": "https://localhost:8080/"
    },
    "id": "62esiMR98to2",
    "outputId": "b6ff6751-8988-424c-fd6d-02e67a4dbba2"
   },
   "outputs": [
    {
     "data": {
      "text/plain": [
       "array([[5.1, 3.5, 1.4, 0.2],\n",
       "       [4.9, 3. , 1.4, 0.2],\n",
       "       [4.7, 3.2, 1.3, 0.2],\n",
       "       [4.6, 3.1, 1.5, 0.2],\n",
       "       [5. , 3.6, 1.4, 0.2]])"
      ]
     },
     "execution_count": 335,
     "metadata": {},
     "output_type": "execute_result"
    }
   ],
   "source": [
    "url = 'https://archive.ics.uci.edu/ml/machine-learning-databases/iris/iris.data'\n",
    "iris_2d = np.genfromtxt(url, delimiter=',', dtype='float', usecols=[0,1,2,3])\n",
    "iris_2d[np.random.randint(150, size=20), np.random.randint(4, size=20)] = np.nan\n",
    "\n",
    "iris_2d[np.sum(np.isnan(iris_2d), axis = 1) == 0][:5]"
   ]
  },
  {
   "cell_type": "markdown",
   "metadata": {
    "id": "mZMIR49C-Q6S"
   },
   "source": [
    "39. Find the unique values and the count of unique values in iris’s 'species' column."
   ]
  },
  {
   "cell_type": "code",
   "execution_count": null,
   "metadata": {
    "colab": {
     "base_uri": "https://localhost:8080/"
    },
    "id": "T6--rtav-OE4",
    "outputId": "2d5aba36-934d-450f-c031-e2c3bc1f0a27"
   },
   "outputs": [
    {
     "data": {
      "text/plain": [
       "(array([b'Iris-setosa', b'Iris-versicolor', b'Iris-virginica'],\n",
       "       dtype='|S15'), array([50, 50, 50]))"
      ]
     },
     "execution_count": 336,
     "metadata": {},
     "output_type": "execute_result"
    }
   ],
   "source": [
    "url = 'https://archive.ics.uci.edu/ml/machine-learning-databases/iris/iris.data'\n",
    "iris = np.genfromtxt(url, delimiter=',', dtype='object')\n",
    "names = ('sepallength', 'sepalwidth', 'petallength', 'petalwidth', 'species')\n",
    "\n",
    "species = np.array([row.tolist()[4] for row in iris])\n",
    "\n",
    "np.unique(species, return_counts=True)"
   ]
  },
  {
   "cell_type": "markdown",
   "metadata": {
    "id": "PXC95P1X_Dx-"
   },
   "source": [
    "40. Bin the petal length (3rd) column of iris_2d to form a text array, such that if petal length is:\n",
    "\n",
    "- Less than 3 –> ‘small’\n",
    "- 3-5 –> ‘medium’\n",
    "- ‘>=5 –> ‘large’"
   ]
  },
  {
   "cell_type": "code",
   "execution_count": null,
   "metadata": {
    "colab": {
     "base_uri": "https://localhost:8080/"
    },
    "id": "5--rcPiQ-rCJ",
    "outputId": "1a15f424-f297-4641-bdc6-9eb19161f702"
   },
   "outputs": [
    {
     "data": {
      "text/plain": [
       "['small', 'small', 'small', 'small']"
      ]
     },
     "execution_count": 337,
     "metadata": {},
     "output_type": "execute_result"
    }
   ],
   "source": [
    "url = 'https://archive.ics.uci.edu/ml/machine-learning-databases/iris/iris.data'\n",
    "iris = np.genfromtxt(url, delimiter=',', dtype='object')\n",
    "names = ('sepallength', 'sepalwidth', 'petallength', 'petalwidth', 'species')\n",
    "\n",
    "petal_length_bin = np.digitize(iris[:, 2].astype('float'), [0, 3, 5, 10])\n",
    "\n",
    "label_map = {1: 'small', 2: 'medium', 3: 'large', 4: np.nan}\n",
    "petal_length_cat = [label_map[x] for x in petal_length_bin]\n",
    "\n",
    "petal_length_cat[:4]"
   ]
  },
  {
   "cell_type": "markdown",
   "metadata": {
    "id": "lJq6Bncy_THn"
   },
   "source": [
    "41. Create a new column for volume in iris_2d, where volume is (pi x petallength x sepal_length^2)/3"
   ]
  },
  {
   "cell_type": "code",
   "execution_count": null,
   "metadata": {
    "colab": {
     "base_uri": "https://localhost:8080/"
    },
    "id": "onEqfNxa_STl",
    "outputId": "9185010a-d76c-4888-8224-e723265dcb6b"
   },
   "outputs": [
    {
     "data": {
      "text/plain": [
       "array([[b'5.1', b'3.5', b'1.4', b'0.2', b'Iris-setosa',\n",
       "        38.13265162927291],\n",
       "       [b'4.9', b'3.0', b'1.4', b'0.2', b'Iris-setosa',\n",
       "        35.200498485922445],\n",
       "       [b'4.7', b'3.2', b'1.3', b'0.2', b'Iris-setosa', 30.0723720777127],\n",
       "       [b'4.6', b'3.1', b'1.5', b'0.2', b'Iris-setosa',\n",
       "        33.238050274980004]], dtype=object)"
      ]
     },
     "execution_count": 338,
     "metadata": {},
     "output_type": "execute_result"
    }
   ],
   "source": [
    "url = 'https://archive.ics.uci.edu/ml/machine-learning-databases/iris/iris.data'\n",
    "iris_2d = np.genfromtxt(url, delimiter=',', dtype='object')\n",
    "\n",
    "sepallength = iris_2d[:, 0].astype('float')\n",
    "petallength = iris_2d[:, 2].astype('float')\n",
    "volume = (np.pi * petallength * (sepallength**2))/3\n",
    "\n",
    "volume = volume[:, np.newaxis]\n",
    "\n",
    "out = np.hstack([iris_2d, volume])\n",
    "\n",
    "out[:4]"
   ]
  },
  {
   "cell_type": "markdown",
   "metadata": {
    "id": "wL94N7Jl_jPv"
   },
   "source": [
    "42.  Randomly sample iris‘s species such that setose is twice the number of versicolor and virginica"
   ]
  },
  {
   "cell_type": "code",
   "execution_count": null,
   "metadata": {
    "colab": {
     "base_uri": "https://localhost:8080/"
    },
    "id": "Xb473Sdj_iPO",
    "outputId": "950b0245-a08b-4435-fb47-2a8480f08bcc"
   },
   "outputs": [
    {
     "name": "stdout",
     "output_type": "stream",
     "text": [
      "(array(['Iris-setosa', 'Iris-versicolor', 'Iris-virginica'], dtype='<U15'), array([77, 37, 36]))\n"
     ]
    }
   ],
   "source": [
    "url = 'https://archive.ics.uci.edu/ml/machine-learning-databases/iris/iris.data'\n",
    "iris = np.genfromtxt(url, delimiter=',', dtype='object')\n",
    "\n",
    "species = iris[:, 4]\n",
    "\n",
    "np.random.seed(100)\n",
    "a = np.array(['Iris-setosa', 'Iris-versicolor', 'Iris-virginica'])\n",
    "species_out = np.random.choice(a, 150, p=[0.5, 0.25, 0.25])\n",
    "print(np.unique(species_out, return_counts=True))"
   ]
  },
  {
   "cell_type": "markdown",
   "metadata": {
    "id": "QjTLBoRX_2QX"
   },
   "source": [
    "43. What is the value of second longest petallength of species setosa"
   ]
  },
  {
   "cell_type": "code",
   "execution_count": null,
   "metadata": {
    "colab": {
     "base_uri": "https://localhost:8080/"
    },
    "id": "UTeFHcpV_1f5",
    "outputId": "6af1f253-6c7d-41d0-b7f1-0001bb15dd73"
   },
   "outputs": [
    {
     "data": {
      "text/plain": [
       "1.7"
      ]
     },
     "execution_count": 340,
     "metadata": {},
     "output_type": "execute_result"
    }
   ],
   "source": [
    "url = 'https://archive.ics.uci.edu/ml/machine-learning-databases/iris/iris.data'\n",
    "iris = np.genfromtxt(url, delimiter=',', dtype='object')\n",
    "\n",
    "petal_len_setosa = iris[iris[:, 4] == b'Iris-setosa', [2]].astype('float')\n",
    "\n",
    "np.unique(np.sort(petal_len_setosa))[-2]"
   ]
  },
  {
   "cell_type": "markdown",
   "metadata": {
    "id": "KS0zu9wFDD3H"
   },
   "source": [
    "44. Sort the iris dataset based on sepallength column."
   ]
  },
  {
   "cell_type": "code",
   "execution_count": null,
   "metadata": {
    "colab": {
     "base_uri": "https://localhost:8080/"
    },
    "id": "pr4TPRMeDOzH",
    "outputId": "44af3d82-2c93-479d-de56-5cf41fab80fc"
   },
   "outputs": [
    {
     "name": "stdout",
     "output_type": "stream",
     "text": [
      "[[b'4.3' b'3.0' b'1.1' b'0.1' b'Iris-setosa']\n",
      " [b'4.4' b'3.2' b'1.3' b'0.2' b'Iris-setosa']\n",
      " [b'4.4' b'3.0' b'1.3' b'0.2' b'Iris-setosa']\n",
      " ...\n",
      " [b'4.9' b'2.5' b'4.5' b'1.7' b'Iris-virginica']\n",
      " [b'4.9' b'3.1' b'1.5' b'0.1' b'Iris-setosa']\n",
      " [b'4.9' b'3.1' b'1.5' b'0.1' b'Iris-setosa']]\n"
     ]
    }
   ],
   "source": [
    "print(iris[iris[:,0].argsort()][:20])"
   ]
  },
  {
   "cell_type": "markdown",
   "metadata": {
    "id": "dqbqxFb0HLwc"
   },
   "source": [
    "45. Find the most frequent value of petal length (3rd column) in iris dataset."
   ]
  },
  {
   "cell_type": "code",
   "execution_count": null,
   "metadata": {
    "colab": {
     "base_uri": "https://localhost:8080/"
    },
    "id": "MfjV2GDqHHGd",
    "outputId": "d9f041d6-161a-4fb7-fa1a-3e8eb56096d3"
   },
   "outputs": [
    {
     "name": "stdout",
     "output_type": "stream",
     "text": [
      "b'1.5'\n"
     ]
    }
   ],
   "source": [
    "url = 'https://archive.ics.uci.edu/ml/machine-learning-databases/iris/iris.data'\n",
    "iris = np.genfromtxt(url, delimiter=',', dtype='object')\n",
    "\n",
    "vals, counts = np.unique(iris[:, 2], return_counts=True)\n",
    "print(vals[np.argmax(counts)])"
   ]
  },
  {
   "cell_type": "markdown",
   "metadata": {
    "id": "q5f0Kq9_HTKz"
   },
   "source": [
    "46. Find the position of the first occurrence of a value greater than 1.0 in petalwidth 4th column of iris dataset."
   ]
  },
  {
   "cell_type": "code",
   "execution_count": null,
   "metadata": {
    "colab": {
     "base_uri": "https://localhost:8080/"
    },
    "id": "pOFQ-mgNHePB",
    "outputId": "7a23ec55-902b-4e9d-938b-88f1c3611fa5"
   },
   "outputs": [
    {
     "data": {
      "text/plain": [
       "array([50])"
      ]
     },
     "execution_count": 343,
     "metadata": {},
     "output_type": "execute_result"
    }
   ],
   "source": [
    "url = 'https://archive.ics.uci.edu/ml/machine-learning-databases/iris/iris.data'\n",
    "iris = np.genfromtxt(url, delimiter=',', dtype='object')\n",
    "\n",
    "np.argwhere(iris[:, 3].astype(float) > 1.0)[0]"
   ]
  },
  {
   "cell_type": "markdown",
   "metadata": {
    "id": "oUqN6ntyHqJn"
   },
   "source": [
    "47. From the array a, replace all values greater than 30 to 30 and less than 10 to 10. \n",
    "\n",
    "**Input:**\n",
    "\n",
    "np.random.seed(100)\n",
    "\n",
    "\n",
    "a = np.random.uniform(1,50, 20)"
   ]
  },
  {
   "cell_type": "code",
   "execution_count": null,
   "metadata": {
    "colab": {
     "base_uri": "https://localhost:8080/"
    },
    "id": "j4RPjZdYHnEV",
    "outputId": "a4cb23d5-ade7-405c-b001-02fc66c02f72"
   },
   "outputs": [
    {
     "data": {
      "text/plain": [
       "array([27.627, 14.64 , 21.801, ..., 10.   , 30.   , 14.43 ])"
      ]
     },
     "execution_count": 344,
     "metadata": {},
     "output_type": "execute_result"
    }
   ],
   "source": [
    "np.random.seed(100)\n",
    "a = np.random.uniform(1,50, 20)\n",
    "np.clip(a, a_min=10, a_max=30)"
   ]
  },
  {
   "cell_type": "markdown",
   "metadata": {
    "id": "ueIp1ZMvH7bB"
   },
   "source": [
    "48. Get the positions of top 5 maximum values in a given array a"
   ]
  },
  {
   "cell_type": "code",
   "execution_count": null,
   "metadata": {
    "colab": {
     "base_uri": "https://localhost:8080/"
    },
    "id": "BPR3sR0DH2Ys",
    "outputId": "e08dbdac-d510-4440-adc4-302d0747e640"
   },
   "outputs": [
    {
     "name": "stdout",
     "output_type": "stream",
     "text": [
      "[ 4 13  5 ...  3 10 15]\n"
     ]
    }
   ],
   "source": [
    "np.random.seed(100)\n",
    "a = np.random.uniform(1,50, 20)\n",
    "print(a.argsort())"
   ]
  },
  {
   "cell_type": "markdown",
   "metadata": {
    "id": "bz51DS4NI6KS"
   },
   "source": [
    "49. Compute the counts of unique values row-wise. **Input:**\n",
    "\n",
    "np.random.seed(100)\n",
    "\n",
    "arr = np.random.randint(1,11,size=(6, 10))"
   ]
  },
  {
   "cell_type": "code",
   "execution_count": null,
   "metadata": {
    "colab": {
     "base_uri": "https://localhost:8080/"
    },
    "id": "lsCpfmGnI5Wg",
    "outputId": "a9520d97-caba-432b-8fb0-742737274393"
   },
   "outputs": [
    {
     "name": "stdout",
     "output_type": "stream",
     "text": [
      "[ 1  2  3 ...  8  9 10]\n"
     ]
    },
    {
     "data": {
      "text/plain": [
       "[[1, 0, 2, 1, 1, 1, 0, 2, 2, 0],\n",
       " [2, 1, 3, 0, 1, 0, 1, 0, 1, 1],\n",
       " [0, 3, 0, 2, 3, 1, 0, 1, 0, 0],\n",
       " [1, 0, 2, 1, 0, 1, 0, 2, 1, 2],\n",
       " [2, 2, 2, 0, 0, 1, 1, 1, 1, 0],\n",
       " [1, 1, 1, 1, 1, 2, 0, 0, 2, 1]]"
      ]
     },
     "execution_count": 346,
     "metadata": {},
     "output_type": "execute_result"
    }
   ],
   "source": [
    "np.random.seed(100)\n",
    "arr = np.random.randint(1,11,size=(6, 10))\n",
    "def counts_of_all_values_rowwise(arr2d):\n",
    "    # Unique values and its counts row wise\n",
    "    num_counts_array = [np.unique(row, return_counts=True) for row in arr2d]\n",
    "\n",
    "    # Counts of all values row wise\n",
    "    return([[int(b[a==i]) if i in a else 0 for i in np.unique(arr2d)] for a, b in num_counts_array])\n",
    "print(np.arange(1,11))\n",
    "counts_of_all_values_rowwise(arr)"
   ]
  },
  {
   "cell_type": "markdown",
   "metadata": {
    "id": "J_eT-Q6NJfSB"
   },
   "source": [
    "50. Convert array_of_arrays into a flat linear 1d array. Input:\n",
    "\n",
    "**Input:**\n",
    "\n",
    "arr1 = np.arange(3)\n",
    "\n",
    "arr2 = np.arange(3,7)\n",
    "\n",
    "arr3 = np.arange(7,10)\n",
    "\n",
    "array_of_arrays = np.array([arr1, arr2, arr3])"
   ]
  },
  {
   "cell_type": "code",
   "execution_count": null,
   "metadata": {
    "colab": {
     "base_uri": "https://localhost:8080/"
    },
    "id": "ynsIsya4JHp-",
    "outputId": "02f8d40c-a12e-4cb9-db79-71bafe0de7e7"
   },
   "outputs": [
    {
     "name": "stdout",
     "output_type": "stream",
     "text": [
      "[0 1 2 ... 7 8 9]\n"
     ]
    },
    {
     "name": "stderr",
     "output_type": "stream",
     "text": [
      "/usr/local/lib/python3.7/dist-packages/ipykernel_launcher.py:5: VisibleDeprecationWarning: Creating an ndarray from ragged nested sequences (which is a list-or-tuple of lists-or-tuples-or ndarrays with different lengths or shapes) is deprecated. If you meant to do this, you must specify 'dtype=object' when creating the ndarray\n",
      "  \"\"\"\n"
     ]
    }
   ],
   "source": [
    "arr1 = np.arange(3)\n",
    "arr2 = np.arange(3,7)\n",
    "arr3 = np.arange(7,10)\n",
    "\n",
    "array_of_arrays = np.array([arr1, arr2, arr3])\n",
    "arr_2d = np.concatenate(array_of_arrays)\n",
    "print(arr_2d)\n"
   ]
  },
  {
   "cell_type": "markdown",
   "metadata": {
    "id": "nadagwAHL8M4"
   },
   "source": [
    "51. Compute the one-hot encodings (dummy binary variables for each unique value in the array) **Input:**\n",
    "\n",
    "np.random.seed(101) \n",
    "\n",
    "arr = np.random.randint(1,4, size=6)"
   ]
  },
  {
   "cell_type": "code",
   "execution_count": null,
   "metadata": {
    "colab": {
     "base_uri": "https://localhost:8080/"
    },
    "id": "O3JAUKqaMA7_",
    "outputId": "d9103699-341d-4459-ccd1-7ee02f1bca22"
   },
   "outputs": [
    {
     "data": {
      "text/plain": [
       "array([[0, 1, 0],\n",
       "       [0, 0, 1],\n",
       "       [0, 1, 0],\n",
       "       [0, 1, 0],\n",
       "       [0, 1, 0],\n",
       "       [1, 0, 0]], dtype=int8)"
      ]
     },
     "execution_count": 348,
     "metadata": {},
     "output_type": "execute_result"
    }
   ],
   "source": [
    "np.random.seed(101) \n",
    "arr = np.random.randint(1,4, size=6)\n",
    "(arr[:, None] == np.unique(arr)).view(np.int8)"
   ]
  },
  {
   "cell_type": "markdown",
   "metadata": {
    "id": "qn3X5t-1MMRj"
   },
   "source": [
    "52.  Create row numbers grouped by a categorical variable. Use the following sample from iris species as input. \n",
    "**Input:**\n",
    "\n",
    "url = 'https://archive.ics.uci.edu/ml/machine-learning-databases/iris/iris.data'\n",
    "\n",
    "species = np.genfromtxt(url, delimiter=',', dtype='str', usecols=4)\n",
    "\n",
    "species_small = np.sort(np.random.choice(species, size=20))"
   ]
  },
  {
   "cell_type": "code",
   "execution_count": null,
   "metadata": {
    "colab": {
     "base_uri": "https://localhost:8080/"
    },
    "id": "7-mKj02IMKhx",
    "outputId": "ff879975-1898-4e66-da54-fb31391efa57"
   },
   "outputs": [
    {
     "name": "stdout",
     "output_type": "stream",
     "text": [
      "[0, 1, 2, 3, 4, 0, 1, 2, 3, 4, 5, 6, 7, 8, 0, 1, 2, 3, 4, 5]\n"
     ]
    }
   ],
   "source": [
    "url = 'https://archive.ics.uci.edu/ml/machine-learning-databases/iris/iris.data'\n",
    "species = np.genfromtxt(url, delimiter=',', dtype='str', usecols=4)\n",
    "species_small = np.sort(np.random.choice(species, size=20))\n",
    "np.random.seed(100)\n",
    "species_small = np.sort(np.random.choice(species, size=20))\n",
    "\n",
    "print([i for val in np.unique(species_small) for i, grp in enumerate(species_small[species_small==val])])"
   ]
  },
  {
   "cell_type": "markdown",
   "metadata": {
    "id": "ifGfjIYfYzOb"
   },
   "source": [
    "56. Compute the maximum for each row in the given array. \n",
    "**Input:**\n",
    "\n",
    "np.random.seed(100)\n",
    "\n",
    "a = np.random.randint(1,10, [5,3])"
   ]
  },
  {
   "cell_type": "code",
   "execution_count": null,
   "metadata": {
    "colab": {
     "base_uri": "https://localhost:8080/"
    },
    "id": "-gKO14k9Yyen",
    "outputId": "a63fd151-e2a1-4ac7-bc48-6d6b858e80db"
   },
   "outputs": [
    {
     "data": {
      "text/plain": [
       "array([9, 8, 6, 3, 9])"
      ]
     },
     "execution_count": 350,
     "metadata": {},
     "output_type": "execute_result"
    }
   ],
   "source": [
    "np.random.seed(100)\n",
    "a = np.random.randint(1,10, [5,3])\n",
    "np.amax(a, axis=1)"
   ]
  },
  {
   "cell_type": "markdown",
   "metadata": {
    "id": "PzxY51FFZsQ8"
   },
   "source": [
    "57. Compute the min-by-max for each row for given 2d numpy array.\n",
    "\n",
    "**Input:**\n",
    "\n",
    "np.random.seed(100)\n",
    "\n",
    "a = np.random.randint(1,10, [5,3])"
   ]
  },
  {
   "cell_type": "code",
   "execution_count": null,
   "metadata": {
    "colab": {
     "base_uri": "https://localhost:8080/"
    },
    "id": "ZGATXOfAZrZ7",
    "outputId": "64d97dd0-b0a5-4038-c2ec-89017e1a3fe4"
   },
   "outputs": [
    {
     "data": {
      "text/plain": [
       "array([0.444, 0.125, 0.5  , 1.   , 0.111])"
      ]
     },
     "execution_count": 351,
     "metadata": {},
     "output_type": "execute_result"
    }
   ],
   "source": [
    "np.random.seed(100)\n",
    "a = np.random.randint(1,10, [5,3])\n",
    "np.apply_along_axis(lambda x: np.min(x)/np.max(x), arr=a, axis=1)"
   ]
  },
  {
   "cell_type": "markdown",
   "metadata": {
    "id": "kRVpBjWubh7C"
   },
   "source": [
    "58. Find the duplicate entries (2nd occurrence onwards) in the given numpy array and mark them as True. First time occurrences should be False\n",
    "\n",
    "Input:\n",
    "\n",
    "np.random.seed(100)\n",
    "\n",
    "a = np.random.randint(0, 5, 10)"
   ]
  },
  {
   "cell_type": "code",
   "execution_count": null,
   "metadata": {
    "colab": {
     "base_uri": "https://localhost:8080/"
    },
    "id": "olcT02xxbpii",
    "outputId": "6033887f-1fa5-420a-e6bd-a962a924694c"
   },
   "outputs": [
    {
     "name": "stdout",
     "output_type": "stream",
     "text": [
      "[False  True False ...  True  True  True]\n"
     ]
    }
   ],
   "source": [
    "np.random.seed(100)\n",
    "a = np.random.randint(0, 5, 10)\n",
    "out = np.full(a.shape[0], True)\n",
    "unique_positions = np.unique(a, return_index=True)[1]\n",
    "out[unique_positions] = False\n",
    "print(out)"
   ]
  },
  {
   "cell_type": "markdown",
   "metadata": {
    "id": "SVsSvDZAb09k"
   },
   "source": [
    "59. Find the mean of a numeric column grouped by a categorical column in a 2D numpy array."
   ]
  },
  {
   "cell_type": "code",
   "execution_count": null,
   "metadata": {
    "colab": {
     "base_uri": "https://localhost:8080/"
    },
    "id": "nc0RRhIjcM7X",
    "outputId": "8791e96c-03f2-4668-a50c-2e542d346221"
   },
   "outputs": [
    {
     "data": {
      "text/plain": [
       "[[b'Iris-setosa', 3.418],\n",
       " [b'Iris-versicolor', 2.7700000000000005],\n",
       " [b'Iris-virginica', 2.974]]"
      ]
     },
     "execution_count": 353,
     "metadata": {},
     "output_type": "execute_result"
    }
   ],
   "source": [
    "url = 'https://archive.ics.uci.edu/ml/machine-learning-databases/iris/iris.data'\n",
    "iris = np.genfromtxt(url, delimiter=',', dtype='object')\n",
    "names = ('sepallength', 'sepalwidth', 'petallength', 'petalwidth', 'species')\n",
    "\n",
    "numeric_column = iris[:, 1].astype('float')  \n",
    "grouping_column = iris[:, 4] \n",
    "\n",
    "[[group_val, numeric_column[grouping_column==group_val].mean()] for group_val in np.unique(grouping_column)]\n",
    "\n",
    "output = []\n",
    "for group_val in np.unique(grouping_column):\n",
    "    output.append([group_val, numeric_column[grouping_column==group_val].mean()])\n",
    "\n",
    "output"
   ]
  },
  {
   "cell_type": "markdown",
   "metadata": {
    "id": "nsCqDcBLcY3s"
   },
   "source": [
    "60. Import the image from the following URL and convert it to a numpy array. URL = ‘https://upload.wikimedia.org/wikipedia/commons/8/8b/Denali_Mt_McKinley.jpg’"
   ]
  },
  {
   "cell_type": "code",
   "execution_count": null,
   "metadata": {
    "colab": {
     "base_uri": "https://localhost:8080/"
    },
    "id": "XAgNDPsccSjq",
    "outputId": "7b5ecd0b-19ac-47c5-febc-b4c20cda8134",
    "scrolled": true
   },
   "outputs": [
    {
     "data": {
      "text/plain": [
       "array([[[  9,  72, 125],\n",
       "        [  9,  72, 125],\n",
       "        [  9,  72, 125],\n",
       "        ...,\n",
       "        [ 42, 103, 147],\n",
       "        [ 42, 103, 147],\n",
       "        [ 43, 104, 148]],\n",
       "\n",
       "       [[  9,  72, 125],\n",
       "        [  9,  72, 125],\n",
       "        [ 10,  73, 126],\n",
       "        ...,\n",
       "        [ 42, 103, 147],\n",
       "        [ 42, 103, 147],\n",
       "        [ 43, 104, 148]],\n",
       "\n",
       "       [[  9,  72, 125],\n",
       "        [ 10,  73, 126],\n",
       "        [ 10,  73, 126],\n",
       "        ...,\n",
       "        [ 44, 105, 150],\n",
       "        [ 45, 106, 151],\n",
       "        [ 45, 106, 151]],\n",
       "\n",
       "       ...,\n",
       "\n",
       "       [[ 21,  41,  50],\n",
       "        [ 29,  51,  64],\n",
       "        [ 28,  54,  69],\n",
       "        ...,\n",
       "        [ 27,  58,  79],\n",
       "        [ 22,  53,  74],\n",
       "        [ 19,  47,  69]],\n",
       "\n",
       "       [[ 27,  51,  63],\n",
       "        [ 29,  55,  68],\n",
       "        [ 27,  56,  72],\n",
       "        ...,\n",
       "        [ 33,  70,  97],\n",
       "        [ 27,  64,  91],\n",
       "        [ 22,  57,  85]],\n",
       "\n",
       "       [[ 18,  45,  56],\n",
       "        [ 20,  48,  62],\n",
       "        [ 21,  52,  70],\n",
       "        ...,\n",
       "        [ 15,  51,  77],\n",
       "        [ 12,  48,  74],\n",
       "        [ 11,  45,  72]]], dtype=uint8)"
      ]
     },
     "execution_count": 354,
     "metadata": {},
     "output_type": "execute_result"
    }
   ],
   "source": [
    "from io import BytesIO\n",
    "from PIL import Image\n",
    "import PIL, requests\n",
    "\n",
    "URL = 'https://upload.wikimedia.org/wikipedia/commons/8/8b/Denali_Mt_McKinley.jpg'\n",
    "response = requests.get(URL)\n",
    "\n",
    "I = Image.open(BytesIO(response.content))\n",
    "\n",
    "arr = np.asarray(I)\n",
    "arr"
   ]
  },
  {
   "cell_type": "markdown",
   "metadata": {
    "id": "vjAKg1HWc1si"
   },
   "source": [
    "61. Drop all nan values from a 1D numpy array \n",
    "\n",
    "Input: \n",
    "\n",
    "np.array([1,2,3,np.nan,5,6,7,np.nan]) \n",
    "\n",
    "Desired Output:\n",
    "\n",
    "array([ 1.,  2.,  3.,  5.,  6.,  7.])"
   ]
  },
  {
   "cell_type": "code",
   "execution_count": null,
   "metadata": {
    "colab": {
     "base_uri": "https://localhost:8080/"
    },
    "id": "VZG1WFlBc-5p",
    "outputId": "f622c128-33f1-475a-a435-49ea22711187"
   },
   "outputs": [
    {
     "data": {
      "text/plain": [
       "array([1., 2., 3., 5., 6., 7.])"
      ]
     },
     "execution_count": 355,
     "metadata": {},
     "output_type": "execute_result"
    }
   ],
   "source": [
    "a = np.array([1,2,3,np.nan,5,6,7,np.nan])\n",
    "a[~np.isnan(a)]"
   ]
  },
  {
   "cell_type": "markdown",
   "metadata": {
    "id": "kkQ2RHB2dZii"
   },
   "source": [
    "62. Compute the euclidean distance between two arrays a and b.\n",
    "\n",
    "a = np.array([1,2,3,4,5])\n",
    "\n",
    "b = np.array([4,5,6,7,8])"
   ]
  },
  {
   "cell_type": "code",
   "execution_count": null,
   "metadata": {
    "colab": {
     "base_uri": "https://localhost:8080/"
    },
    "id": "KUs-CHYQd_m4",
    "outputId": "279d1a20-d03c-4ea4-d103-9ea70be0506d"
   },
   "outputs": [
    {
     "data": {
      "text/plain": [
       "6.708203932499369"
      ]
     },
     "execution_count": 356,
     "metadata": {},
     "output_type": "execute_result"
    }
   ],
   "source": [
    "a = np.array([1,2,3,4,5])\n",
    "b = np.array([4,5,6,7,8])\n",
    "\n",
    "dist = np.linalg.norm(a-b)\n",
    "dist"
   ]
  },
  {
   "cell_type": "markdown",
   "metadata": {
    "id": "zQa3vryieNzU"
   },
   "source": [
    "63. Find all the peaks in a 1D numpy array a. Peaks are points surrounded by smaller values on both sides. \n",
    "\n",
    "Input: \n",
    "\n",
    "a = np.array([1, 3, 7, 1, 2, 6, 0, 1])"
   ]
  },
  {
   "cell_type": "code",
   "execution_count": null,
   "metadata": {
    "colab": {
     "base_uri": "https://localhost:8080/"
    },
    "id": "UmkPNP0Fecv4",
    "outputId": "23ec5a4d-89a0-43ad-ca42-75f08d1c5009"
   },
   "outputs": [
    {
     "data": {
      "text/plain": [
       "array([2, 5])"
      ]
     },
     "execution_count": 357,
     "metadata": {},
     "output_type": "execute_result"
    }
   ],
   "source": [
    "a = np.array([1, 3, 7, 1, 2, 6, 0, 1])\n",
    "doublediff = np.diff(np.sign(np.diff(a)))\n",
    "peak_locations = np.where(doublediff == -2)[0] + 1\n",
    "peak_locations"
   ]
  },
  {
   "cell_type": "markdown",
   "metadata": {
    "id": "XkUj4pQbeh8y"
   },
   "source": [
    "64. Subtract the 1d array b_1d from the 2d array a_2d, such that each item of b_1d subtracts from respective row of a_2d.\n",
    "\n",
    "a_2d = np.array([[3,3,3],[4,4,4],[5,5,5]])\n",
    "\n",
    "b_1d = np.array([1,1,1]"
   ]
  },
  {
   "cell_type": "code",
   "execution_count": null,
   "metadata": {
    "colab": {
     "base_uri": "https://localhost:8080/"
    },
    "id": "Gfeh3ZLQetfi",
    "outputId": "8971b9eb-a489-467f-eefb-24efb25e0c43"
   },
   "outputs": [
    {
     "name": "stdout",
     "output_type": "stream",
     "text": [
      "[[2 2 2]\n",
      " [2 2 2]\n",
      " [2 2 2]]\n"
     ]
    }
   ],
   "source": [
    "a_2d = np.array([[3,3,3],[4,4,4],[5,5,5]])\n",
    "b_1d = np.array([1,2,3])\n",
    "\n",
    "print(a_2d - b_1d[:,None])"
   ]
  },
  {
   "cell_type": "markdown",
   "metadata": {
    "id": "Tqeq_665fAC6"
   },
   "source": [
    "65. Find the index of 5th repetition of number 1 in x.\n",
    "\n",
    "x = np.array([1, 2, 1, 1, 3, 4, 3, 1, 1, 2, 1, 1, 2])"
   ]
  },
  {
   "cell_type": "code",
   "execution_count": null,
   "metadata": {
    "colab": {
     "base_uri": "https://localhost:8080/"
    },
    "id": "cn62a863e07x",
    "outputId": "ac77e25e-e39f-4997-f733-b470c3334407"
   },
   "outputs": [
    {
     "data": {
      "text/plain": [
       "8"
      ]
     },
     "execution_count": 359,
     "metadata": {},
     "output_type": "execute_result"
    }
   ],
   "source": [
    "x = np.array([1, 2, 1, 1, 3, 4, 3, 1, 1, 2, 1, 1, 2])\n",
    "n = 5\n",
    "\n",
    "[i for i, v in enumerate(x) if v == 1][n-1]\n",
    "\n",
    "np.where(x == 1)[0][n-1]"
   ]
  },
  {
   "cell_type": "markdown",
   "metadata": {
    "id": "kcBGQ6hAfOqJ"
   },
   "source": [
    "66. Convert numpy’s datetime64 object to datetime’s datetime object"
   ]
  },
  {
   "cell_type": "code",
   "execution_count": null,
   "metadata": {
    "colab": {
     "base_uri": "https://localhost:8080/"
    },
    "id": "dOy2NnhCfhgY",
    "outputId": "80108d5e-941d-4330-b553-3a6882809d5e"
   },
   "outputs": [
    {
     "data": {
      "text/plain": [
       "datetime.datetime(2018, 2, 25, 22, 10, 10)"
      ]
     },
     "execution_count": 360,
     "metadata": {},
     "output_type": "execute_result"
    }
   ],
   "source": [
    "dt64 = np.datetime64('2018-02-25 22:10:10')\n",
    "\n",
    "from datetime import datetime\n",
    "dt64.tolist()\n",
    "\n",
    "dt64.astype(datetime)"
   ]
  },
  {
   "cell_type": "markdown",
   "metadata": {
    "id": "8VmHC15QfpXB"
   },
   "source": [
    "67. Compute the moving average of window size 3, for the given 1D array. \n",
    "\n",
    "Input:\n",
    "\n",
    "np.random.seed(100)\n",
    "\n",
    "Z = np.random.randint(10, size=10)"
   ]
  },
  {
   "cell_type": "code",
   "execution_count": null,
   "metadata": {
    "colab": {
     "base_uri": "https://localhost:8080/"
    },
    "id": "bk1llz0afvyJ",
    "outputId": "e70daf21-d9c4-4d3a-c027-1600e1c5ff12"
   },
   "outputs": [
    {
     "name": "stdout",
     "output_type": "stream",
     "text": [
      "array:  [8 8 3 ... 2 5 2]\n"
     ]
    },
    {
     "data": {
      "text/plain": [
       "array([6.33, 6.  , 5.67, ..., 2.  , 3.67, 3.  ])"
      ]
     },
     "execution_count": 361,
     "metadata": {},
     "output_type": "execute_result"
    }
   ],
   "source": [
    "def moving_average(a, n=3) :\n",
    "    ret = np.cumsum(a, dtype=float)\n",
    "    ret[n:] = ret[n:] - ret[:-n]\n",
    "    return ret[n - 1:] / n\n",
    "\n",
    "np.random.seed(100)\n",
    "Z = np.random.randint(10, size=10)\n",
    "print('array: ', Z)\n",
    "\n",
    "moving_average(Z, n=3).round(2)"
   ]
  },
  {
   "cell_type": "markdown",
   "metadata": {
    "id": "Yt5eQebbgBZp"
   },
   "source": [
    "68. Create a numpy array of length 10, starting from 5 and has a step of 3 between consecutive numbers."
   ]
  },
  {
   "cell_type": "code",
   "execution_count": null,
   "metadata": {
    "colab": {
     "base_uri": "https://localhost:8080/"
    },
    "id": "xTmg339if3BN",
    "outputId": "c9bf7184-a66b-4964-b83b-f59f5a3dc371"
   },
   "outputs": [
    {
     "data": {
      "text/plain": [
       "array([ 5,  8, 11, ..., 26, 29, 32])"
      ]
     },
     "execution_count": 362,
     "metadata": {},
     "output_type": "execute_result"
    }
   ],
   "source": [
    "length = 10\n",
    "start = 5\n",
    "step = 3\n",
    "\n",
    "def seq(start, length, step):\n",
    "    end = start + (step*length)\n",
    "    return np.arange(start, end, step)\n",
    "\n",
    "seq(start, length, step)"
   ]
  },
  {
   "cell_type": "markdown",
   "metadata": {
    "id": "6itHVH5jgxHx"
   },
   "source": [
    "69. Given an array of a non-continuous sequence of dates. Make it a continuous sequence of dates, by filling in the missing dates. \n",
    "\n",
    "**Input:**\n",
    "\n",
    "dates = np.arange(np.datetime64('2018-02-01'), np.datetime64('2018-02-25'), 2)"
   ]
  },
  {
   "cell_type": "code",
   "execution_count": null,
   "metadata": {
    "colab": {
     "base_uri": "https://localhost:8080/"
    },
    "id": "qCiUjt17gS-l",
    "outputId": "c23fa5bd-d733-4c45-a51e-56343d6596b1"
   },
   "outputs": [
    {
     "name": "stdout",
     "output_type": "stream",
     "text": [
      "['2018-02-01' '2018-02-03' '2018-02-05' ... '2018-02-19' '2018-02-21'\n",
      " '2018-02-23']\n"
     ]
    },
    {
     "data": {
      "text/plain": [
       "array(['2018-02-01', '2018-02-02', '2018-02-03', ..., '2018-02-21',\n",
       "       '2018-02-22', '2018-02-23'], dtype='datetime64[D]')"
      ]
     },
     "execution_count": 363,
     "metadata": {},
     "output_type": "execute_result"
    }
   ],
   "source": [
    "dates = np.arange(np.datetime64('2018-02-01'), np.datetime64('2018-02-25'), 2)\n",
    "print(dates)\n",
    "\n",
    "filled_in = np.array([np.arange(date, (date+d)) for date, d in zip(dates, np.diff(dates))]).reshape(-1)\n",
    "\n",
    "output = np.hstack([filled_in, dates[-1]])\n",
    "output\n",
    "\n",
    "out = []\n",
    "for date, d in zip(dates, np.diff(dates)):\n",
    "    out.append(np.arange(date, (date+d)))\n",
    "\n",
    "filled_in = np.array(out).reshape(-1)\n",
    "\n",
    "output = np.hstack([filled_in, dates[-1]])\n",
    "output"
   ]
  },
  {
   "cell_type": "markdown",
   "metadata": {
    "id": "sJsaRqxuhm7h"
   },
   "source": [
    "70. From the given 1d array arr, generate a 2d matrix using strides, with a window length of 4 and strides of 2, like [[0,1,2,3], [2,3,4,5], [4,5,6,7]..] \n",
    "\n",
    "Input:\n",
    "\n",
    "arr = np.arange(15) \n",
    "\n",
    "arr"
   ]
  },
  {
   "cell_type": "code",
   "execution_count": null,
   "metadata": {
    "colab": {
     "base_uri": "https://localhost:8080/"
    },
    "id": "Zc_Osq5fh3Nf",
    "outputId": "28ad5e5b-d451-46fc-ea25-a4619508124d"
   },
   "outputs": [
    {
     "name": "stdout",
     "output_type": "stream",
     "text": [
      "[[ 0  1  2  3]\n",
      " [ 2  3  4  5]\n",
      " [ 4  5  6  7]\n",
      " [ 6  7  8  9]\n",
      " [ 8  9 10 11]\n",
      " [10 11 12 13]]\n"
     ]
    }
   ],
   "source": [
    "def gen_strides(a, stride_len=5, window_len=5):\n",
    "    n_strides = ((a.size-window_len)//stride_len) + 1\n",
    "    return np.array([a[s:(s+window_len)] for s in np.arange(0, n_strides*stride_len, stride_len)])\n",
    "\n",
    "print(gen_strides(np.arange(15), stride_len=2, window_len=4))"
   ]
  },
  {
   "cell_type": "markdown",
   "metadata": {
    "id": "x4yMWEqhioXh"
   },
   "source": [
    "71. Given a numpy array (matrix), how to get a numpy array output which is equal to the original matrix multiplied by a scalar?"
   ]
  },
  {
   "cell_type": "code",
   "execution_count": null,
   "metadata": {
    "colab": {
     "base_uri": "https://localhost:8080/"
    },
    "id": "q8lMXqKCkD70",
    "outputId": "eed54f3c-532b-41aa-c923-f007043a2876"
   },
   "outputs": [
    {
     "name": "stdout",
     "output_type": "stream",
     "text": [
      "[[ 2  4  6]\n",
      " [ 8 10 12]]\n"
     ]
    }
   ],
   "source": [
    "a = np.array([[1,2,3],\n",
    "              [4,5,6]])\n",
    "b = 2*a \n",
    "print(b)"
   ]
  },
  {
   "cell_type": "markdown",
   "metadata": {
    "id": "OJrqIBzxk0N4"
   },
   "source": [
    "72. Convert all the elements of a numpy array from float to integer datatype"
   ]
  },
  {
   "cell_type": "code",
   "execution_count": null,
   "metadata": {
    "colab": {
     "base_uri": "https://localhost:8080/"
    },
    "id": "fIFtJ0VDkJzC",
    "outputId": "95023831-3664-4c39-f1ee-6af34c8952fd"
   },
   "outputs": [
    {
     "name": "stdout",
     "output_type": "stream",
     "text": [
      "[[2 3 1]\n",
      " [4 2 1]]\n"
     ]
    }
   ],
   "source": [
    "a = np.array([[2.5, 3.8, 1.5],\n",
    "              [4.7, 2.9, 1.56]])\n",
    "o = a.astype('int')\n",
    "print(o)"
   ]
  },
  {
   "cell_type": "markdown",
   "metadata": {
    "id": "kz1eFXAWlEpP"
   },
   "source": [
    "73. Convert a binary numpy array (containing only 0s and 1s) to a boolean numpy array"
   ]
  },
  {
   "cell_type": "code",
   "execution_count": null,
   "metadata": {
    "colab": {
     "base_uri": "https://localhost:8080/"
    },
    "id": "PWFV2rN1k-5b",
    "outputId": "c9971996-3ced-48e0-b4aa-64798bad2ec0"
   },
   "outputs": [
    {
     "name": "stdout",
     "output_type": "stream",
     "text": [
      "[[ True False False]\n",
      " [ True  True  True]\n",
      " [False False False]]\n"
     ]
    }
   ],
   "source": [
    "a = np.array([[1, 0, 0],\n",
    "              [1, 1, 1],\n",
    "              [0, 0, 0]])\n",
    "o = a.astype('bool')\n",
    "print(o)"
   ]
  },
  {
   "cell_type": "markdown",
   "metadata": {
    "id": "ccT3VWMulhDW"
   },
   "source": [
    "74. Generate a sequence of numbers in the form of a numpy array from 0 to 100 with gaps of 2 numbers, for example: 0, 2, 4 ...."
   ]
  },
  {
   "cell_type": "code",
   "execution_count": null,
   "metadata": {
    "colab": {
     "base_uri": "https://localhost:8080/"
    },
    "id": "jtNOjPESli_C",
    "outputId": "455a9cfb-edbf-466b-f466-b6a1fcc065f1"
   },
   "outputs": [
    {
     "name": "stdout",
     "output_type": "stream",
     "text": [
      "[  0   2   4 ...  96  98 100]\n"
     ]
    }
   ],
   "source": [
    "list_of_numbers = [x for x in range(0, 101, 2)]\n",
    "o = np.array(list_of_numbers)\n",
    "print(o)"
   ]
  },
  {
   "cell_type": "markdown",
   "metadata": {
    "id": "YaqcU3y3l8Kp"
   },
   "source": [
    "75. From 2 numpy arrays, extract the indexes in which the elements in the 2 arrays match."
   ]
  },
  {
   "cell_type": "code",
   "execution_count": null,
   "metadata": {
    "colab": {
     "base_uri": "https://localhost:8080/"
    },
    "id": "yWs1DNN3l-my",
    "outputId": "d1c83976-6b69-4350-f69a-f585a1370578"
   },
   "outputs": [
    {
     "name": "stdout",
     "output_type": "stream",
     "text": [
      "(array([0, 3, 4, 7]),)\n"
     ]
    }
   ],
   "source": [
    "a = np.array([1,2,3,4,5,6,7,8])\n",
    "b = np.array([1,3,2,4,5,7,6,8])\n",
    "print(np.where(a == b))"
   ]
  },
  {
   "cell_type": "markdown",
   "metadata": {
    "id": "5lxqVwx8mgd-"
   },
   "source": [
    "76. Given 2 numpy arrays as matrices, output the result of multiplying the 2 matrices (as a numpy array)"
   ]
  },
  {
   "cell_type": "code",
   "execution_count": null,
   "metadata": {
    "colab": {
     "base_uri": "https://localhost:8080/"
    },
    "id": "8359ueC-mfIW",
    "outputId": "e9390843-09d9-4f5d-8391-aabb32bebe90"
   },
   "outputs": [
    {
     "name": "stdout",
     "output_type": "stream",
     "text": [
      "[[ 36  42  48]\n",
      " [ 81  96 111]\n",
      " [126 150 174]]\n"
     ]
    }
   ],
   "source": [
    "a = np.array([[1,2,3],\n",
    "              [4,5,6],\n",
    "              [7,8,9]])\n",
    "b = np.array([[2,3,4],\n",
    "              [5,6,7],\n",
    "              [8,9,10]])\n",
    "o = a@b\n",
    "print(o)"
   ]
  },
  {
   "cell_type": "markdown",
   "metadata": {
    "id": "TatorDOEmnvP"
   },
   "source": [
    "77. Output the transpose of a matrix (as numpy array)"
   ]
  },
  {
   "cell_type": "code",
   "execution_count": null,
   "metadata": {
    "colab": {
     "base_uri": "https://localhost:8080/"
    },
    "id": "quJZmEzYmmW2",
    "outputId": "d4fcceb4-a7d2-406c-fda1-a1392fd70124"
   },
   "outputs": [
    {
     "name": "stdout",
     "output_type": "stream",
     "text": [
      "[[1 4 7]\n",
      " [2 5 8]\n",
      " [3 6 9]]\n"
     ]
    }
   ],
   "source": [
    "a = np.array([[1,2,3],\n",
    "              [4,5,6],\n",
    "              [7,8,9]])\n",
    "a_transpose = a.T\n",
    "print(a_transpose)"
   ]
  },
  {
   "cell_type": "markdown",
   "metadata": {
    "id": "x6WpXCwYnBW2"
   },
   "source": [
    "78. Output the array element indexes such that the array elements appear in the ascending order"
   ]
  },
  {
   "cell_type": "code",
   "execution_count": null,
   "metadata": {
    "colab": {
     "base_uri": "https://localhost:8080/"
    },
    "id": "bZNVn9CrnEA9",
    "outputId": "2ec05c9d-d803-4496-9aed-6331a1c10520"
   },
   "outputs": [
    {
     "name": "stdout",
     "output_type": "stream",
     "text": [
      "[1 3 2 0]\n"
     ]
    }
   ],
   "source": [
    "array = np.array([10,1,5,2])\n",
    "indexes = np.argsort(array)\n",
    "print(indexes)"
   ]
  },
  {
   "cell_type": "markdown",
   "metadata": {
    "id": "3vuwQq2rno7O"
   },
   "source": [
    "79. Make an array immutable (read-only) "
   ]
  },
  {
   "cell_type": "code",
   "execution_count": null,
   "metadata": {
    "id": "FsHXDmSHnlYy"
   },
   "outputs": [],
   "source": [
    "Z = np.zeros(10)\n",
    "Z.flags.writeable = False"
   ]
  },
  {
   "cell_type": "markdown",
   "metadata": {
    "id": "J1-B5ShIn1GX"
   },
   "source": [
    "80. Create a structured array representing a position (x,y) and a color (r,g,b)"
   ]
  },
  {
   "cell_type": "code",
   "execution_count": null,
   "metadata": {
    "colab": {
     "base_uri": "https://localhost:8080/"
    },
    "id": "cVGh87f4oFCu",
    "outputId": "84ee41d7-8a37-4565-d99f-6d1b0518ba5e"
   },
   "outputs": [
    {
     "name": "stdout",
     "output_type": "stream",
     "text": [
      "[((0., 0.), (0., 0., 0.)) ((0., 0.), (0., 0., 0.))\n",
      " ((0., 0.), (0., 0., 0.)) ... ((0., 0.), (0., 0., 0.))\n",
      " ((0., 0.), (0., 0., 0.)) ((0., 0.), (0., 0., 0.))]\n"
     ]
    },
    {
     "name": "stderr",
     "output_type": "stream",
     "text": [
      "/usr/local/lib/python3.7/dist-packages/ipykernel_launcher.py:5: FutureWarning: Passing (type, 1) or '1type' as a synonym of type is deprecated; in a future version of numpy, it will be understood as (type, (1,)) / '(1,)type'.\n",
      "  \"\"\"\n"
     ]
    }
   ],
   "source": [
    "Z = np.zeros(10, [ ('position', [ ('x', float, 1),\n",
    "                                  ('y', float, 1)]),\n",
    "                   ('color',    [ ('r', float, 1),\n",
    "                                  ('g', float, 1),\n",
    "                                  ('b', float, 1)])])\n",
    "print(Z)"
   ]
  },
  {
   "cell_type": "markdown",
   "metadata": {
    "id": "qiHTqVtboKCv"
   },
   "source": [
    "81. Subtract the mean of each row of a matrix."
   ]
  },
  {
   "cell_type": "code",
   "execution_count": null,
   "metadata": {
    "colab": {
     "base_uri": "https://localhost:8080/"
    },
    "id": "shY9w17UoIds",
    "outputId": "5b197305-fca0-4814-d1bf-5056a4723a74"
   },
   "outputs": [
    {
     "name": "stdout",
     "output_type": "stream",
     "text": [
      "[[-0.247 -0.004  0.413 ... -0.451 -0.15   0.493]\n",
      " [-0.319 -0.367 -0.134 ... -0.147  0.123 -0.267]\n",
      " [ 0.124  0.238 -0.267 ... -0.004  0.034 -0.378]\n",
      " [ 0.251  0.026 -0.144 ...  0.338 -0.45   0.3  ]\n",
      " [ 0.455 -0.306 -0.37  ... -0.273  0.52   0.414]]\n"
     ]
    }
   ],
   "source": [
    "X = np.random.rand(5, 10)\n",
    "Y = X - X.mean(axis=1, keepdims=True)\n",
    "Y = X - X.mean(axis=1).reshape(-1, 1)\n",
    "print(Y)"
   ]
  },
  {
   "cell_type": "markdown",
   "metadata": {
    "id": "MPCBdzB2pHze"
   },
   "source": [
    "82. Sort an array by the nth column"
   ]
  },
  {
   "cell_type": "code",
   "execution_count": null,
   "metadata": {
    "colab": {
     "base_uri": "https://localhost:8080/"
    },
    "id": "YWgJNSxVpPua",
    "outputId": "2ef097e3-9d50-45de-a8ee-789af08c22cd"
   },
   "outputs": [
    {
     "name": "stdout",
     "output_type": "stream",
     "text": [
      "[[4 5 7]\n",
      " [6 6 2]\n",
      " [4 2 7]]\n",
      "[[4 2 7]\n",
      " [4 5 7]\n",
      " [6 6 2]]\n"
     ]
    }
   ],
   "source": [
    "Z = np.random.randint(0,10,(3,3))\n",
    "print(Z)\n",
    "print(Z[Z[:,1].argsort()])"
   ]
  },
  {
   "cell_type": "markdown",
   "metadata": {
    "id": "klOlCNGQpT7V"
   },
   "source": [
    "83. Find if a given 2D array has null columns"
   ]
  },
  {
   "cell_type": "code",
   "execution_count": null,
   "metadata": {
    "colab": {
     "base_uri": "https://localhost:8080/"
    },
    "id": "Wi84dLf8pS8N",
    "outputId": "2a87a7b1-b991-410a-97ad-c07b8084c907"
   },
   "outputs": [
    {
     "name": "stdout",
     "output_type": "stream",
     "text": [
      "False\n"
     ]
    }
   ],
   "source": [
    "Z = np.random.randint(0,3,(3,10))\n",
    "print((~Z.any(axis=0)).any())"
   ]
  },
  {
   "cell_type": "markdown",
   "metadata": {
    "id": "_zcFixgEpm3m"
   },
   "source": [
    "84. Find the nearest value from a given value in an array"
   ]
  },
  {
   "cell_type": "code",
   "execution_count": null,
   "metadata": {
    "colab": {
     "base_uri": "https://localhost:8080/"
    },
    "id": "B0ccGXyTpazu",
    "outputId": "1f02c805-b80d-43f1-feda-47aa71c672bb"
   },
   "outputs": [
    {
     "name": "stdout",
     "output_type": "stream",
     "text": [
      "0.5030544894489398\n"
     ]
    }
   ],
   "source": [
    "Z = np.random.uniform(0,1,10)\n",
    "z = 0.5\n",
    "m = Z.flat[np.abs(Z - z).argmin()]\n",
    "print(m)"
   ]
  },
  {
   "cell_type": "markdown",
   "metadata": {
    "id": "F6_0yw2gq-7d"
   },
   "source": [
    "85. Print all the values of an array."
   ]
  },
  {
   "cell_type": "code",
   "execution_count": null,
   "metadata": {},
   "outputs": [],
   "source": [
    "np.set_printoptions(threshold=float(\"inf\"))\n",
    "Z = np.zeros((40,40))\n",
    "print(Z)"
   ]
  },
  {
   "cell_type": "markdown",
   "metadata": {
    "id": "WBKImQFIrUEl"
   },
   "source": [
    "86. Create random vector of size 10 and replace the maximum value by 0."
   ]
  },
  {
   "cell_type": "code",
   "execution_count": null,
   "metadata": {
    "colab": {
     "base_uri": "https://localhost:8080/"
    },
    "id": "Uvjon7r0rE3C",
    "outputId": "2998af27-c8fc-4c37-d515-b15f4241f4fc"
   },
   "outputs": [
    {
     "name": "stdout",
     "output_type": "stream",
     "text": [
      "[0.    0.387 0.462 0.579 0.114 0.368 0.361 0.88  0.275 0.225]\n"
     ]
    }
   ],
   "source": [
    "Z = np.random.random(10)\n",
    "Z[Z.argmax()] = 0\n",
    "print(Z)"
   ]
  },
  {
   "cell_type": "markdown",
   "metadata": {
    "id": "lFb7co8OwH6t"
   },
   "source": []
  }
 ],
 "metadata": {
  "colab": {
   "collapsed_sections": [
    "KUt07ALjF1RF",
    "96ebxSUrF1RK",
    "XZBhngA5F1RL",
    "qj9GekeBF1RM",
    "fSPoJXYgF1RO",
    "iSolFlpIF1RP",
    "kJ0fzcylF1RP",
    "_ETrw9f5F1RQ",
    "MaY8iI-SF1RR",
    "EriAoPyjF1RR",
    "M9VCIBFYF1RS",
    "KPa2rN9OF1RS",
    "SHYkBvs-F1RT",
    "PzyyGbsBF1RT",
    "6zFJUdHyF1RT",
    "1I6lKE7ZF1RU",
    "Nkps2d4iF1RU",
    "Ibh1lX3MF1RU",
    "CZRlZiYAF1RV",
    "6n0IJv41F1RV",
    "1rau3V9OF1RV",
    "t117CXMnF1RW",
    "IIlfaqitF1RW",
    "UwzY_jaoF1RW",
    "sKQ72uXoF1RX",
    "jMvvrRJoF1RX",
    "hxXd1ZE3F1RX",
    "WOqG0Y_XF1RY",
    "YJpwS7dfF1RY",
    "DcnqlSQxF1RY",
    "v3Imsd80F1RY",
    "jXxSIgs7F1RZ",
    "ontU9EvRF1RZ",
    "LRHZQGtVF1RZ",
    "d9vzPc0CF1Ra",
    "pJuGrHWTF1Ra",
    "qmOijWLYF1Ra",
    "nIj6fDwwF1Ra",
    "Y3t5bm5jF1Rb",
    "2N8IKlsAF1Rb",
    "cKuLagWGF1Rb",
    "pw47i-tmF1Rc",
    "0VD20thLF1Rc",
    "6nGlb5LKF1Rc",
    "qQoOWU-oF1Rc",
    "oU0EcXJrF1Rd",
    "nEp1OBJGF1Rd",
    "ml2rOrUHF1Rd",
    "BRRCxD4YF1Rd",
    "C3ZSQMtvF1Re",
    "TsObnkQuF1Re",
    "JTEsWE7fF1Re",
    "oCb9f9tTF1Rf",
    "uelR45-CF1Rf",
    "s-YzLo_2F1Rf",
    "a-0OjX-qF1Rf",
    "ll4EIxbuF1Rg",
    "XCv7PRjlF1Rg",
    "cDCCSQZ8F1Rg",
    "HOOWWemjF1Rh",
    "dlIWQoxTF1Rh",
    "ojtDA5_jF1Rh",
    "F5Kb2PXnF1Rh",
    "pfFtzd-BF1Ri",
    "R4SHgvHKF1Ri",
    "RCTYmlTxF1Ri",
    "s0IiOT86F1Ri",
    "m0SrtsNRF1Rj",
    "Kf5PMQlxF1Rj",
    "UgRhqnQAF1Rj",
    "qzSD9xqqF1Rk",
    "Ykml19aUF1Rk",
    "XaSS4OmZF1Rk",
    "gujEWDzwF1Rk",
    "QE8_ob0hF1Rl",
    "jAESaFbCF1Rl",
    "sw0iIglmF1Rl",
    "Q0bqwelsF1Rm",
    "Tx5giaUjF1Rm",
    "dRzYyQ6uF1Rm",
    "Vkg7lq0oF1Rm",
    "OvRWG6XtF1Rn",
    "ZBgPbBAMF1Rn",
    "_K-jIhT8F1Rn",
    "J5awk6B7F1Rn",
    "BLee7fGrF1Ro",
    "zuosHiq0F1Ro",
    "Q3KeT5rDF1Ro",
    "1-pdUHzwF1Ro",
    "su0IdKkrF1Rp",
    "AUI7Zx_8F1Rp",
    "dEGDw-yqF1Rp",
    "CqjeIm6AF1Rp",
    "Qkr3qfUtF1Rq",
    "pJwP3hciF1Rq",
    "gnAkjIblF1Rq",
    "uiCvgLzAF1Rq",
    "nf7UsmqhF1Rr",
    "rKYN0SPszB-t",
    "-sFQ3fG4zB-u",
    "24Ke5letzB-x",
    "jBdGdhPHzB-y",
    "Nq8QoUQzzB-0",
    "twrFFMdSzB-1",
    "jX1GEJfvzB-2",
    "UnL23Re0zB-2",
    "qy2E0cT9zB-3",
    "R8EecudgzB-4",
    "weplLMTFzB-5"
   ],
   "name": "Numpy Practice Questions.ipynb",
   "provenance": []
  },
  "kernelspec": {
   "display_name": "Python 3 (ipykernel)",
   "language": "python",
   "name": "python3"
  },
  "language_info": {
   "codemirror_mode": {
    "name": "ipython",
    "version": 3
   },
   "file_extension": ".py",
   "mimetype": "text/x-python",
   "name": "python",
   "nbconvert_exporter": "python",
   "pygments_lexer": "ipython3",
   "version": "3.9.7"
  }
 },
 "nbformat": 4,
 "nbformat_minor": 1
}
